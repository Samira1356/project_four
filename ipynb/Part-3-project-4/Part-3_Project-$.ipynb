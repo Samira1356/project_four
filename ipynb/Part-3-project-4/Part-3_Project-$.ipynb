{
 "cells": [
  {
   "cell_type": "code",
   "execution_count": 1,
   "metadata": {
    "collapsed": true
   },
   "outputs": [],
   "source": [
    "import psycopg2 as pg2\n",
    "from psycopg2.extras import RealDictCursor\n",
    "from pandas import DataFrame\n",
    "import matplotlib.pyplot as plt\n",
    "import numpy as np\n",
    "import pandas as pd\n",
    "import seaborn as sns\n",
    "from sklearn.model_selection import train_test_split, GridSearchCV\n",
    "from sklearn.feature_extraction.text import TfidfVectorizer, CountVectorizer\n",
    "\n",
    "from sklearn.ensemble import RandomForestClassifier\n",
    "from sklearn.decomposition import TruncatedSVD\n",
    "from sklearn.pipeline import Pipeline\n",
    "\n",
    "%matplotlib inline"
   ]
  },
  {
   "cell_type": "code",
   "execution_count": 2,
   "metadata": {
    "collapsed": true
   },
   "outputs": [],
   "source": [
    "connection = pg2.connect(host='postgres',\n",
    "                         user='postgres',\n",
    "                         database='postgres')"
   ]
  },
  {
   "cell_type": "code",
   "execution_count": 3,
   "metadata": {
    "collapsed": true
   },
   "outputs": [],
   "source": [
    "#Contains our connection credentials and returns a connection and cursor.\n",
    "def connect_to_db():\n",
    "    con = pg2.connect(host='postgres', \n",
    "                      dbname='postgres', \n",
    "                      user='postgres')\n",
    "    cur = con.cursor(cursor_factory=RealDictCursor)\n",
    "    return con, cur\n",
    "\n",
    "\n",
    "#creates a connection and a cursor\n",
    "#uses the cursor to execute a query\n",
    "#if fetch_res is True it fetches the results, otherwise results are None\n",
    "#closes the connection and returns results\n",
    "def query_to_dictionary(query, fetch_res=True):\n",
    "    con, cur = connect_to_db()\n",
    "    cur.execute(query)\n",
    "    if fetch_res:\n",
    "        results = cur.fetchall()\n",
    "    else:\n",
    "        results = None\n",
    "    con.close()\n",
    "    return results\n",
    "\n",
    "def query_to_dataframe(query):\n",
    "    return DataFrame(query_to_dictionary(query))"
   ]
  },
  {
   "cell_type": "code",
   "execution_count": 5,
   "metadata": {
    "collapsed": true
   },
   "outputs": [],
   "source": [
    "content_q_df = query_to_dataframe(\"\"\"\n",
    "    SELECT category as title, content as category, pageid, title as content\n",
    "    FROM contents\"\"\"\n",
    ")"
   ]
  },
  {
   "cell_type": "code",
   "execution_count": 6,
   "metadata": {},
   "outputs": [
    {
     "data": {
      "text/html": [
       "<div>\n",
       "<table border=\"1\" class=\"dataframe\">\n",
       "  <thead>\n",
       "    <tr style=\"text-align: right;\">\n",
       "      <th></th>\n",
       "      <th>category</th>\n",
       "      <th>content</th>\n",
       "      <th>pageid</th>\n",
       "      <th>title</th>\n",
       "    </tr>\n",
       "  </thead>\n",
       "  <tbody>\n",
       "    <tr>\n",
       "      <th>0</th>\n",
       "      <td>Business_Software</td>\n",
       "      <td>Business software or a business application is...</td>\n",
       "      <td>1037763</td>\n",
       "      <td>Business software</td>\n",
       "    </tr>\n",
       "    <tr>\n",
       "      <th>1</th>\n",
       "      <td>Business_Software</td>\n",
       "      <td>AccuSystems LLC is an American company headqua...</td>\n",
       "      <td>41270069</td>\n",
       "      <td>AccuSystems</td>\n",
       "    </tr>\n",
       "    <tr>\n",
       "      <th>2</th>\n",
       "      <td>Business_Software</td>\n",
       "      <td>Active policy management is business-oriented ...</td>\n",
       "      <td>5211212</td>\n",
       "      <td>Active policy management</td>\n",
       "    </tr>\n",
       "    <tr>\n",
       "      <th>3</th>\n",
       "      <td>Business_Software</td>\n",
       "      <td>Alexandria is browser based cross-platform lib...</td>\n",
       "      <td>28502793</td>\n",
       "      <td>Alexandria (library software)</td>\n",
       "    </tr>\n",
       "    <tr>\n",
       "      <th>4</th>\n",
       "      <td>Business_Software</td>\n",
       "      <td>Alteryx is an American computer software compa...</td>\n",
       "      <td>44133735</td>\n",
       "      <td>Alteryx</td>\n",
       "    </tr>\n",
       "  </tbody>\n",
       "</table>\n",
       "</div>"
      ],
      "text/plain": [
       "            category                                            content  \\\n",
       "0  Business_Software  Business software or a business application is...   \n",
       "1  Business_Software  AccuSystems LLC is an American company headqua...   \n",
       "2  Business_Software  Active policy management is business-oriented ...   \n",
       "3  Business_Software  Alexandria is browser based cross-platform lib...   \n",
       "4  Business_Software  Alteryx is an American computer software compa...   \n",
       "\n",
       "     pageid                          title  \n",
       "0   1037763              Business software  \n",
       "1  41270069                    AccuSystems  \n",
       "2   5211212       Active policy management  \n",
       "3  28502793  Alexandria (library software)  \n",
       "4  44133735                        Alteryx  "
      ]
     },
     "execution_count": 6,
     "metadata": {},
     "output_type": "execute_result"
    }
   ],
   "source": [
    "content_q_df.head()\n"
   ]
  },
  {
   "cell_type": "code",
   "execution_count": 7,
   "metadata": {},
   "outputs": [
    {
     "data": {
      "text/plain": [
       "0    Business software or a business application is...\n",
       "1    AccuSystems LLC is an American company headqua...\n",
       "2    Active policy management is business-oriented ...\n",
       "3    Alexandria is browser based cross-platform lib...\n",
       "4    Alteryx is an American computer software compa...\n",
       "Name: content, dtype: object"
      ]
     },
     "execution_count": 7,
     "metadata": {},
     "output_type": "execute_result"
    }
   ],
   "source": [
    "content_q_df[\"content\"][:5]\n"
   ]
  },
  {
   "cell_type": "code",
   "execution_count": 8,
   "metadata": {},
   "outputs": [
    {
     "data": {
      "text/plain": [
       "(4130, 4)"
      ]
     },
     "execution_count": 8,
     "metadata": {},
     "output_type": "execute_result"
    }
   ],
   "source": [
    "content_q_df.shape\n"
   ]
  },
  {
   "cell_type": "code",
   "execution_count": 9,
   "metadata": {},
   "outputs": [
    {
     "name": "stdout",
     "output_type": "stream",
     "text": [
      "<class 'pandas.core.frame.DataFrame'>\n",
      "RangeIndex: 4130 entries, 0 to 4129\n",
      "Data columns (total 4 columns):\n",
      "category    4130 non-null object\n",
      "content     4115 non-null object\n",
      "pageid      4130 non-null int64\n",
      "title       4130 non-null object\n",
      "dtypes: int64(1), object(3)\n",
      "memory usage: 129.1+ KB\n"
     ]
    }
   ],
   "source": [
    "content_q_df.info()"
   ]
  },
  {
   "cell_type": "code",
   "execution_count": 10,
   "metadata": {},
   "outputs": [
    {
     "data": {
      "text/plain": [
       "category     0\n",
       "content     15\n",
       "pageid       0\n",
       "title        0\n",
       "dtype: int64"
      ]
     },
     "execution_count": 10,
     "metadata": {},
     "output_type": "execute_result"
    }
   ],
   "source": [
    "content_q_df.isnull().sum()"
   ]
  },
  {
   "cell_type": "code",
   "execution_count": 11,
   "metadata": {
    "collapsed": true
   },
   "outputs": [],
   "source": [
    "content_q_df.dropna(axis=0,inplace=True)"
   ]
  },
  {
   "cell_type": "code",
   "execution_count": 12,
   "metadata": {
    "collapsed": true
   },
   "outputs": [],
   "source": [
    "X = content_q_df[\"content\"]\n",
    "y = content_q_df[\"category\"]"
   ]
  },
  {
   "cell_type": "code",
   "execution_count": 13,
   "metadata": {},
   "outputs": [
    {
     "data": {
      "text/plain": [
       "((4115,), (4115,))"
      ]
     },
     "execution_count": 13,
     "metadata": {},
     "output_type": "execute_result"
    }
   ],
   "source": [
    "X.shape, y.shape\n"
   ]
  },
  {
   "cell_type": "code",
   "execution_count": 15,
   "metadata": {
    "collapsed": true
   },
   "outputs": [],
   "source": [
    "X.content = X.apply(lambda x: x.lower())\n"
   ]
  },
  {
   "cell_type": "code",
   "execution_count": 16,
   "metadata": {},
   "outputs": [
    {
     "data": {
      "text/plain": [
       "(array([ 776, 1236]),)"
      ]
     },
     "execution_count": 16,
     "metadata": {},
     "output_type": "execute_result"
    }
   ],
   "source": [
    "np.where(X.content.apply(lambda x: len(x)).values < 100)\n"
   ]
  },
  {
   "cell_type": "code",
   "execution_count": 18,
   "metadata": {},
   "outputs": [
    {
     "data": {
      "text/plain": [
       "'\\n== References =='"
      ]
     },
     "execution_count": 18,
     "metadata": {},
     "output_type": "execute_result"
    }
   ],
   "source": [
    "X.iloc[776]"
   ]
  },
  {
   "cell_type": "code",
   "execution_count": 19,
   "metadata": {
    "collapsed": true
   },
   "outputs": [],
   "source": [
    "X_train, X_test, y_train, y_test = train_test_split(X, y, random_state = 8)\n"
   ]
  },
  {
   "cell_type": "code",
   "execution_count": 20,
   "metadata": {},
   "outputs": [
    {
     "data": {
      "text/plain": [
       "776    \\n== References ==\n",
       "Name: content, dtype: object"
      ]
     },
     "execution_count": 20,
     "metadata": {},
     "output_type": "execute_result"
    }
   ],
   "source": [
    "X_train[X_train.index == 776]\n"
   ]
  },
  {
   "cell_type": "code",
   "execution_count": 22,
   "metadata": {
    "collapsed": true
   },
   "outputs": [],
   "source": [
    "X_train_2 = X_train[X_train.index != 776]\n"
   ]
  },
  {
   "cell_type": "code",
   "execution_count": 23,
   "metadata": {},
   "outputs": [
    {
     "data": {
      "text/plain": [
       "array([ 'in artificial intelligence, an evolutionary algorithm (ea) is a subset of evolutionary computation, a generic population-based metaheuristic optimization algorithm. an ea uses mechanisms inspired by biological evolution, such as reproduction, mutation, recombination, and selection. candidate solutions to the optimization problem play the role of individuals in a population, and the fitness function determines the quality of the solutions (see also loss function). evolution of the population then takes place after the repeated application of the above operators.\\nevolutionary algorithms often perform well approximating solutions to all types of problems because they ideally do not make any assumption about the underlying fitness landscape. techniques from evolutionary algorithms applied to the modeling of biological evolution are generally limited to explorations of microevolutionary processes and planning models based upon cellular processes. in most real applications of eas, computational complexity is a prohibiting factor. in fact, this computational complexity is due to fitness function evaluation. fitness approximation is one of the solutions to overcome this difficulty. however, seemingly simple ea can solve often complex problems; therefore, there may be no direct link between algorithm complexity and problem complexity.\\n\\n\\n== comparison to biological processes ==\\na possible limitation of many evolutionary algorithms is their lack of a clear genotype-phenotype distinction. in nature, the fertilized egg cell undergoes a complex process known as embryogenesis to become a mature phenotype. this indirect encoding is believed to make the genetic search more robust (i.e. reduce the probability of fatal mutations), and also may improve the evolvability of the organism. such indirect (a.k.a. generative or developmental) encodings also enable evolution to exploit the regularity in the environment. recent work in the field of artificial embryogeny, or artificial developmental systems, seeks to address these concerns. and gene expression programming successfully explores a genotype-phenotype system, where the genotype consists of linear multigenic chromosomes of fixed length and the phenotype consists of multiple expression trees or computer programs of different sizes and shapes.\\n\\n\\n== implementation ==\\nstep one: generate the initial population of individuals randomly. (first generation)\\nstep two: evaluate the fitness of each individual in that population (time limit, sufficient fitness achieved, etc.)\\nstep three: repeat the following regenerational steps until termination:\\nselect the best-fit individuals for reproduction. (parents)\\nbreed new individuals through crossover and mutation operations to give birth to offspring.\\nevaluate the individual fitness of new individuals.\\nreplace least-fit population with new individuals.\\n\\n\\n== types ==\\nsimilar techniques differ in genetic representation and other implementation details, and the nature of the particular applied problem.\\ngenetic algorithm – this is the most popular type of ea. one seeks the solution of a problem in the form of strings of numbers (traditionally binary, although the best representations are usually those that reflect something about the problem being solved), by applying operators such as recombination and mutation (sometimes one, sometimes both). this type of ea is often used in optimization problems. another name for it is fetura, from the latin for breeding.\\ngenetic programming – here the solutions are in the form of computer programs, and their fitness is determined by their ability to solve a computational problem.\\nevolutionary programming – similar to genetic programming, but the structure of the program is fixed and its numerical parameters are allowed to evolve.\\ngene expression programming – like genetic programming, gep also evolves computer programs but it explores a genotype-phenotype system, where computer programs of different sizes are encoded in linear chromosomes of fixed length.\\nevolution strategy – works with vectors of real numbers as representations of solutions, and typically uses self-adaptive mutation rates.\\ndifferential evolution – based on vector differences and is therefore primarily suited for numerical optimization problems.\\nneuroevolution – similar to genetic programming but the genomes represent artificial neural networks by describing structure and connection weights. the genome encoding can be direct or indirect.\\nlearning classifier system – here the solution is a set of classifiers (rules or conditions). a michigan-lcs evolves at the level of individual classifiers whereas a pittsburgh-lcs uses populations of classifier-sets. initially, classifiers were only binary, but now include real, neural net, or s-expression types. fitness is typically determined with either a strength or accuracy based reinforcement learning or supervised learning approach.\\n\\n\\n== related techniques ==\\nswarm algorithms, including:\\nant colony optimization – based on the ideas of ant foraging by pheromone communication to form paths. primarily suited for combinatorial optimization and graph problems.\\nthe runner-root algorithm (rra) is inspired by the function of runners and roots of plants in nature \\nartificial bee colony algorithm – based on the honey bee foraging behaviour. primarily proposed for numerical optimization and extended to solve combinatorial, constrained and multi-objective optimization problems.\\nbees algorithm is based on the foraging behaviour of honey bees. it has been applied in many applications such as routing and scheduling.\\ncuckoo search is inspired by the brooding parasitism of the cuckoo species. it also uses lévy flights, and thus it suits for global optimization problems.\\nparticle swarm optimization – based on the ideas of animal flocking behaviour. also primarily suited for numerical optimization problems.\\n\\n\\n== other population-based metaheuristic methods ==\\nhunting search - a method inspired by the group hunting of some animals such as wolves that organize their position to surround the prey, each of them relative to the position of the others and especially that of their leader. it is a continuous optimization method  adapted as a combinatorial optimization method.\\nadaptive dimensional search – unlike nature-inspired metaheuristic techniques, an adaptive dimensional search algorithm does not implement any metaphor as an underlying principle. rather it uses a simple performance-oriented method, based on the update of the search dimensionality ratio (sdr) parameter at each iteration.\\nfirefly algorithm is inspired by the behavior of fireflies, attracting each other by flashing light. this is especially useful for multimodal optimization.\\nharmony search – based on the ideas of musicians\\' behavior in searching for better harmonies. this algorithm is suitable for combinatorial optimization as well as parameter optimization.\\ngaussian adaptation – based on information theory. used for maximization of manufacturing yield, mean fitness or average information. see for instance entropy in thermodynamics and information theory.\\nmemetic algorithm – a hybrid method, inspired by richard dawkins\\' notion of a meme, it commonly takes the form of a population-based algorithm coupled with individual learning procedures capable of performing local refinements. emphasizes the exploitation of problem-specific knowledge, and tries to orchestrate local and global search in a synergistic way.\\n\\n\\n== examples ==\\nthe computer simulations tierra and avida attempt to model macroevolutionary dynamics.\\n\\n\\n== gallery ==\\n  \\n\\n\\n== references ==\\n\\n\\n== bibliography ==\\nashlock, d. (2006), evolutionary computation for modeling and optimization, springer, isbn 0-387-22196-4.\\nbäck, t. (1996), evolutionary algorithms in theory and practice: evolution strategies, evolutionary programming, genetic algorithms, oxford univ. press.\\nbäck, t., fogel, d., michalewicz, z. (1997), handbook of evolutionary computation, oxford univ. press.\\nbanzhaf, w., nordin, p., keller, r., francone, f. (1998), genetic programming - an introduction, morgan kaufmann, san francisco\\neiben, a.e., smith, j.e. (2003), introduction to evolutionary computing, springer.\\nholland, j. h. (1975), adaptation in natural and artificial systems, the university of michigan press, ann arbor\\nmichalewicz z., fogel d.b. (2004). how to solve it: modern heuristics, springer.\\nbenkő a., dósa g., tuza z. (2010), bin packing/covering with delivery, solved with the evolution of algorithms, proc. 2010 ieee 5th international conference on bio-inspired computing: theories and applications, bic-ta 2010, pp. 298–302.\\npoli, r.; langdon, w. b.; mcphee, n. f. (2008). a field guide to genetic programming. lulu.com, freely available from the internet. isbn 978-1-4092-0073-4. \\nprice, k., storn, r.m., lampinen, j.a., (2005). \"differential evolution: a practical approach to global optimization\", springer.\\ningo rechenberg (1971): evolutionsstrategie - optimierung technischer systeme nach prinzipien der biologischen evolution (phd thesis). reprinted by fromman-holzboog (1973).\\nhans-paul schwefel (1974): numerische optimierung von computer-modellen (phd thesis). reprinted by birkhäuser (1977).\\nsimon, d. (2013): evolutionary optimization algorithms, wiley.\\ncomputational intelligence: a methodological introduction by kruse, borgelt, klawonn, moewes, steinbrecher, held, 2013, springer, isbn 978-1-4471-5012-1'], dtype=object)"
      ]
     },
     "execution_count": 23,
     "metadata": {},
     "output_type": "execute_result"
    }
   ],
   "source": [
    "content_q_df.content.str.lower().sample(1).values\n"
   ]
  },
  {
   "cell_type": "code",
   "execution_count": 24,
   "metadata": {
    "collapsed": true
   },
   "outputs": [],
   "source": [
    "rf_pipe = Pipeline([\n",
    "    ('vec', TfidfVectorizer()),\n",
    "    ('svd', TruncatedSVD(n_components=400)),\n",
    "    ('clf', RandomForestClassifier())\n",
    "])"
   ]
  },
  {
   "cell_type": "code",
   "execution_count": 25,
   "metadata": {
    "collapsed": true
   },
   "outputs": [],
   "source": [
    "rfparams = {\n",
    "    'vec__min_df':[2],\n",
    "    'vec__max_df':[.95],\n",
    "    'vec__ngram_range':[(1,2)],\n",
    "    'clf__n_estimators':[200],\n",
    "    'clf__max_features':['auto']\n",
    "}"
   ]
  },
  {
   "cell_type": "code",
   "execution_count": 26,
   "metadata": {
    "collapsed": true
   },
   "outputs": [],
   "source": [
    "rf_gs = GridSearchCV(rf_pipe, param_grid=rfparams, cv=5)\n"
   ]
  },
  {
   "cell_type": "code",
   "execution_count": 27,
   "metadata": {},
   "outputs": [
    {
     "data": {
      "text/plain": [
       "GridSearchCV(cv=5, error_score='raise',\n",
       "       estimator=Pipeline(steps=[('vec', TfidfVectorizer(analyzer='word', binary=False, decode_error='strict',\n",
       "        dtype=<class 'numpy.int64'>, encoding='utf-8', input='content',\n",
       "        lowercase=True, max_df=1.0, max_features=None, min_df=1,\n",
       "        ngram_range=(1, 1), norm='l2', preprocessor=None, smooth_idf=True,\n",
       "   ...imators=10, n_jobs=1, oob_score=False, random_state=None,\n",
       "            verbose=0, warm_start=False))]),\n",
       "       fit_params={}, iid=True, n_jobs=1,\n",
       "       param_grid={'vec__min_df': [2], 'vec__max_df': [0.95], 'vec__ngram_range': [(1, 2)], 'clf__n_estimators': [200], 'clf__max_features': ['auto']},\n",
       "       pre_dispatch='2*n_jobs', refit=True, return_train_score=True,\n",
       "       scoring=None, verbose=0)"
      ]
     },
     "execution_count": 27,
     "metadata": {},
     "output_type": "execute_result"
    }
   ],
   "source": [
    "rf_gs.fit(X_train, y_train)\n"
   ]
  },
  {
   "cell_type": "code",
   "execution_count": 28,
   "metadata": {},
   "outputs": [
    {
     "data": {
      "text/plain": [
       "0.99837977965003244"
      ]
     },
     "execution_count": 28,
     "metadata": {},
     "output_type": "execute_result"
    }
   ],
   "source": [
    "rf_gs.score(X_train, y_train)"
   ]
  },
  {
   "cell_type": "code",
   "execution_count": 29,
   "metadata": {},
   "outputs": [
    {
     "data": {
      "text/plain": [
       "0.9611273080660836"
      ]
     },
     "execution_count": 29,
     "metadata": {},
     "output_type": "execute_result"
    }
   ],
   "source": [
    "rf_gs.score(X_test, y_test)\n"
   ]
  },
  {
   "cell_type": "code",
   "execution_count": 30,
   "metadata": {},
   "outputs": [
    {
     "data": {
      "text/plain": [
       "{'clf__max_features': 'auto',\n",
       " 'clf__n_estimators': 200,\n",
       " 'vec__max_df': 0.95,\n",
       " 'vec__min_df': 2,\n",
       " 'vec__ngram_range': (1, 2)}"
      ]
     },
     "execution_count": 30,
     "metadata": {},
     "output_type": "execute_result"
    }
   ],
   "source": [
    "rf_gs.best_params_\n"
   ]
  },
  {
   "cell_type": "code",
   "execution_count": 31,
   "metadata": {},
   "outputs": [
    {
     "data": {
      "text/plain": [
       "0.96338302009073229"
      ]
     },
     "execution_count": 31,
     "metadata": {},
     "output_type": "execute_result"
    }
   ],
   "source": [
    "rf_gs.best_score_\n"
   ]
  },
  {
   "cell_type": "code",
   "execution_count": 32,
   "metadata": {},
   "outputs": [
    {
     "data": {
      "text/plain": [
       "array(['Machine_Learning', 'Business_Software', 'Machine_Learning', ...,\n",
       "       'Business_Software', 'Business_Software', 'Business_Software'], dtype=object)"
      ]
     },
     "execution_count": 32,
     "metadata": {},
     "output_type": "execute_result"
    }
   ],
   "source": [
    "rf_gs.predict(X_test)\n"
   ]
  },
  {
   "cell_type": "code",
   "execution_count": 33,
   "metadata": {},
   "outputs": [
    {
     "data": {
      "text/plain": [
       "1029"
      ]
     },
     "execution_count": 33,
     "metadata": {},
     "output_type": "execute_result"
    }
   ],
   "source": [
    "y_preds = rf_gs.predict(y_test)\n",
    "len(y_preds)"
   ]
  },
  {
   "cell_type": "code",
   "execution_count": 34,
   "metadata": {},
   "outputs": [
    {
     "data": {
      "text/plain": [
       "array([[ 0.485,  0.515],\n",
       "       [ 0.485,  0.515],\n",
       "       [ 0.485,  0.515],\n",
       "       ..., \n",
       "       [ 0.485,  0.515],\n",
       "       [ 0.485,  0.515],\n",
       "       [ 0.485,  0.515]])"
      ]
     },
     "execution_count": 34,
     "metadata": {},
     "output_type": "execute_result"
    }
   ],
   "source": [
    "y_pred_proba = rf_gs.predict_proba(y_test)\n",
    "y_pred_proba"
   ]
  },
  {
   "cell_type": "code",
   "execution_count": 35,
   "metadata": {},
   "outputs": [
    {
     "name": "stdout",
     "output_type": "stream",
     "text": [
      "Collecting wikipedia\n",
      "Requirement already satisfied: beautifulsoup4 in /opt/conda/lib/python3.6/site-packages (from wikipedia)\n",
      "Requirement already satisfied: requests<3.0.0,>=2.0.0 in /opt/conda/lib/python3.6/site-packages (from wikipedia)\n",
      "Requirement already satisfied: chardet<3.1.0,>=3.0.2 in /opt/conda/lib/python3.6/site-packages (from requests<3.0.0,>=2.0.0->wikipedia)\n",
      "Requirement already satisfied: idna<2.7,>=2.5 in /opt/conda/lib/python3.6/site-packages (from requests<3.0.0,>=2.0.0->wikipedia)\n",
      "Requirement already satisfied: urllib3<1.23,>=1.21.1 in /opt/conda/lib/python3.6/site-packages (from requests<3.0.0,>=2.0.0->wikipedia)\n",
      "Requirement already satisfied: certifi>=2017.4.17 in /opt/conda/lib/python3.6/site-packages (from requests<3.0.0,>=2.0.0->wikipedia)\n",
      "Installing collected packages: wikipedia\n",
      "Successfully installed wikipedia-1.4.0\n"
     ]
    }
   ],
   "source": [
    "!pip install wikipedia\n"
   ]
  },
  {
   "cell_type": "code",
   "execution_count": 36,
   "metadata": {
    "collapsed": true
   },
   "outputs": [],
   "source": [
    "import re\n",
    "import wikipedia\n",
    "import requests\n",
    "import json"
   ]
  },
  {
   "cell_type": "code",
   "execution_count": 37,
   "metadata": {
    "collapsed": true
   },
   "outputs": [],
   "source": [
    "def generate_category(category):\n",
    "    '''\n",
    "    format a category for insertion in to a wikipedia api call\n",
    "    '''\n",
    "    category = re.sub('\\s','+',category)\n",
    "    return category"
   ]
  },
  {
   "cell_type": "code",
   "execution_count": 38,
   "metadata": {
    "collapsed": true
   },
   "outputs": [],
   "source": [
    "def generate_query(category):\n",
    "    '''\n",
    "    Format an api call for requests\n",
    "    '''\n",
    "    query = \"\"\"\n",
    "            http://en.wikipedia.org/w/api.php?\n",
    "            action=query&\n",
    "            format=json&\n",
    "            list=categorymembers&\n",
    "            cmtitle=Category:{}&\n",
    "            cmprop=ids%7Ctitle%7Ctype&\n",
    "            cmlimit=max\n",
    "            \"\"\".format(generate_category(category))\n",
    "    query = re.sub('\\s','',query)\n",
    "    return query"
   ]
  },
  {
   "cell_type": "code",
   "execution_count": 39,
   "metadata": {
    "collapsed": true
   },
   "outputs": [],
   "source": [
    "def execute_category_query(category):\n",
    "    '''\n",
    "    Executes a category qeury and returns a \n",
    "    DataFrame of the category members\n",
    "    '''\n",
    "    \n",
    "    r = requests.get(generate_query(category))\n",
    "    response = r.json()\n",
    "    return pd.DataFrame(response['query']['categorymembers'])"
   ]
  },
  {
   "cell_type": "code",
   "execution_count": 40,
   "metadata": {},
   "outputs": [
    {
     "data": {
      "text/plain": [
       "'http://en.wikipedia.org/w/api.php?action=query&format=json&list=categorymembers&cmtitle=Category:deep+learning&cmprop=ids%7Ctitle%7Ctype&cmlimit=max'"
      ]
     },
     "execution_count": 40,
     "metadata": {},
     "output_type": "execute_result"
    }
   ],
   "source": [
    "dl_query = generate_query(\"deep learning\")\n",
    "dl_query"
   ]
  },
  {
   "cell_type": "code",
   "execution_count": 41,
   "metadata": {},
   "outputs": [
    {
     "data": {
      "text/html": [
       "<div>\n",
       "<table border=\"1\" class=\"dataframe\">\n",
       "  <thead>\n",
       "    <tr style=\"text-align: right;\">\n",
       "      <th></th>\n",
       "      <th>ns</th>\n",
       "      <th>pageid</th>\n",
       "      <th>title</th>\n",
       "      <th>type</th>\n",
       "    </tr>\n",
       "  </thead>\n",
       "  <tbody>\n",
       "    <tr>\n",
       "      <th>0</th>\n",
       "      <td>0</td>\n",
       "      <td>32472154</td>\n",
       "      <td>Deep learning</td>\n",
       "      <td>page</td>\n",
       "    </tr>\n",
       "    <tr>\n",
       "      <th>1</th>\n",
       "      <td>0</td>\n",
       "      <td>52642349</td>\n",
       "      <td>AIVA</td>\n",
       "      <td>page</td>\n",
       "    </tr>\n",
       "    <tr>\n",
       "      <th>2</th>\n",
       "      <td>0</td>\n",
       "      <td>52801963</td>\n",
       "      <td>AlexNet</td>\n",
       "      <td>page</td>\n",
       "    </tr>\n",
       "    <tr>\n",
       "      <th>3</th>\n",
       "      <td>0</td>\n",
       "      <td>51545339</td>\n",
       "      <td>Apache SINGA</td>\n",
       "      <td>page</td>\n",
       "    </tr>\n",
       "    <tr>\n",
       "      <th>4</th>\n",
       "      <td>0</td>\n",
       "      <td>55075082</td>\n",
       "      <td>BigDL</td>\n",
       "      <td>page</td>\n",
       "    </tr>\n",
       "  </tbody>\n",
       "</table>\n",
       "</div>"
      ],
      "text/plain": [
       "   ns    pageid          title  type\n",
       "0   0  32472154  Deep learning  page\n",
       "1   0  52642349           AIVA  page\n",
       "2   0  52801963        AlexNet  page\n",
       "3   0  51545339   Apache SINGA  page\n",
       "4   0  55075082          BigDL  page"
      ]
     },
     "execution_count": 41,
     "metadata": {},
     "output_type": "execute_result"
    }
   ],
   "source": [
    "new_data = wikipedia.page('deep learning')\n",
    "\n",
    "dl_df = execute_category_query(\"deep learning\")\n",
    "dl_df.head()"
   ]
  },
  {
   "cell_type": "code",
   "execution_count": 47,
   "metadata": {},
   "outputs": [],
   "source": [
    "new_content = []\n",
    "\n",
    "page =  wikipedia.WikipediaPage(pageid = 32472154)\n",
    "content = page.content\n",
    "title = page.title\n",
    "new_content.append((page, content, title))"
   ]
  },
  {
   "cell_type": "code",
   "execution_count": 48,
   "metadata": {},
   "outputs": [
    {
     "data": {
      "text/plain": [
       "[(<WikipediaPage 'Deep learning'>,\n",
       "  'Deep learning (also known as deep structured learning or hierarchical learning) is part of a broader family of machine learning methods based on learning data representations, as opposed to task-specific algorithms. Learning can be supervised, partially supervised or unsupervised.\\nSome representations are loosely based on interpretation of information processing and communication patterns in a biological nervous system, such as neural coding that attempts to define a relationship between various stimuli and associated neuronal responses in the brain. Research attempts to create efficient systems to learn these representations from large-scale, unlabeled data sets.\\nDeep learning architectures such as deep neural networks, deep belief networks and recurrent neural networks have been applied to fields including computer vision, speech recognition, natural language processing, audio recognition, social network filtering, machine translation and bioinformatics where they produced results comparable to and in some cases superior to human experts.\\n\\n\\n== Definitions ==\\nDeep learning is a class of machine learning algorithms that:\\nuse a cascade of many layers of nonlinear processing units for feature extraction and transformation. Each successive layer uses the output from the previous layer as input. The algorithms may be supervised or unsupervised and applications include pattern analysis (unsupervised) and classification (supervised).\\nare based on the (unsupervised) learning of multiple levels of features or representations of the data. Higher level features are derived from lower level features to form a hierarchical representation.\\nare part of the broader machine learning field of learning representations of data.\\nlearn multiple levels of representations that correspond to different levels of abstraction; the levels form a hierarchy of concepts.\\nuse some form of gradient descent for training\\nThese definitions have in common (1) multiple layers of nonlinear processing units and (2) the supervised or unsupervised learning of feature representations in each layer, with the layers forming a hierarchy from low-level to high-level features. The composition of a layer of nonlinear processing units used in a deep learning algorithm depends on the problem to be solved. Layers that have been used in deep learning include hidden layers of an artificial neural network and sets of complicated propositional formulas. They may also include latent variables organized layer-wise in deep generative models such as the nodes in Deep Belief Networks and Deep Boltzmann Machines.\\nCredit assignment path (CAP) – A chain of transformations from input to output. CAPs describe potentially causal connections between input and output.\\nCap depth – for a feedforward neural network, the depth of the CAPs (thus of the network) is the number of hidden layers plus one (as the output layer is also parameterized), but for recurrent neural networks, in which a signal may propagate through a layer more than once, the CAP depth is potentially unlimited.\\nDeep/shallow – No universally agreed upon threshold of depth divides shallow learning from deep learning, but most researchers in the field agree that deep learning has multiple nonlinear layers (CAP > 2).\\n\\n\\n=== Fundamental concepts ===\\nThe assumption underlying distributed representations is that observed data are generated by the interactions of layered factors.\\nDeep learning adds the assumption that these layers of factors correspond to levels of abstraction or composition. Varying numbers of layers and layer sizes can provide different amounts of abstraction.\\nDeep learning exploits this idea of hierarchical explanatory factors where higher level, more abstract concepts are learned from the lower level ones .\\nDeep learning architectures are often constructed with a greedy layer-by-layer method. Deep learning helps to disentangle these abstractions and pick out which features are useful for improving performance.\\nFor supervised learning tasks, deep learning methods obviate feature engineering, by translating the data into compact intermediate representations akin to principal components, and derive layered structures that remove redundancy in representation.\\nDeep learning algorithms can be applied to unsupervised learning tasks. This is an important benefit because unlabeled data are more abundant than labeled data. Examples of deep structures that can be trained in an unsupervised manner are neural history compressors and deep belief networks.\\n\\n\\n== Interpretations ==\\nDeep neural networks are generally interpreted in terms of the universal approximation theorem or probabilistic inference.\\nThe universal approximation theorem concerns the capacity of feedforward neural networks with a single hidden layer of finite size to approximate continuous functions.\\nIn 1989, the first proof was published by Cybenko for sigmoid activation functions and was generalised to feed-forward multi-layer architectures in 1991 by Hornik.\\nThe probabilistic interpretation derives from the field of machine learning. It features inference, as well as the optimization concepts of training and testing, related to fitting and generalization, respectively. More specifically, the probabilistic interpretation considers the activation nonlinearity as a cumulative distribution function. The probabilistic interpretation led to the introduction of dropout as regularizer in neural networks.\\nThe probabilistic interpretation was introduced in the early days of neural networks by researchers including John Hopfield, Bernard Widrow, Kumpati S. Narendra, and popularized in surveys such as the one by Christopher Bishop.\\n\\n\\n== History ==\\nAccording to a survey, the expression Deep Learning was introduced to the Machine Learning community by Rina Dechter in 1986, and later to Artificial Neural Networks by Igor Aizenberg and colleagues in 2000, in the context of Boolean threshold neurons. In 2005, Faustino Gomez and Jürgen Schmidhuber published a paper on learning deep POMDPs through neural networks for reinforcement learning. In 2006, a publication by Hinton, Osindero, and Teh drew attention by showing how many-layered feedforward neural network could be effectively pre-trained one layer at a time, treating each layer in turn as an unsupervised restricted Boltzmann machine, then fine-tuning it using supervised backpropagation. The paper referred to learning for deep belief nets. A Google Ngram chart shows that the usage of the term has taken off since 2000. The underlying concepts and many techniques, however, date to earlier decades.\\nThe first general, working learning algorithm for supervised, deep, feedforward, multilayer perceptrons was published by Ivakhnenko and Lapa in 1965. A 1971 paper described a deep network with 8 layers trained by the group method of data handling algorithm.\\nThese ideas were implemented in a computer identification system by the World School Council London called \"Alpha\", which demonstrated the learning process.\\nOther deep learning working architectures, specifically those built for computer vision, began with the Neocognitron introduced by Fukushima in 1980. In 1989, LeCun et al. applied the standard backpropagation algorithm, which had been around as the reverse mode of automatic differentiation since 1970, to a deep neural network with the purpose of recognizing handwritten ZIP codes on mail. While the algorithm worked the training time was an impractical 3 days.\\nBy 1991 such systems were used for recognizing isolated 2-D hand-written digits, while recognizing 3-D objects was done by matching 2-D images with a handcrafted 3-D object model. Weng et al. suggested that a human brain does not use a monolithic 3-D object model and in 1992 they published Cresceptron, a method for performing 3-D object recognition directly from cluttered scenes. Cresceptron is a cascade of layers similar to Neocognitron. But while Neocognitron required a human programmer to hand-merge features, Cresceptron automatically learned an open number of unsupervised features in each layer, where each feature is represented by a convolution kernel. Cresceptron segmented each learned object from a cluttered scene through back-analysis through the network. Max pooling, now often adopted by deep neural networks (e.g. ImageNet tests), was first used in Cresceptron to reduce the position resolution by a factor of (2x2) to 1 through the cascade for better generalization.\\nIn 1992, Schmidhuber used unsupervised pre-training for deep hierarchies of data-compressing recurrent neural networks, and showed its benefits for speeding up supervised learning.\\nIn 1994, André C. P. L. F. de Carvalho, together with Fairhurst and Bisset, published experimental results of a multi-layer boolean neural network, also known as a weightless neural network, composed of a self-organising feature extraction neural network module followed by a classification neural network module, which were independently trained.\\nIn 1995, Frey demonstrated that it was possible to train a network containing six fully connected layers and several hundred hidden units using the wake-sleep algorithm, co-developed with Dayan and Hinton. However, training took two days. Many factors contribute to the slow speed, including the vanishing gradient problem analyzed in 1991 by Hochreiter.\\nSimpler models that use task-specific handcrafted features such as Gabor filters and support vector machines (SVMs) were a popular choice in the 1990s and 2000s, because of ANNs\\' computational cost and a lack of understanding of how the brain wires its biological networks.\\nBoth shallow and deep learning (e.g., recurrent nets) of ANNs have been explored for many years. These methods never outperformed non-uniform internal-handcrafting Gaussian mixture model/Hidden Markov model (GMM-HMM) technology based on generative models of speech trained discriminatively. Key difficulties have been methodologically analyzed, including gradient diminishing and weak temporal correlation structure in neural predictive models. Additional difficulties were the lack of big training data and weaker computing power.\\nMost speech recognition researchers moved away from neural nets to pursue generative modeling. An exception was at SRI International in the late 1990s. Funded by the US government\\'s NSA and DARPA, SRI conducted research on deep neural networks in speech and speaker recognition. Heck\\'s speaker recognition team achieved the first significant success with deep neural networks in speech processing as demonstrated in the 1998 National Institute of Standards and Technology Speaker Recognition evaluation and later published in the journal of Speech Communication. While SRI experienced success with deep neural networks in speaker recognition, they were unsuccessful in demonstrating similar success in speech recognition. One decade later, Hinton and Deng collaborated with each other and then with colleagues across groups at University of Toronto, Microsoft, Google and IBM, igniting a renaissance of deep feedforward neural networks in speech recognition.\\nMany aspects of speech recognition were taken over by a deep learning method called Long short-term memory (LSTM), a recurrent neural network published by Hochreiter and Schmidhuber in 1997. LSTM RNNs avoid the vanishing gradient problem and can learn \"Very Deep Learning\" tasks that require memories of events that happened thousands of discrete time steps ago, which is important for speech. In 2003, LSTM started to become competitive with traditional speech recognizers on certain tasks. Later it was combined with connectionist temporal classification (CTC) in stacks of LSTM RNNs. In 2015, Google\\'s speech recognition reportedly experienced a dramatic performance jump of 49% through CTC-trained LSTM, which they made available through Google Voice Search.\\nIn 2006, Hinton and Salakhutdinov showed how a many-layered feedforward neural network could be effectively pre-trained one layer at a time, treating each layer in turn as an unsupervised restricted Boltzmann machine, then fine-tuning it using supervised backpropagation.\\nDeep learning is part of state-of-the-art systems in various disciplines, particularly computer vision and automatic speech recognition (ASR). Results on commonly used evaluation sets such as TIMIT (ASR) and MNIST (image classification), as well as a range of large-vocabulary speech recognition tasks have steadily improved. Convolutional neural networks (CNNs) have been superseded for ASR by CTC for LSTM. but are more successful in computer vision.\\nThe impact of deep learning in industry began in the early 2000s, when CNNs already processed an estimated 10% to 20% of all the checks written in the US. Industrial applications of deep learning to large-scale speech recognition started around 2010.\\nIn late 2009, Li Deng invited Geoff Hinton to work with him and colleagues at Microsoft to apply deep learning to speech recognition. They co-organized the 2009 NIPS Workshop on Deep Learning for Speech Recognition. The workshop was motivated by the limitations of deep generative models of speech, and the possibility that the big-compute, big-data era warranted a serious try of deep neural nets (DNN). It was believed that pre-training DNNs using generative models of deep belief nets (DBN) would overcome the main difficulties of neural nets. However, Deng et al. at Microsoft soon after discovered that replacing pre-training with large amounts of training data for straightforward backpropagation when using DNNs with large, context-dependent output layers produced error rates dramatically lower than then-state-of-the-art Gaussian mixture model (GMM)/Hidden Markov Model (HMM) and also than more advanced generative model-based speech recognition systems. This finding was verified by other research groups subsequently. Further, the nature of recognition errors produced by the two types of systems was found to be characteristically different, offering technical insights into how to integrate deep learning into the existing highly efficient, run-time speech decoding system deployed by all major speech recognition players.\\nAdvances in hardware enabled the renewed interest in deep learning. In 2009, Nvidia was involved in what was called the “big bang” of deep learning, “as deep-learning neural networks were combined with Nvidia graphics processing units (GPUs).” That year, Google Brain used Nvidia GPUs to create Deep Neural Networks capable of machine learning. While there, Ng determined that GPUs could increase the speed of deep-learning systems by about 100 times. In particular, powerful graphics processing units (GPUs) are well-suited for the matrix/vector math involved in machine learning. GPUs speed up training algorithms by orders of magnitude, reducing running times from weeks to days. Specialized hardware and algorithm optimizations can be used for efficient D processing.\\n\\n\\n== Artificial neural networks ==\\n\\nArtificial neural networks (ANNs) or connectionist systems are computing systems inspired by the biological neural networks that constitute animal brains. Such systems learn (progressively improve performance) to do tasks by considering examples, generally without task-specific programming. For example, in image recognition, they might learn to identify images that contain cats by analyzing example images that have been manually labeled as \"cat\" or \"no cat\" and using the analytic results to identify cats in other images. They have found most use in applications difficult to express in a traditional computer algorithm using rule-based programming.\\nAn ANN is based on a collection of connected units called artificial neurons, (analogous to axons in a biological brain). Each connection (synapse) between neurons can transmit a signal to another neuron. The receiving (postsynaptic) neuron can process the signal(s) and then signal downstream neurons connected to it. Neurons may have state, generally represented by real numbers, typically between 0 and 1. Neurons and synapses may also have a weight that varies as learning proceeds, which can increase or decrease the strength of the signal that it sends downstream. Further, they may have a threshold such that only if the aggregate signal is below (or above) that level is the downstream signal sent.\\nTypically, neurons are organized in layers. Different layers may perform different kinds of transformations on their inputs. Signals travel from the first (input), to the last (output) layer, possibly after traversing the layers multiple times.\\nThe original goal of the neural network approach was to solve problems in the same way that a human brain would. Over time, attention focused on matching specific mental abilities, leading to deviations from biology such as backpropagation, or passing information in the reverse direction and adjusting the network to reflect that information.\\nNeural networks have been used on a variety of tasks, including computer vision, speech recognition, machine translation, social network filtering, playing board and video games, medical diagnosis and in many other domains.\\nAs of 2017, neural networks typically have a few thousand to a few million units and millions of connections. Their computing power is similar to a worm brain,[citation needed] several orders of magnitude simpler than a human brain. Despite this, they can perform functions (e.g., playing chess) that are far beyond a worm\\'s capacity.\\nIn 2007, LSTM trained by CTC started to get much-improved results. This method is now widely used, for example, in Google\\'s greatly improved speech recognition for all smartphone users.\\n\\n\\n== Deep neural networks ==\\nA deep neural network (DNN) is an ANN with multiple hidden layers between the input and output layers. Similar to shallow ANNs, DNNs can model complex non-linear relationships. DNN architectures generate compositional models where the object is expressed as a layered composition of primitives. The extra layers enable composition of features from lower layers, potentially modeling complex data with fewer units than a similarly performing shallow network.\\nDeep architectures include many variants of a few basic approaches. Each architecture has found success in specific domains. It is not always possible to compare the performance of multiple architectures, unless they have been evaluated on the same data sets.\\nDNNs are typically feedforward networks in which data flows from the input layer to the output layer without looping back.\\nRecurrent neural networks (RNNs), in which data can flow in any direction, are used for applications such as language modeling.. Long short-term memory is particularly effective for this use.\\nConvolutional deep neural networks (CNNs) are used in computer vision. CNNs also have been applied to acoustic modeling for automatic speech recognition (ASR).\\n\\n\\n=== Challenges ===\\nAs with ANNs, many issues can arise with naively trained DNNs. Two common issues are overfitting and computation time.\\nDNNs are prone to overfitting because of the added layers of abstraction, which allow them to model rare dependencies in the training data. Regularization methods such as Ivakhnenko\\'s unit pruning or weight decay (\\n  \\n    \\n      \\n        \\n          ℓ\\n          \\n            2\\n          \\n        \\n      \\n    \\n    {\\\\displaystyle \\\\ell _{2}}\\n  -regularization) or sparsity (\\n  \\n    \\n      \\n        \\n          ℓ\\n          \\n            1\\n          \\n        \\n      \\n    \\n    {\\\\displaystyle \\\\ell _{1}}\\n  -regularization) can be applied during training to combat overfitting. Alternatively dropout regularization randomly omits units from the hidden layers during training. This helps to exclude rare dependencies.\\nDNNs must consider many training parameters, such as the size (number of layers and number of units per layer), the learning rate and initial weights. Sweeping through the parameter space for optimal parameters may not be feasible due to the cost in time and computational resources. Various tricks such as batching (computing the gradient on several training examples at once rather than individual examples) speed up computation. The large processing throughput of GPUs has produced significant speedups in training, because the matrix and vector computations required are well-suited for GPUs.\\n\\n\\n== Applications ==\\n\\n\\n=== Automatic speech recognition ===\\n\\nSpeech recognition was revolutionised by deep learning, especially by long short-term memory RNNs. LSTM RNNs circumvent the vanishing gradient problem and can learn \"Very Deep Learning\" tasks that involve multi-second intervals containing speech events separated by thousands of discrete time steps, where one time step corresponds to about 10 ms. In 2003, LSTM with forget gates became competitive with traditional speech recognizers on certain tasks. In 2007, LSTM trained by CTC achieved excellent results on tasks such as discriminative keyword spotting. In 2015, Google\\'s speech recognition almost doubled its performance through CTC-trained LSTM.\\nThe initial success in speech recognition, was based on small-scale recognition tasks based on the popular TIMIT data set (a common data set used for evaluations). The set contains 630 speakers from eight major dialects of American English, where each speaker reads 10 sentences. Its small size allows many configurations to be tried. More importantly, the TIMIT task concerns phone-sequence recognition, which, unlike word-sequence recognition, allows very weak \"language models\". This allows the weaknesses in acoustic modeling aspects of speech recognition to be more easily analyzed. Analysis on TIMIT by Li Deng and collaborators around 2009-2010, contrasting the GMM (and other generative speech models) vs. DNN models, stimulated early industrial investment in deep learning for speech recognition, eventually leading to pervasive and dominant use in that industry. That analysis was done with comparable performance (less than 1.5% in error rate) between discriminative DNNs and generative models. The error rates listed below, including these early results and measured as percent phone error rates (PER), have been summarized over the past 20 years:\\nIn 2010, researchers extended deep learning from TIMIT to large vocabulary speech recognition, by adopting large output layers of the DNN based on context-dependent HMM states constructed by decision trees.\\nThe principle of elevating \"raw\" features over hand-crafted optimization was first explored successfully in the architecture of deep autoencoder on the \"raw\" spectrogram or linear filter-bank features in the late 1990s, showing its superiority over the Mel-Cepstral features that contain stages of fixed transformation from spectrograms. The raw features of speech, waveforms, later produced excellent larger-scale results.\\nThe debut of DNNs for speaker recognition in the late 1990s and speech recognition around 2009-2011 and of LSTM around 2003-2007, accelerated progress in eight major areas:\\nScale-up/out and acclerated DNN training and decoding\\nSequence discriminative training\\nFeature processing by deep models with solid understanding of the underlying mechanisms\\nAdaptation of DNNs and related deep models\\nMulti-task and transfer learning by DNNs and related deep models\\nCNNs and how to design them to best exploit domain knowledge of speech\\nRNN and its rich LSTM variants\\nOther types of deep models including tensor-based models and integrated deep generative/discriminative models.\\nLarge-scale automatic speech recognition is the first and most convincing successful case of deep learning. Between 2010 and 2014, the two major conferences on signal processing and speech recognition, IEEE-ICASSP and Interspeech both saw a large increase in the numbers of accepted papers in their respective annual conference papers on the topic of deep learning for speech recognition. All major commercial speech recognition systems (e.g., Microsoft Cortana, Xbox, Skype Translator, Amazon Alexa, Google Now, Apple Siri, Baidu and iFlyTek voice search, and a range of Nuance speech products, etc.) are based on deep learning.\\n\\n\\n=== Image recognition ===\\n\\nA common evaluation set for image classification is the MNIST database data set. MNIST is composed of handwritten digits and includes 60,000 training examples and 10,000 test examples. As with TIMIT, its small size allows multiple configurations to be tested. A comprehensive list of results on this set is available.\\nAccording to LeCun, in the early 2000s, CNNs processed an estimated 10% to 20% of all the checks written in the US.\\nSignificant additional impacts in image or object recognition were felt from 2011–2012. Although CNNs trained by backpropagation had been around for decades, and GPU implementations of NNs for years, including CNNs, fast implementations of CNNs with max-pooling on GPUs in the style of Ciresan and colleagues were needed to progress on computer vision. In 2011, this approach achieved for the first time superhuman performance in a visual pattern recognition contest. Also in 2011, it won the ICDAR Chinese handwriting contest, and in May 2012, it won the ISBI image segmentation contest. Until 2011, CNNs did not play a major role at computer vision conferences, but in June 2012, a paper by Ciresan et al. at the leading conference CVPR showed how max-pooling CNNs on GPU can dramatically improve many vision benchmark records. In October 2012, a similar system by Krizhevsky and Hinton won the large-scale ImageNet competition by a significant margin over shallow machine learning methods. In November 2012, Ciresan et al.\\'s system also won the ICPR contest on analysis of large medical images for cancer detection, and in the following year also the MICCAI Grand Challenge on the same topic. In 2013 and 2014, the error rate on the ImageNet task using deep learning was further reduced, following a similar trend in large-scale speech recognition. The Wolfram Image Identification project publicized these improvements.\\nImage classification was then extended to the more challenging task of generating descriptions (captions) for images, often as a combination of CNNs and LSTMs. Deep learning-trained vehicles now interpret 360° camera views. Another example is Facial Dysmorphology Novel Analysis (FDNA) used to analyze cases of human malformation connected to a large database of genetic syndromes.\\n\\n\\n=== Natural language processing ===\\n\\nNeural networks have been used for implementing language models since the early 2000s. Recurrent neural networks, especially LSTM, are most appropriate for sequential data such as language. LSTM helped to improve machine translation and language modeling.\\nOther key techniques in this field are negative sampling and word embedding. Word embedding, such as word2vec, can be thought of as a representational layer in a deep learning architecture that transforms an atomic word into a positional representation of the word relative to other words in the dataset; the position is represented as a point in a vector space. Using word embedding as an RNN input layer allows the network to parse sentences and phrases using an effective compositional vector grammar. A compositional vector grammar can be thought of as probabilistic context free grammar (PCFG) implemented by an RNN. Recursive auto-encoders built atop word embeddings can assess sentence similarity and detect paraphrasing. Deep neural architectures have achieved state-of-the-art results in natural language processing tasks such as constituency parsing, sentiment analysis, information retrieval, spoken language understanding, machine translation, contextual entity linking, writing style recognition and others.\\n\\n\\n=== Drug discovery and toxicology ===\\n\\nA large percentage of candidate drugs fail to win regulatory approval. These failures are caused by insufficient efficacy (on-target effect), undesired interactions (off-target effects), or unanticipated toxic effects. In 2012, a team led by Dahl won the \"Merck Molecular Activity Challenge\" using multi-task deep neural networks to predict the biomolecular target of one drug. In 2014, Hochreiter\\'s group used deep learning to detect off-target and toxic effects of environmental chemicals in nutrients, household products and drugs and won the \"Tox21 Data Challenge\" of NIH, FDA and NCATS. Deep learning may outdo other virtual screening methods. Researchers enhanced deep learning for drug discovery by combining data from a variety of sources. In 2015, Atomwise introduced AtomNet, the first deep learning neural networks for structure-based rational drug design. Subsequently, AtomNet was used to predict novel candidate biomolecules for several disease targets, most notably treatments for the Ebola virus and multiple sclerosis.\\n\\n\\n=== Customer relationship management ===\\n\\nDeep reinforcement learning demonstrated a use in direct marketing settings, illustrating suitability for CRM automation. A neural network was used to approximate the value of possible direct marketing actions over the customer state space, defined in terms of RFM variables. The estimated value function was shown to have a natural interpretation as customer lifetime value.\\n\\n\\n=== Recommendation systems ===\\n\\nRecommendation systems have used deep learning to extract meaningful features for a latent factor model for content-based music recommendations. Multiview deep learning has been applied for learning user preferences from multiple domains. The model uses a hybrid collaborative and content-based approach and enhances recommendations in multiple tasks.\\n\\n\\n=== Bioinformatics ===\\n\\nAn autoencoder ANN was used in bioinformatics, to predict gene ontology annotations and gene-function relationships.\\nIn medical informatics, deep learning was used to predict sleep quality based on data from wearables and predictions of health complications from Electronic health record data.\\n\\n\\n=== Mobile Advertising ===\\nFinding the appropriate mobile audience for mobile advertising is always challenging since there are many data points that need to be considered and assimilated before a target segment can be created and used in ad serving by any ad server. Deep learning neural networks have been used in machine learning to use multiple processing layers to interpret large datasets with multiple dimensions to come up with a high-level characterization of the data. During a request for an advertisement and subsequently serving of the advertisement on the mobile device there are many trackers that are fired collecting a lot of data points. If the user likes the advertisement and clicks on it, another set of trackers give additional information resulting from the click. This information is aggregated by the ad server and shown in its reporting console. The same information can form the basis of machine learning by feeding this information to a deep learning neural network to come up with audiences that can be targeted based on the product that is advertised\\n\\n\\n== Relation to human development ==\\nDeep learning is closely related to a class of theories of brain development (specifically, neocortical development) proposed by cognitive neuroscientists in the early 1990s. An approachable summary of this work is Elman, et al.\\'s 1996 Rethinking Innateness (see also: Shrager and Johnson; Quartz and Sejnowski). These developmental theories were instantiated in computational models, making them predecessors of purely computation-derived deep learning models. These developmental models share the property that various proposed learning dynamics in the brain (e.g., a wave of nerve growth factor) support the self-organization similar to the inter-related neural networks utilized in deep learning models. Such computational neural networks seem analogous to a view of the neocortex as a hierarchy of filters in which each layer captures some of the information in the operating environment, and then passes the remainder, as well as modified base signal, to other layers further up the hierarchy. This process yields a self-organizing stack of transducers, well-tuned to their operating environment. A 1995 description stated, \"...the infant\\'s brain seems to organize itself under the influence of waves of so-called trophic-factors ... different regions of the brain become connected sequentially, with one layer of tissue maturing before another and so on until the whole brain is mature.\"\\n\\n\\n== Commercial activity ==\\nMany organizations have become interested in deep learning for particular applications. In 2013, Facebook hired Yann LeCun to head its new artificial intelligence (AI) lab. The AI lab will help perform tasks such as automatically tagging uploaded pictures with the names of the people in them. In 2014, Facebook hired Vladimir Vapnik, a main developer of the Vapnik–Chervonenkis theory of statistical learning, and co-inventor of the support vector machine method.\\nIn 2014, Google bought DeepMind Technologies, a British start-up that developed a system capable of learning how to play Atari video games using only pixels as data input. In 2015 they demonstrated their AlphaGo system which achieved one of the long-standing \"grand challenges\" of AI by learning the game of Go well enough to beat a professional Go player.\\nIn 2015, Blippar demonstrated a mobile augmented reality application that uses deep learning to recognize objects in real time.\\n\\n\\n== Criticism and comment ==\\nDeep learning has attracted both criticism and comment, in some cases from outside the field of computer science.\\nA main criticism concerns the lack of theory surrounding the methods. Learning in the most common deep architectures is implemented using well-understood gradient descent. However, the theory surrounding other algorithms, such as contrastive divergence is less clear. (e.g., Does it converge? If so, how fast? What is it approximating?) Deep learning methods are often looked at as a black box, with most confirmations done empirically, rather than theoretically.\\nOthers point out that deep learning should be looked at as a step towards realizing strong AI, not as an all-encompassing solution. Despite the power of deep learning methods, they still lack much of the functionality needed for realizing this goal entirely. Research psychologist Gary Marcus noted:\\n\\n\"Realistically, deep learning is only part of the larger challenge of building intelligent machines. Such techniques lack ways of representing causal relationships (...) have no obvious ways of performing logical inferences, and they are also still a long way from integrating abstract knowledge, such as information about what objects are, what they are for, and how they are typically used. The most powerful A.I. systems, like Watson (...) use techniques like deep learning as just one element in a very complicated ensemble of techniques, ranging from the statistical technique of Bayesian inference to deductive reasoning.\"\\n\\nAs an alternative to this emphasis on the limits of deep learning, one author speculated that it might be possible to train a machine vision stack to perform the sophisticated task of discriminating between \"old master\" and amateur figure drawings, and hypothesized that such a sensitivity might represent the rudiments of a non-trivial machine empathy. This same author proposed that this would be in line with anthropology, which identifies a concern with aesthetics as a key element of behavioral modernity.\\nIn further reference to the idea that artistic sensitivity might inhere within relatively low levels of the cognitive hierarchy, a published series of graphic representations of the internal states of deep (20-30 layers) neural networks attempting to discern within essentially random data the images on which they were trained demonstrate a visual appeal: the original research notice received well over 1,000 comments, and was for a time the most frequently accessed article on The Guardian\\'s web site.\\nSome deep learning architectures display problematic behaviors, such as confidently classifying unrecognizable images as belonging to a familiar category of ordinary images and misclassifying minuscule perturbations of correctly classified images. Goertzel hypothesized that these behaviors are due to limitations in their internal representations and that these limitations would inhibit integration into heterogeneous multi-component AGI architectures. These issues may possibly be addressed by deep learning architectures that internally form states homologous to image-grammar decompositions of observed entities and events. Learning a grammar (visual or linguistic) from training data would be equivalent to restricting the system to commonsense reasoning that operates on concepts in terms of grammatical production rules and is a basic goal of both human language acquisition and AI.\\n\\n\\n== Software libraries ==\\n\\nDeeplearning4j—An open-source deep-learning library written for Java/C++ with LSTMs and convolutional networks. It provides parallelization with Spark on CPUs and GPUs, and imports models from Keras, Tensorflow and Theano.\\nGensim—A toolkit for natural language processing implemented in the Python programming language.\\nKeras—An open-source deep learning framework for the Python programming language.\\nMicrosoft CNTK (Computational Network Toolkit)—Microsoft\\'s open-source deep-learning toolkit for Windows and Linux. It provides parallelization with CPUs and GPUs across multiple servers.\\nMXNet—An open source deep learning framework that allows you to define, train, and deploy deep neural networks.\\nOpenNN—An open source C++ library which implements deep neural networks and provides parallelization with CPUs.\\nPaddle—An open source C++ /CUDA library with Python API for scalable deep learning platform with CPUs and GPUs, originally developed by Baidu.\\nPytorch - Tensors and Dynamic neural networks in Python with GPUs. The Python version of Torch, associated with Facebook.\\nTensorFlow—Google\\'s open source machine learning library in C++ and Python with APIs for both. It provides parallelization with CPUs and GPUs.\\nTheano—An open source machine learning library for Python supported by the University of Montreal and Yoshua Bengio\\'s team.\\nTorch—An open source software library for machine learning based on the Lua programming language and used by Facebook.\\nCaffe - Caffe is a deep learning framework made with expression, speed, and modularity in mind. It is developed by the Berkeley Vision and Learning Center (BVLC) and by community contributors. Focused on image processing.\\n\\n\\n== See also ==\\nApplications of artificial intelligence\\nArtificial neural networks\\nBoltzmann machine\\nCompressed Sensing\\nConnectionism\\nEcho state network\\nList of artificial intelligence projects\\nLiquid state machine\\nList of datasets for machine learning research\\nReservoir computing\\nSparse coding\\n\\n\\n== References ==\\n\\n\\n== External links ==\\nDeep Learning Libraries by Language\\nData Science: Data to Insights from MIT (deep learning)\\nSchneiderman, R. (January 2015). \"Accuracy, Apps Advance Speech Recognition [Special Reports]\". IEEE Signal Processing Magazine. 32 (1): 12–125. ISSN 1053-5888. doi:10.1109/MSP.2014.2358717.',\n",
       "  'Deep learning')]"
      ]
     },
     "execution_count": 48,
     "metadata": {},
     "output_type": "execute_result"
    }
   ],
   "source": [
    "new_content"
   ]
  },
  {
   "cell_type": "code",
   "execution_count": 49,
   "metadata": {},
   "outputs": [
    {
     "data": {
      "text/html": [
       "<div>\n",
       "<table border=\"1\" class=\"dataframe\">\n",
       "  <thead>\n",
       "    <tr style=\"text-align: right;\">\n",
       "      <th></th>\n",
       "      <th>pageid</th>\n",
       "      <th>content</th>\n",
       "      <th>title</th>\n",
       "    </tr>\n",
       "  </thead>\n",
       "  <tbody>\n",
       "    <tr>\n",
       "      <th>0</th>\n",
       "      <td>&lt;WikipediaPage 'Deep learning'&gt;</td>\n",
       "      <td>Deep learning (also known as deep structured l...</td>\n",
       "      <td>Deep learning</td>\n",
       "    </tr>\n",
       "  </tbody>\n",
       "</table>\n",
       "</div>"
      ],
      "text/plain": [
       "                            pageid  \\\n",
       "0  <WikipediaPage 'Deep learning'>   \n",
       "\n",
       "                                             content          title  \n",
       "0  Deep learning (also known as deep structured l...  Deep learning  "
      ]
     },
     "execution_count": 49,
     "metadata": {},
     "output_type": "execute_result"
    }
   ],
   "source": [
    "X_new_df = pd.DataFrame(new_content, columns= (\"pageid\",\"content\",\"title\"))\n",
    "\n",
    "X_new_df.head()"
   ]
  },
  {
   "cell_type": "code",
   "execution_count": 50,
   "metadata": {
    "collapsed": true
   },
   "outputs": [],
   "source": [
    "X_new = X_new_df['content'].apply(lambda x: x.lower())"
   ]
  },
  {
   "cell_type": "code",
   "execution_count": 51,
   "metadata": {},
   "outputs": [
    {
     "data": {
      "text/plain": [
       "array(['Machine_Learning'], dtype=object)"
      ]
     },
     "execution_count": 51,
     "metadata": {},
     "output_type": "execute_result"
    }
   ],
   "source": [
    "rf_gs.predict(X_new)\n"
   ]
  },
  {
   "cell_type": "code",
   "execution_count": 52,
   "metadata": {},
   "outputs": [
    {
     "data": {
      "text/html": [
       "<div>\n",
       "<table border=\"1\" class=\"dataframe\">\n",
       "  <thead>\n",
       "    <tr style=\"text-align: right;\">\n",
       "      <th></th>\n",
       "      <th>ns</th>\n",
       "      <th>pageid</th>\n",
       "      <th>title</th>\n",
       "      <th>type</th>\n",
       "    </tr>\n",
       "  </thead>\n",
       "  <tbody>\n",
       "    <tr>\n",
       "      <th>0</th>\n",
       "      <td>0</td>\n",
       "      <td>13277642</td>\n",
       "      <td>Accounting software</td>\n",
       "      <td>page</td>\n",
       "    </tr>\n",
       "    <tr>\n",
       "      <th>1</th>\n",
       "      <td>0</td>\n",
       "      <td>2405553</td>\n",
       "      <td>Comparison of accounting software</td>\n",
       "      <td>page</td>\n",
       "    </tr>\n",
       "    <tr>\n",
       "      <th>2</th>\n",
       "      <td>0</td>\n",
       "      <td>13229015</td>\n",
       "      <td>2Clix Software</td>\n",
       "      <td>page</td>\n",
       "    </tr>\n",
       "    <tr>\n",
       "      <th>3</th>\n",
       "      <td>0</td>\n",
       "      <td>1272412</td>\n",
       "      <td>Accounting information system</td>\n",
       "      <td>page</td>\n",
       "    </tr>\n",
       "    <tr>\n",
       "      <th>4</th>\n",
       "      <td>0</td>\n",
       "      <td>9016834</td>\n",
       "      <td>Accounting intelligence</td>\n",
       "      <td>page</td>\n",
       "    </tr>\n",
       "  </tbody>\n",
       "</table>\n",
       "</div>"
      ],
      "text/plain": [
       "   ns    pageid                              title  type\n",
       "0   0  13277642                Accounting software  page\n",
       "1   0   2405553  Comparison of accounting software  page\n",
       "2   0  13229015                     2Clix Software  page\n",
       "3   0   1272412      Accounting information system  page\n",
       "4   0   9016834            Accounting intelligence  page"
      ]
     },
     "execution_count": 52,
     "metadata": {},
     "output_type": "execute_result"
    }
   ],
   "source": [
    "new_data_as = wikipedia.page('Accounting software')\n",
    "\n",
    "as_df = execute_category_query(\"Accounting software\")\n",
    "as_df.head()"
   ]
  },
  {
   "cell_type": "code",
   "execution_count": 53,
   "metadata": {
    "collapsed": true
   },
   "outputs": [],
   "source": [
    "new_content_as = []\n",
    "\n",
    "page =  wikipedia.WikipediaPage(pageid = 13277642)\n",
    "content = page.content\n",
    "title = page.title\n",
    "new_content_as.append((page, content, title))"
   ]
  },
  {
   "cell_type": "code",
   "execution_count": 54,
   "metadata": {},
   "outputs": [
    {
     "data": {
      "text/html": [
       "<div>\n",
       "<table border=\"1\" class=\"dataframe\">\n",
       "  <thead>\n",
       "    <tr style=\"text-align: right;\">\n",
       "      <th></th>\n",
       "      <th>pageid</th>\n",
       "      <th>content</th>\n",
       "      <th>title</th>\n",
       "    </tr>\n",
       "  </thead>\n",
       "  <tbody>\n",
       "    <tr>\n",
       "      <th>0</th>\n",
       "      <td>&lt;WikipediaPage 'Accounting software'&gt;</td>\n",
       "      <td>Accounting software describes a type of applic...</td>\n",
       "      <td>Accounting software</td>\n",
       "    </tr>\n",
       "  </tbody>\n",
       "</table>\n",
       "</div>"
      ],
      "text/plain": [
       "                                  pageid  \\\n",
       "0  <WikipediaPage 'Accounting software'>   \n",
       "\n",
       "                                             content                title  \n",
       "0  Accounting software describes a type of applic...  Accounting software  "
      ]
     },
     "execution_count": 54,
     "metadata": {},
     "output_type": "execute_result"
    }
   ],
   "source": [
    "X_as_df = pd.DataFrame(new_content_as, columns= (\"pageid\",\"content\",\"title\"))\n",
    "\n",
    "X_as_df.head()"
   ]
  },
  {
   "cell_type": "code",
   "execution_count": 55,
   "metadata": {
    "collapsed": true
   },
   "outputs": [],
   "source": [
    "X_as = X_as_df['content'].apply(lambda x: x.lower())\n"
   ]
  },
  {
   "cell_type": "code",
   "execution_count": 56,
   "metadata": {},
   "outputs": [
    {
     "data": {
      "text/plain": [
       "array(['Business_Software'], dtype=object)"
      ]
     },
     "execution_count": 56,
     "metadata": {},
     "output_type": "execute_result"
    }
   ],
   "source": [
    "rf_gs.predict(X_as)\n"
   ]
  },
  {
   "cell_type": "code",
   "execution_count": 57,
   "metadata": {},
   "outputs": [
    {
     "data": {
      "text/plain": [
       "'https://en.wikipedia.org/wiki/Deep_learning'"
      ]
     },
     "execution_count": 57,
     "metadata": {},
     "output_type": "execute_result"
    }
   ],
   "source": [
    "page = wikipedia.page('deep learning').url\n",
    "page"
   ]
  },
  {
   "cell_type": "code",
   "execution_count": 58,
   "metadata": {
    "collapsed": true
   },
   "outputs": [],
   "source": [
    "new_url = page\n"
   ]
  },
  {
   "cell_type": "code",
   "execution_count": 59,
   "metadata": {
    "collapsed": true
   },
   "outputs": [],
   "source": [
    "new_url_df_1 = X_new_df\n"
   ]
  },
  {
   "cell_type": "code",
   "execution_count": 60,
   "metadata": {
    "collapsed": true
   },
   "outputs": [],
   "source": [
    "new_url_df_1[\"new_url\"] = new_url\n"
   ]
  },
  {
   "cell_type": "code",
   "execution_count": 61,
   "metadata": {},
   "outputs": [
    {
     "data": {
      "text/html": [
       "<div>\n",
       "<table border=\"1\" class=\"dataframe\">\n",
       "  <thead>\n",
       "    <tr style=\"text-align: right;\">\n",
       "      <th></th>\n",
       "      <th>pageid</th>\n",
       "      <th>content</th>\n",
       "      <th>title</th>\n",
       "      <th>new_url</th>\n",
       "    </tr>\n",
       "  </thead>\n",
       "  <tbody>\n",
       "    <tr>\n",
       "      <th>0</th>\n",
       "      <td>&lt;WikipediaPage 'Deep learning'&gt;</td>\n",
       "      <td>Deep learning (also known as deep structured l...</td>\n",
       "      <td>Deep learning</td>\n",
       "      <td>https://en.wikipedia.org/wiki/Deep_learning</td>\n",
       "    </tr>\n",
       "  </tbody>\n",
       "</table>\n",
       "</div>"
      ],
      "text/plain": [
       "                            pageid  \\\n",
       "0  <WikipediaPage 'Deep learning'>   \n",
       "\n",
       "                                             content          title  \\\n",
       "0  Deep learning (also known as deep structured l...  Deep learning   \n",
       "\n",
       "                                       new_url  \n",
       "0  https://en.wikipedia.org/wiki/Deep_learning  "
      ]
     },
     "execution_count": 61,
     "metadata": {},
     "output_type": "execute_result"
    }
   ],
   "source": [
    "new_url_df_1\n"
   ]
  },
  {
   "cell_type": "code",
   "execution_count": 62,
   "metadata": {
    "collapsed": true
   },
   "outputs": [],
   "source": [
    "x_url_1 = new_url_df_1[\"new_url\"].apply(lambda x: x.lower())\n"
   ]
  },
  {
   "cell_type": "code",
   "execution_count": 63,
   "metadata": {},
   "outputs": [
    {
     "data": {
      "text/plain": [
       "0    https://en.wikipedia.org/wiki/deep_learning\n",
       "Name: new_url, dtype: object"
      ]
     },
     "execution_count": 63,
     "metadata": {},
     "output_type": "execute_result"
    }
   ],
   "source": [
    "x_url_1\n"
   ]
  },
  {
   "cell_type": "code",
   "execution_count": 64,
   "metadata": {},
   "outputs": [
    {
     "data": {
      "text/plain": [
       "array(['Business_Software'], dtype=object)"
      ]
     },
     "execution_count": 64,
     "metadata": {},
     "output_type": "execute_result"
    }
   ],
   "source": [
    "rf_gs.predict(x_url_1)\n"
   ]
  },
  {
   "cell_type": "code",
   "execution_count": null,
   "metadata": {
    "collapsed": true
   },
   "outputs": [],
   "source": []
  }
 ],
 "metadata": {
  "kernelspec": {
   "display_name": "Python 3",
   "language": "python",
   "name": "python3"
  },
  "language_info": {
   "codemirror_mode": {
    "name": "ipython",
    "version": 3
   },
   "file_extension": ".py",
   "mimetype": "text/x-python",
   "name": "python",
   "nbconvert_exporter": "python",
   "pygments_lexer": "ipython3",
   "version": "3.6.2"
  }
 },
 "nbformat": 4,
 "nbformat_minor": 2
}
