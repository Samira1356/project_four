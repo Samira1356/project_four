{
 "cells": [
  {
   "cell_type": "markdown",
   "metadata": {
    "collapsed": true
   },
   "source": [
    "\n",
    "# Semantic Search\n",
    "## Part I - Data Collection\n",
    "Query the wikipedia API and collect all of the articles under the following wikipedia categories:\n",
    "## Machine Learning\n",
    "## Business Software\n",
    "    \n",
    "    \n",
    "The code should be modular enough that any valid category from Wikipedia can be queried by the code.\n",
    "The results of the query should be written to PostgreSQL tables, page and category. Build some sort of reference between the pages and categories. (Keep in mind that a page can have many categories and a category can have many pages so a straight foreign key arrangement will not work.)"
   ]
  },
  {
   "cell_type": "code",
   "execution_count": 1,
   "metadata": {},
   "outputs": [
    {
     "name": "stdout",
     "output_type": "stream",
     "text": [
      "Requirement already satisfied: wikipedia in /opt/conda/lib/python3.6/site-packages\r\n",
      "Requirement already satisfied: requests<3.0.0,>=2.0.0 in /opt/conda/lib/python3.6/site-packages (from wikipedia)\r\n",
      "Requirement already satisfied: beautifulsoup4 in /opt/conda/lib/python3.6/site-packages (from wikipedia)\r\n",
      "Requirement already satisfied: chardet<3.1.0,>=3.0.2 in /opt/conda/lib/python3.6/site-packages (from requests<3.0.0,>=2.0.0->wikipedia)\r\n",
      "Requirement already satisfied: idna<2.7,>=2.5 in /opt/conda/lib/python3.6/site-packages (from requests<3.0.0,>=2.0.0->wikipedia)\r\n",
      "Requirement already satisfied: urllib3<1.23,>=1.21.1 in /opt/conda/lib/python3.6/site-packages (from requests<3.0.0,>=2.0.0->wikipedia)\r\n",
      "Requirement already satisfied: certifi>=2017.4.17 in /opt/conda/lib/python3.6/site-packages (from requests<3.0.0,>=2.0.0->wikipedia)\r\n"
     ]
    }
   ],
   "source": [
    "#collecting wikipedia data\n",
    "!pip install wikipedia"
   ]
  },
  {
   "cell_type": "code",
   "execution_count": 2,
   "metadata": {},
   "outputs": [
    {
     "name": "stdout",
     "output_type": "stream",
     "text": [
      "Requirement already satisfied: psycopg2 in /opt/conda/lib/python3.6/site-packages\r\n"
     ]
    }
   ],
   "source": [
    "!pip install psycopg2\n"
   ]
  },
  {
   "cell_type": "code",
   "execution_count": 3,
   "metadata": {
    "collapsed": true
   },
   "outputs": [],
   "source": [
    "import re\n",
    "import requests\n",
    "import pandas as pd\n",
    "import wikipedia\n",
    "import psycopg2 as pg2\n",
    "from psycopg2.extras import RealDictCursor\n",
    "from sklearn.neighbors import NearestNeighbors\n",
    "import matplotlib.pyplot as plt\n",
    "import seaborn as sns\n",
    "from sklearn.pipeline import Pipeline\n",
    "\n",
    "#import the essential tools for lsa\n",
    "from sklearn.feature_extraction.text import CountVectorizer, TfidfVectorizer, HashingVectorizer\n",
    "from sklearn.decomposition import TruncatedSVD\n",
    "from sklearn.metrics.pairwise import cosine_similarity\n",
    "from sklearn.preprocessing import LabelEncoder\n",
    "\n",
    "%matplotlib inline\n",
    "\n",
    "from sqlalchemy import create_engine"
   ]
  },
  {
   "cell_type": "code",
   "execution_count": 4,
   "metadata": {
    "collapsed": true
   },
   "outputs": [],
   "source": [
    "def generate_category(category):\n",
    "    '''\n",
    "    format a category for insertion in to a wikipedia api call\n",
    "    '''\n",
    "    category = re.sub('\\s','+',category)\n",
    "    return category\n"
   ]
  },
  {
   "cell_type": "code",
   "execution_count": 5,
   "metadata": {
    "collapsed": true
   },
   "outputs": [],
   "source": [
    "#to get the categories and category types\n",
    "\n",
    "def generate_query(category):\n",
    "    '''\n",
    "    Format an api call for requests\n",
    "    '''\n",
    "    query = \"\"\"\n",
    "            http://en.wikipedia.org/w/api.php?\n",
    "            action=query&\n",
    "            format=json&\n",
    "            list=categorymembers&\n",
    "            cmtitle=Category:{}&\n",
    "            cmprop=ids%7Ctitle%7Ctype&\n",
    "            cmlimit=max\n",
    "            \"\"\".format(generate_category(category))\n",
    "    query = re.sub('\\s','',query)\n",
    "    return query"
   ]
  },
  {
   "cell_type": "code",
   "execution_count": 6,
   "metadata": {
    "collapsed": true
   },
   "outputs": [],
   "source": [
    "def execute_category_query(category):\n",
    "    '''\n",
    "    Executes a category qeury and returns a \n",
    "    DataFrame of the category members\n",
    "    '''\n",
    "    \n",
    "    r = requests.get(generate_query(category))\n",
    "    response = r.json()\n",
    "    return pd.DataFrame(response['query']['categorymembers'])"
   ]
  },
  {
   "cell_type": "code",
   "execution_count": 7,
   "metadata": {
    "collapsed": true
   },
   "outputs": [],
   "source": [
    "#to get the category id for machine learning \n",
    "ML_category = wikipedia.page('Category:Machine learning')"
   ]
  },
  {
   "cell_type": "code",
   "execution_count": 8,
   "metadata": {
    "collapsed": true
   },
   "outputs": [],
   "source": [
    "ML_page = wikipedia.page('Machine learning')\n"
   ]
  },
  {
   "cell_type": "code",
   "execution_count": 9,
   "metadata": {},
   "outputs": [
    {
     "name": "stdout",
     "output_type": "stream",
     "text": [
      "706543\n",
      "233488\n"
     ]
    }
   ],
   "source": [
    "print(ML_category.pageid)\n",
    "print(ML_page.pageid)"
   ]
  },
  {
   "cell_type": "code",
   "execution_count": 10,
   "metadata": {},
   "outputs": [
    {
     "data": {
      "text/plain": [
       "'http://en.wikipedia.org/w/api.php?action=query&format=json&list=categorymembers&cmtitle=Category:machine+learning&cmprop=ids%7Ctitle%7Ctype&cmlimit=max'"
      ]
     },
     "execution_count": 10,
     "metadata": {},
     "output_type": "execute_result"
    }
   ],
   "source": [
    "ML_query = generate_query(\"machine learning\")\n",
    "ML_query"
   ]
  },
  {
   "cell_type": "code",
   "execution_count": 11,
   "metadata": {},
   "outputs": [
    {
     "data": {
      "text/plain": [
       "'1037763'"
      ]
     },
     "execution_count": 11,
     "metadata": {},
     "output_type": "execute_result"
    }
   ],
   "source": [
    "wikipedia.page(\"Business_Software\").pageid\n"
   ]
  },
  {
   "cell_type": "code",
   "execution_count": 12,
   "metadata": {},
   "outputs": [
    {
     "data": {
      "text/plain": [
       "'1744470'"
      ]
     },
     "execution_count": 12,
     "metadata": {},
     "output_type": "execute_result"
    }
   ],
   "source": [
    "wikipedia.page(\"Category:Business_Software\").pageid"
   ]
  },
  {
   "cell_type": "code",
   "execution_count": 13,
   "metadata": {},
   "outputs": [
    {
     "data": {
      "text/html": [
       "<div>\n",
       "<table border=\"1\" class=\"dataframe\">\n",
       "  <thead>\n",
       "    <tr style=\"text-align: right;\">\n",
       "      <th></th>\n",
       "      <th>ns</th>\n",
       "      <th>pageid</th>\n",
       "      <th>title</th>\n",
       "      <th>type</th>\n",
       "    </tr>\n",
       "  </thead>\n",
       "  <tbody>\n",
       "    <tr>\n",
       "      <th>0</th>\n",
       "      <td>2</td>\n",
       "      <td>54972729</td>\n",
       "      <td>User:CustIntelMngt/sandbox/Customer Intelligen...</td>\n",
       "      <td>page</td>\n",
       "    </tr>\n",
       "    <tr>\n",
       "      <th>1</th>\n",
       "      <td>0</td>\n",
       "      <td>43385931</td>\n",
       "      <td>Data exploration</td>\n",
       "      <td>page</td>\n",
       "    </tr>\n",
       "    <tr>\n",
       "      <th>2</th>\n",
       "      <td>0</td>\n",
       "      <td>49082762</td>\n",
       "      <td>List of datasets for machine-learning research</td>\n",
       "      <td>page</td>\n",
       "    </tr>\n",
       "    <tr>\n",
       "      <th>3</th>\n",
       "      <td>0</td>\n",
       "      <td>233488</td>\n",
       "      <td>Machine learning</td>\n",
       "      <td>page</td>\n",
       "    </tr>\n",
       "    <tr>\n",
       "      <th>4</th>\n",
       "      <td>0</td>\n",
       "      <td>53587467</td>\n",
       "      <td>Outline of machine learning</td>\n",
       "      <td>page</td>\n",
       "    </tr>\n",
       "  </tbody>\n",
       "</table>\n",
       "</div>"
      ],
      "text/plain": [
       "   ns    pageid                                              title  type\n",
       "0   2  54972729  User:CustIntelMngt/sandbox/Customer Intelligen...  page\n",
       "1   0  43385931                                   Data exploration  page\n",
       "2   0  49082762     List of datasets for machine-learning research  page\n",
       "3   0    233488                                   Machine learning  page\n",
       "4   0  53587467                        Outline of machine learning  page"
      ]
     },
     "execution_count": 13,
     "metadata": {},
     "output_type": "execute_result"
    }
   ],
   "source": [
    "ML_df = execute_category_query(\"machine learning\")\n",
    "ML_df.head()"
   ]
  },
  {
   "cell_type": "code",
   "execution_count": 14,
   "metadata": {
    "collapsed": true
   },
   "outputs": [],
   "source": [
    "#mask where title has categories in it.\n",
    "category_mask = ML_df[\"title\"].str.contains(\"Category:\")"
   ]
  },
  {
   "cell_type": "code",
   "execution_count": 15,
   "metadata": {},
   "outputs": [
    {
     "data": {
      "text/html": [
       "<div>\n",
       "<table border=\"1\" class=\"dataframe\">\n",
       "  <thead>\n",
       "    <tr style=\"text-align: right;\">\n",
       "      <th></th>\n",
       "      <th>ns</th>\n",
       "      <th>pageid</th>\n",
       "      <th>title</th>\n",
       "      <th>type</th>\n",
       "    </tr>\n",
       "  </thead>\n",
       "  <tbody>\n",
       "    <tr>\n",
       "      <th>200</th>\n",
       "      <td>14</td>\n",
       "      <td>33547387</td>\n",
       "      <td>Category:Applied machine learning</td>\n",
       "      <td>subcat</td>\n",
       "    </tr>\n",
       "    <tr>\n",
       "      <th>201</th>\n",
       "      <td>14</td>\n",
       "      <td>42936114</td>\n",
       "      <td>Category:Artificial neural networks</td>\n",
       "      <td>subcat</td>\n",
       "    </tr>\n",
       "    <tr>\n",
       "      <th>202</th>\n",
       "      <td>14</td>\n",
       "      <td>1718975</td>\n",
       "      <td>Category:Bayesian networks</td>\n",
       "      <td>subcat</td>\n",
       "    </tr>\n",
       "    <tr>\n",
       "      <th>203</th>\n",
       "      <td>14</td>\n",
       "      <td>1991254</td>\n",
       "      <td>Category:Classification algorithms</td>\n",
       "      <td>subcat</td>\n",
       "    </tr>\n",
       "    <tr>\n",
       "      <th>204</th>\n",
       "      <td>14</td>\n",
       "      <td>22532673</td>\n",
       "      <td>Category:Cluster analysis</td>\n",
       "      <td>subcat</td>\n",
       "    </tr>\n",
       "  </tbody>\n",
       "</table>\n",
       "</div>"
      ],
      "text/plain": [
       "     ns    pageid                                title    type\n",
       "200  14  33547387    Category:Applied machine learning  subcat\n",
       "201  14  42936114  Category:Artificial neural networks  subcat\n",
       "202  14   1718975           Category:Bayesian networks  subcat\n",
       "203  14   1991254   Category:Classification algorithms  subcat\n",
       "204  14  22532673            Category:Cluster analysis  subcat"
      ]
     },
     "execution_count": 15,
     "metadata": {},
     "output_type": "execute_result"
    }
   ],
   "source": [
    "ML_df[category_mask].head()\n"
   ]
  },
  {
   "cell_type": "code",
   "execution_count": 16,
   "metadata": {
    "collapsed": true
   },
   "outputs": [],
   "source": [
    "ML_category = ML_df[category_mask]"
   ]
  },
  {
   "cell_type": "code",
   "execution_count": 17,
   "metadata": {},
   "outputs": [
    {
     "data": {
      "text/plain": [
       "(30, 4)"
      ]
     },
     "execution_count": 17,
     "metadata": {},
     "output_type": "execute_result"
    }
   ],
   "source": [
    "ML_category.shape"
   ]
  },
  {
   "cell_type": "code",
   "execution_count": 18,
   "metadata": {},
   "outputs": [
    {
     "name": "stderr",
     "output_type": "stream",
     "text": [
      "/opt/conda/lib/python3.6/site-packages/ipykernel_launcher.py:1: SettingWithCopyWarning: \n",
      "A value is trying to be set on a copy of a slice from a DataFrame.\n",
      "Try using .loc[row_indexer,col_indexer] = value instead\n",
      "\n",
      "See the caveats in the documentation: http://pandas.pydata.org/pandas-docs/stable/indexing.html#indexing-view-versus-copy\n",
      "  \"\"\"Entry point for launching an IPython kernel.\n"
     ]
    }
   ],
   "source": [
    "ML_category[\"category\"] = \"Machine_Learning\"\n"
   ]
  },
  {
   "cell_type": "code",
   "execution_count": 20,
   "metadata": {},
   "outputs": [
    {
     "data": {
      "text/html": [
       "<div>\n",
       "<table border=\"1\" class=\"dataframe\">\n",
       "  <thead>\n",
       "    <tr style=\"text-align: right;\">\n",
       "      <th></th>\n",
       "      <th>ns</th>\n",
       "      <th>pageid</th>\n",
       "      <th>title</th>\n",
       "      <th>type</th>\n",
       "      <th>category</th>\n",
       "    </tr>\n",
       "  </thead>\n",
       "  <tbody>\n",
       "    <tr>\n",
       "      <th>200</th>\n",
       "      <td>14</td>\n",
       "      <td>33547387</td>\n",
       "      <td>Category:Applied machine learning</td>\n",
       "      <td>subcat</td>\n",
       "      <td>Machine_Learning</td>\n",
       "    </tr>\n",
       "    <tr>\n",
       "      <th>201</th>\n",
       "      <td>14</td>\n",
       "      <td>42936114</td>\n",
       "      <td>Category:Artificial neural networks</td>\n",
       "      <td>subcat</td>\n",
       "      <td>Machine_Learning</td>\n",
       "    </tr>\n",
       "    <tr>\n",
       "      <th>202</th>\n",
       "      <td>14</td>\n",
       "      <td>1718975</td>\n",
       "      <td>Category:Bayesian networks</td>\n",
       "      <td>subcat</td>\n",
       "      <td>Machine_Learning</td>\n",
       "    </tr>\n",
       "    <tr>\n",
       "      <th>203</th>\n",
       "      <td>14</td>\n",
       "      <td>1991254</td>\n",
       "      <td>Category:Classification algorithms</td>\n",
       "      <td>subcat</td>\n",
       "      <td>Machine_Learning</td>\n",
       "    </tr>\n",
       "    <tr>\n",
       "      <th>204</th>\n",
       "      <td>14</td>\n",
       "      <td>22532673</td>\n",
       "      <td>Category:Cluster analysis</td>\n",
       "      <td>subcat</td>\n",
       "      <td>Machine_Learning</td>\n",
       "    </tr>\n",
       "  </tbody>\n",
       "</table>\n",
       "</div>"
      ],
      "text/plain": [
       "     ns    pageid                                title    type  \\\n",
       "200  14  33547387    Category:Applied machine learning  subcat   \n",
       "201  14  42936114  Category:Artificial neural networks  subcat   \n",
       "202  14   1718975           Category:Bayesian networks  subcat   \n",
       "203  14   1991254   Category:Classification algorithms  subcat   \n",
       "204  14  22532673            Category:Cluster analysis  subcat   \n",
       "\n",
       "             category  \n",
       "200  Machine_Learning  \n",
       "201  Machine_Learning  \n",
       "202  Machine_Learning  \n",
       "203  Machine_Learning  \n",
       "204  Machine_Learning  "
      ]
     },
     "execution_count": 20,
     "metadata": {},
     "output_type": "execute_result"
    }
   ],
   "source": [
    "ML_category.head()"
   ]
  },
  {
   "cell_type": "code",
   "execution_count": 21,
   "metadata": {
    "collapsed": true
   },
   "outputs": [],
   "source": [
    "ML_category = ML_category[[\"title\",\"category\"]]"
   ]
  },
  {
   "cell_type": "code",
   "execution_count": 22,
   "metadata": {},
   "outputs": [
    {
     "data": {
      "text/html": [
       "<div>\n",
       "<table border=\"1\" class=\"dataframe\">\n",
       "  <thead>\n",
       "    <tr style=\"text-align: right;\">\n",
       "      <th></th>\n",
       "      <th>title</th>\n",
       "      <th>category</th>\n",
       "    </tr>\n",
       "  </thead>\n",
       "  <tbody>\n",
       "    <tr>\n",
       "      <th>200</th>\n",
       "      <td>Category:Applied machine learning</td>\n",
       "      <td>Machine_Learning</td>\n",
       "    </tr>\n",
       "    <tr>\n",
       "      <th>201</th>\n",
       "      <td>Category:Artificial neural networks</td>\n",
       "      <td>Machine_Learning</td>\n",
       "    </tr>\n",
       "    <tr>\n",
       "      <th>202</th>\n",
       "      <td>Category:Bayesian networks</td>\n",
       "      <td>Machine_Learning</td>\n",
       "    </tr>\n",
       "    <tr>\n",
       "      <th>203</th>\n",
       "      <td>Category:Classification algorithms</td>\n",
       "      <td>Machine_Learning</td>\n",
       "    </tr>\n",
       "    <tr>\n",
       "      <th>204</th>\n",
       "      <td>Category:Cluster analysis</td>\n",
       "      <td>Machine_Learning</td>\n",
       "    </tr>\n",
       "  </tbody>\n",
       "</table>\n",
       "</div>"
      ],
      "text/plain": [
       "                                   title          category\n",
       "200    Category:Applied machine learning  Machine_Learning\n",
       "201  Category:Artificial neural networks  Machine_Learning\n",
       "202           Category:Bayesian networks  Machine_Learning\n",
       "203   Category:Classification algorithms  Machine_Learning\n",
       "204            Category:Cluster analysis  Machine_Learning"
      ]
     },
     "execution_count": 22,
     "metadata": {},
     "output_type": "execute_result"
    }
   ],
   "source": [
    "ML_category.head()\n"
   ]
  },
  {
   "cell_type": "code",
   "execution_count": 23,
   "metadata": {
    "collapsed": true
   },
   "outputs": [],
   "source": [
    "def remove_category(category):\n",
    "    category = re.sub('Category:','',category)\n",
    "    return category"
   ]
  },
  {
   "cell_type": "code",
   "execution_count": 24,
   "metadata": {},
   "outputs": [
    {
     "data": {
      "text/plain": [
       "['Applied machine learning',\n",
       " 'Artificial neural networks',\n",
       " 'Bayesian networks',\n",
       " 'Classification algorithms',\n",
       " 'Cluster analysis']"
      ]
     },
     "execution_count": 24,
     "metadata": {},
     "output_type": "execute_result"
    }
   ],
   "source": [
    "ML_df[category_mask].head()[\"title\"].apply(remove_category).tolist()\n"
   ]
  },
  {
   "cell_type": "code",
   "execution_count": 25,
   "metadata": {
    "collapsed": true
   },
   "outputs": [],
   "source": [
    "subcat_df_list_ML = []\n"
   ]
  },
  {
   "cell_type": "code",
   "execution_count": 26,
   "metadata": {
    "collapsed": true
   },
   "outputs": [],
   "source": [
    "categories_to_query = ML_df[category_mask]['title'].apply(remove_category).tolist()\n"
   ]
  },
  {
   "cell_type": "code",
   "execution_count": 27,
   "metadata": {},
   "outputs": [
    {
     "data": {
      "text/plain": [
       "['Applied machine learning',\n",
       " 'Artificial neural networks',\n",
       " 'Bayesian networks',\n",
       " 'Classification algorithms',\n",
       " 'Cluster analysis',\n",
       " 'Computational learning theory',\n",
       " 'Artificial intelligence conferences',\n",
       " 'Data mining and machine learning software',\n",
       " 'Datasets in machine learning',\n",
       " 'Dimension reduction',\n",
       " 'Ensemble learning',\n",
       " 'Evolutionary algorithms',\n",
       " 'Genetic programming',\n",
       " 'Inductive logic programming',\n",
       " 'Kernel methods for machine learning',\n",
       " 'Latent variable models',\n",
       " 'Learning in computer vision',\n",
       " 'Log-linear models',\n",
       " 'Loss functions',\n",
       " 'Machine learning algorithms',\n",
       " 'Machine learning portal',\n",
       " 'Machine learning task',\n",
       " 'Markov models',\n",
       " 'Machine learning researchers',\n",
       " 'Semisupervised learning',\n",
       " 'Statistical natural language processing',\n",
       " 'Structured prediction',\n",
       " 'Supervised learning',\n",
       " 'Support vector machines',\n",
       " 'Unsupervised learning']"
      ]
     },
     "execution_count": 27,
     "metadata": {},
     "output_type": "execute_result"
    }
   ],
   "source": [
    "categories_to_query"
   ]
  },
  {
   "cell_type": "code",
   "execution_count": 28,
   "metadata": {
    "collapsed": true
   },
   "outputs": [],
   "source": [
    "for category in categories_to_query:\n",
    "    subcat_df_list_ML.append(execute_category_query(category))"
   ]
  },
  {
   "cell_type": "code",
   "execution_count": 29,
   "metadata": {},
   "outputs": [
    {
     "data": {
      "text/plain": [
       "[    ns    pageid                                   title  type\n",
       " 0    0  15795950                    Activity recognition  page\n",
       " 1    0  41916168                              AlchemyAPI  page\n",
       " 2    0  55075082                                   BigDL  page\n",
       " 3    0  53631046                        Caffe (software)  page\n",
       " 4    0  49119569    Comparison of deep learning software  page\n",
       " 5    0  41916447                                 Cortica  page\n",
       " 6    0  34529351                      DARPA LAGR Program  page\n",
       " 7    0  43169442                          Deeplearning4j  page\n",
       " 8    0  38818825                                 Diffbot  page\n",
       " 9    0  41184517                            Google Brain  page\n",
       " 10   0  46222904                         Intel RealSense  page\n",
       " 11   0  35456221                                 IRCF360  page\n",
       " 12   0    705605                             Jabberwacky  page\n",
       " 13   0  31663650                                  Kaggle  page\n",
       " 14   0  51650259                                   Keras  page\n",
       " 15   0  23048428                                  Kinect  page\n",
       " 16   0  23762260  Language Acquisition Device (computer)  page\n",
       " 17   0  48976249                             MysteryVibe  page\n",
       " 18   0  34113322                               Nest Labs  page\n",
       " 19   0  52202762                                 Niki.ai  page\n",
       " 20   0   1643246                                 Numenta  page\n",
       " 21   0  42129549                                  OpenNN  page\n",
       " 22   0  50303345           Portable Format for Analytics  page\n",
       " 23   0   2876802        Predictive Model Markup Language  page\n",
       " 24   0  41917196     Quantum Artificial Intelligence Lab  page\n",
       " 25   0  52404701                            Quick, Draw!  page\n",
       " 26   0  31103500                        Reasoning system  page\n",
       " 27   0  27370710                          Sense Networks  page\n",
       " 28   0  35494317                       Sensorium Project  page\n",
       " 29   0    763951   Simultaneous localization and mapping  page\n",
       " 30   0  47509138                                 Skymind  page\n",
       " 31   0   4086271                              SmartMatch  page\n",
       " 32   0  26127201                               TD-Gammon  page\n",
       " 33   0  48508507                              TensorFlow  page\n",
       " 34   0  40914533                     Vicarious (company)  page,\n",
       "      ns    pageid                                              title    type\n",
       " 0     0     21523                          Artificial neural network    page\n",
       " 1     0  28016652                Types of artificial neural networks    page\n",
       " 2     0  14179835                                Activation function    page\n",
       " 3     0   8220913                                            ADALINE    page\n",
       " 4     0  31663887              Adaptive neuro fuzzy inference system    page\n",
       " 5     0   3056879                          Adaptive resonance theory    page\n",
       " 6     0   4231161                                             ALOPEX    page\n",
       " 7     0  16167377                     Artificial Intelligence System    page\n",
       " 8     0    349771                                  Artificial neuron    page\n",
       " 9     0  51404222                                            Artisto    page\n",
       " 10    0   9054429                             Autoassociative memory    page\n",
       " 11    0   6836612                                        Autoencoder    page\n",
       " 12    0   1360091                                    Backpropagation    page\n",
       " 13    0  27569062                       Backpropagation through time    page\n",
       " 14    0  33025196                                              Bcpnn    page\n",
       " 15    0  17290783                   Bidirectional associative memory    page\n",
       " 16    0  49686608            Bidirectional recurrent neural networks    page\n",
       " 17    0  55075082                                              BigDL    page\n",
       " 18    0   1166059                                  Boltzmann machine    page\n",
       " 19    0  53631046                                   Caffe (software)    page\n",
       " 20    0  39182554                          Catastrophic interference    page\n",
       " 21    0   2506529                            Cellular neural network    page\n",
       " 22    0   8160211           Cerebellar model articulation controller    page\n",
       " 23    0  38156432                                               CoDi    page\n",
       " 24    0   9583985                                  Committee machine    page\n",
       " 25    0  26266110                               Competitive learning    page\n",
       " 26    0  13526929            Compositional pattern-producing network    page\n",
       " 27    0   1532719                          Computational cybernetics    page\n",
       " 28    0   8402086                Computational neurogenetic modeling    page\n",
       " 29    0  54550729        Connectionist temporal classification (CTC)    page\n",
       " ..   ..       ...                                                ...     ...\n",
       " 101   0  41575347                                          Quickprop    page\n",
       " 102   0   2310753                              Radial basis function    page\n",
       " 103   0   9651443                      Radial basis function network    page\n",
       " 104   0   8278198                              Random neural network    page\n",
       " 105   0  37862937                        Rectifier (neural networks)    page\n",
       " 106   0   1706303                           Recurrent neural network    page\n",
       " 107   0  43705185                           Recursive neural network    page\n",
       " 108   0  10667750                                Reservoir computing    page\n",
       " 109   0  33742232                       Restricted Boltzmann machine    page\n",
       " 110   0   7950358                                              Rprop    page\n",
       " 111   0     76996                                Self-organizing map    page\n",
       " 112   0   3710117                            Semantic neural network    page\n",
       " 113   0     87210                                   Sigmoid function    page\n",
       " 114   0   6152185                                   Softmax function    page\n",
       " 115   0  10159567                             Spiking neural network    page\n",
       " 116   0  37652061  Stochastic neural analog reinforcement calculator    page\n",
       " 117   0   2070605                          Stochastic neural network    page\n",
       " 118   0  41027689                                Synaptic transistor    page\n",
       " 119   0  14405160                                    Synaptic weight    page\n",
       " 120   0   5099023                             Tensor product network    page\n",
       " 121   0  23594537                          Time delay neural network    page\n",
       " 122   0  28071238                                           U-matrix    page\n",
       " 123   0  18543448                    Universal approximation theorem    page\n",
       " 124   0  43502368                         Vanishing gradient problem    page\n",
       " 125   0  54133326                                            WaveNet    page\n",
       " 126   0   1853175                        Winner-take-all (computing)    page\n",
       " 127   0  43561218                                     Word embedding    page\n",
       " 128   0  47527969                                           Word2vec    page\n",
       " 129  14  49119651                             Category:Deep learning  subcat\n",
       " 130  14   3735046                   Category:Neural network software  subcat\n",
       " \n",
       " [131 rows x 4 columns],\n",
       "     ns    pageid                            title  type\n",
       " 0    0    203996                 Bayesian network  page\n",
       " 1    0  42734031   Bayesian hierarchical modeling  page\n",
       " 2    0   1169985          Causal Markov condition  page\n",
       " 3    0   1242713         Dynamic Bayesian network  page\n",
       " 4    0   1194259                Influence diagram  page\n",
       " 5    0   4855682          Junction tree algorithm  page\n",
       " 6    0   2649330                  Latent variable  page\n",
       " 7    0   1169984                   Markov blanket  page\n",
       " 8    0   4855451                      Moral graph  page\n",
       " 9    0  15882673                   Plate notation  page\n",
       " 10   0  11228012  Variable-order Bayesian network  page\n",
       " 11   0   2461612      Variational message passing  page,\n",
       "      ns    pageid                                          title    type\n",
       " 0     0  32003319      (1+ε)-approximate nearest neighbor search    page\n",
       " 1     0    740955                       Calibration (statistics)    page\n",
       " 2     0    843901  Soft independent modelling of class analogies    page\n",
       " 3     0   1579244                     Statistical classification    page\n",
       " 4     0  27156903             Variable kernel density estimation    page\n",
       " 5     0   1645603                                       AdaBoost    page\n",
       " 6     0   4231161                                         ALOPEX    page\n",
       " 7     0  11288998                      Alternating decision tree    page\n",
       " 8     0   5481056                            Analogical modeling    page\n",
       " 9     0  24455245             Averaged one-dependence estimators    page\n",
       " 10    0     21523                      Artificial neural network    page\n",
       " 11    0  28016652            Types of artificial neural networks    page\n",
       " 12    0     90500                    Boosting (machine learning)    page\n",
       " 13    0  11448016                                     BrownBoost    page\n",
       " 14    0   1966814                                 C4.5 algorithm    page\n",
       " 15    0  20733961                          Cascading classifiers    page\n",
       " 16    0    170333                           Case-based reasoning    page\n",
       " 17    0   6609041     Chi-square automatic interaction detection    page\n",
       " 18    0   6558202                           Sukhotin's algorithm    page\n",
       " 19    0  34062152                              Classifier chains    page\n",
       " 20    0  18586131                                    Co-training    page\n",
       " 21    0  23642426                                     CoBoosting    page\n",
       " 22    0  13526929        Compositional pattern-producing network    page\n",
       " 23    0   6979740                          Conceptual clustering    page\n",
       " 24    0   2714979                              Decision boundary    page\n",
       " 25  118  54105853                          Draft:Decision stream    page\n",
       " 26    0    577003                         Decision tree learning    page\n",
       " 27    0  43342432                           Deductive classifier    page\n",
       " 28    0  13750669                               Elastic matching    page\n",
       " 29    0   3070571               Evolving classification function    page\n",
       " ..  ...       ...                                            ...     ...\n",
       " 55    0   7466947                     Multi-label classification    page\n",
       " 56    0  26338110                      Multiclass classification    page\n",
       " 57    0   3259720           Multifactor dimensionality reduction    page\n",
       " 58    0   2266644                          Multilayer perceptron    page\n",
       " 59    0   4433814                Multinomial logistic regression    page\n",
       " 60    0  13244280                 Multiple discriminant analysis    page\n",
       " 61    0  25257017              Multispectral pattern recognition    page\n",
       " 62    0     87339                         Naive Bayes classifier    page\n",
       " 63    0  35250304                    Nearest centroid classifier    page\n",
       " 64    0   7309022                        Nearest neighbor search    page\n",
       " 65    0  12656117                              Novelty detection    page\n",
       " 66    0  20420396                       One-class classification    page\n",
       " 67    0  24313042                  Optimal discriminant analysis    page\n",
       " 68    0    172777                                     Perceptron    page\n",
       " 69    0   2088675         Probabilistic latent semantic analysis    page\n",
       " 70    0   1611247                                   Probit model    page\n",
       " 71    0   1784975                           Quadratic classifier    page\n",
       " 72    0   9651443                  Radial basis function network    page\n",
       " 73    0   1363880                                  Random forest    page\n",
       " 74    0  30034676                         Random subspace method    page\n",
       " 75    0   4195092                       Relevance vector machine    page\n",
       " 76    0  45274436                 Rules Extraction System Family    page\n",
       " 77    0     65309                         Support vector machine    page\n",
       " 78    0   6069850                  Syntactic pattern recognition    page\n",
       " 79    0  31731737                   Textual case-based reasoning    page\n",
       " 80    0   8145581                       Whitening transformation    page\n",
       " 81    0  12693735                             Winnow (algorithm)    page\n",
       " 82   14  42936114            Category:Artificial neural networks  subcat\n",
       " 83   14  17594154                        Category:Decision trees  subcat\n",
       " 84   14   3985352                     Category:Ensemble learning  subcat\n",
       " \n",
       " [85 rows x 4 columns],\n",
       "     ns    pageid                                             title    type\n",
       " 0    0    669675                                  Cluster analysis    page\n",
       " 1    0  45049111                               Archetypal analysis    page\n",
       " 2    0  26148908                             Behavioral clustering    page\n",
       " 3    0   1810201                                      Biclustering    page\n",
       " 4    0  42016100                                  Brown clustering    page\n",
       " 5    0  22562715                  Clustering high-dimensional data    page\n",
       " 6    0    547949                               Clustering illusion    page\n",
       " 7    0  21542452                              Consensus clustering    page\n",
       " 8    0  33391687                            Constrained clustering    page\n",
       " 9    0  21417820                            Correlation clustering    page\n",
       " 10   0   1409693                                        Dendrogram    page\n",
       " 11   0  22324566  Determining the number of clusters in a data set    page\n",
       " 12   0  47226218                          Farthest-first traversal    page\n",
       " 13   0  31346116                              Geographical cluster    page\n",
       " 14   0  39982437                                       Geworkbench    page\n",
       " 15   0   2421175                                            Medoid    page\n",
       " 16   0    871681                                     Mixture model    page\n",
       " 17   0  51800796                         WACA clustering algorithm    page\n",
       " 18  14  15325165              Category:Cluster analysis algorithms  subcat\n",
       " 19  14  30033882                      Category:Clustering criteria  subcat]"
      ]
     },
     "execution_count": 29,
     "metadata": {},
     "output_type": "execute_result"
    }
   ],
   "source": [
    "subcat_df_list_ML[:5]\n"
   ]
  },
  {
   "cell_type": "code",
   "execution_count": 30,
   "metadata": {},
   "outputs": [
    {
     "data": {
      "text/plain": [
       "30"
      ]
     },
     "execution_count": 30,
     "metadata": {},
     "output_type": "execute_result"
    }
   ],
   "source": [
    "len(subcat_df_list_ML)"
   ]
  },
  {
   "cell_type": "code",
   "execution_count": 31,
   "metadata": {
    "collapsed": true
   },
   "outputs": [],
   "source": [
    "def get_all_pages_rec(category):\n",
    "    category_df = execute_category_query(category)\n",
    "    pages_list = []\n",
    "    category_mask = category_df['title'].str.contains('Category:')\n",
    "    pages_df = category_df[~category_mask]\n",
    "    pages_list.append(pages_df)\n",
    "    categories = category_df[category_mask]['title']\\\n",
    "                            .str.replace('Category:','').tolist()\n",
    "    if len(categories) > 0:\n",
    "        for cat in categories:\n",
    "            pages_list.append(get_all_pages_rec(cat))\n",
    "    \n",
    "    pages_df = pd.concat(pages_list)\n",
    "    pages_df.reset_index()\n",
    "    return pages_df"
   ]
  },
  {
   "cell_type": "code",
   "execution_count": 32,
   "metadata": {},
   "outputs": [
    {
     "data": {
      "text/plain": [
       "(1612, 4)"
      ]
     },
     "execution_count": 32,
     "metadata": {},
     "output_type": "execute_result"
    }
   ],
   "source": [
    "rec_ML_df = get_all_pages_rec(\"machine learning\")\n",
    "rec_ML_df.reset_index(drop =True).shape"
   ]
  },
  {
   "cell_type": "code",
   "execution_count": 33,
   "metadata": {},
   "outputs": [
    {
     "data": {
      "text/html": [
       "<div>\n",
       "<table border=\"1\" class=\"dataframe\">\n",
       "  <thead>\n",
       "    <tr style=\"text-align: right;\">\n",
       "      <th></th>\n",
       "      <th>ns</th>\n",
       "      <th>pageid</th>\n",
       "      <th>title</th>\n",
       "      <th>type</th>\n",
       "    </tr>\n",
       "  </thead>\n",
       "  <tbody>\n",
       "    <tr>\n",
       "      <th>64</th>\n",
       "      <td>0</td>\n",
       "      <td>7309022</td>\n",
       "      <td>Nearest neighbor search</td>\n",
       "      <td>page</td>\n",
       "    </tr>\n",
       "    <tr>\n",
       "      <th>2</th>\n",
       "      <td>0</td>\n",
       "      <td>1145683</td>\n",
       "      <td>Raymond Cattell</td>\n",
       "      <td>page</td>\n",
       "    </tr>\n",
       "    <tr>\n",
       "      <th>12</th>\n",
       "      <td>0</td>\n",
       "      <td>4605351</td>\n",
       "      <td>Latent Dirichlet allocation</td>\n",
       "      <td>page</td>\n",
       "    </tr>\n",
       "    <tr>\n",
       "      <th>138</th>\n",
       "      <td>0</td>\n",
       "      <td>42129549</td>\n",
       "      <td>OpenNN</td>\n",
       "      <td>page</td>\n",
       "    </tr>\n",
       "    <tr>\n",
       "      <th>69</th>\n",
       "      <td>0</td>\n",
       "      <td>1368665</td>\n",
       "      <td>Bernhard Schölkopf</td>\n",
       "      <td>page</td>\n",
       "    </tr>\n",
       "  </tbody>\n",
       "</table>\n",
       "</div>"
      ],
      "text/plain": [
       "     ns    pageid                        title  type\n",
       "64    0   7309022      Nearest neighbor search  page\n",
       "2     0   1145683              Raymond Cattell  page\n",
       "12    0   4605351  Latent Dirichlet allocation  page\n",
       "138   0  42129549                       OpenNN  page\n",
       "69    0   1368665           Bernhard Schölkopf  page"
      ]
     },
     "execution_count": 33,
     "metadata": {},
     "output_type": "execute_result"
    }
   ],
   "source": [
    "rec_ML_df.sample(5)\n"
   ]
  },
  {
   "cell_type": "code",
   "execution_count": 34,
   "metadata": {},
   "outputs": [
    {
     "data": {
      "text/html": [
       "<div>\n",
       "<table border=\"1\" class=\"dataframe\">\n",
       "  <thead>\n",
       "    <tr style=\"text-align: right;\">\n",
       "      <th></th>\n",
       "      <th>ns</th>\n",
       "      <th>pageid</th>\n",
       "      <th>title</th>\n",
       "      <th>type</th>\n",
       "    </tr>\n",
       "  </thead>\n",
       "  <tbody>\n",
       "    <tr>\n",
       "      <th>0</th>\n",
       "      <td>2</td>\n",
       "      <td>54972729</td>\n",
       "      <td>User:CustIntelMngt/sandbox/Customer Intelligen...</td>\n",
       "      <td>page</td>\n",
       "    </tr>\n",
       "    <tr>\n",
       "      <th>1</th>\n",
       "      <td>0</td>\n",
       "      <td>43385931</td>\n",
       "      <td>Data exploration</td>\n",
       "      <td>page</td>\n",
       "    </tr>\n",
       "    <tr>\n",
       "      <th>2</th>\n",
       "      <td>0</td>\n",
       "      <td>49082762</td>\n",
       "      <td>List of datasets for machine-learning research</td>\n",
       "      <td>page</td>\n",
       "    </tr>\n",
       "    <tr>\n",
       "      <th>3</th>\n",
       "      <td>0</td>\n",
       "      <td>233488</td>\n",
       "      <td>Machine learning</td>\n",
       "      <td>page</td>\n",
       "    </tr>\n",
       "    <tr>\n",
       "      <th>4</th>\n",
       "      <td>0</td>\n",
       "      <td>53587467</td>\n",
       "      <td>Outline of machine learning</td>\n",
       "      <td>page</td>\n",
       "    </tr>\n",
       "  </tbody>\n",
       "</table>\n",
       "</div>"
      ],
      "text/plain": [
       "   ns    pageid                                              title  type\n",
       "0   2  54972729  User:CustIntelMngt/sandbox/Customer Intelligen...  page\n",
       "1   0  43385931                                   Data exploration  page\n",
       "2   0  49082762     List of datasets for machine-learning research  page\n",
       "3   0    233488                                   Machine learning  page\n",
       "4   0  53587467                        Outline of machine learning  page"
      ]
     },
     "execution_count": 34,
     "metadata": {},
     "output_type": "execute_result"
    }
   ],
   "source": [
    "rec_ML_df.reset_index(drop =True).drop_duplicates()[:5]\n"
   ]
  },
  {
   "cell_type": "code",
   "execution_count": 35,
   "metadata": {},
   "outputs": [
    {
     "data": {
      "text/html": [
       "<div>\n",
       "<table border=\"1\" class=\"dataframe\">\n",
       "  <thead>\n",
       "    <tr style=\"text-align: right;\">\n",
       "      <th></th>\n",
       "      <th>ns</th>\n",
       "      <th>pageid</th>\n",
       "      <th>title</th>\n",
       "      <th>type</th>\n",
       "    </tr>\n",
       "  </thead>\n",
       "  <tbody>\n",
       "    <tr>\n",
       "      <th>0</th>\n",
       "      <td>2</td>\n",
       "      <td>54972729</td>\n",
       "      <td>User:CustIntelMngt/sandbox/Customer Intelligen...</td>\n",
       "      <td>page</td>\n",
       "    </tr>\n",
       "    <tr>\n",
       "      <th>1</th>\n",
       "      <td>0</td>\n",
       "      <td>43385931</td>\n",
       "      <td>Data exploration</td>\n",
       "      <td>page</td>\n",
       "    </tr>\n",
       "    <tr>\n",
       "      <th>2</th>\n",
       "      <td>0</td>\n",
       "      <td>49082762</td>\n",
       "      <td>List of datasets for machine-learning research</td>\n",
       "      <td>page</td>\n",
       "    </tr>\n",
       "    <tr>\n",
       "      <th>3</th>\n",
       "      <td>0</td>\n",
       "      <td>233488</td>\n",
       "      <td>Machine learning</td>\n",
       "      <td>page</td>\n",
       "    </tr>\n",
       "    <tr>\n",
       "      <th>4</th>\n",
       "      <td>0</td>\n",
       "      <td>53587467</td>\n",
       "      <td>Outline of machine learning</td>\n",
       "      <td>page</td>\n",
       "    </tr>\n",
       "  </tbody>\n",
       "</table>\n",
       "</div>"
      ],
      "text/plain": [
       "   ns    pageid                                              title  type\n",
       "0   2  54972729  User:CustIntelMngt/sandbox/Customer Intelligen...  page\n",
       "1   0  43385931                                   Data exploration  page\n",
       "2   0  49082762     List of datasets for machine-learning research  page\n",
       "3   0    233488                                   Machine learning  page\n",
       "4   0  53587467                        Outline of machine learning  page"
      ]
     },
     "execution_count": 35,
     "metadata": {},
     "output_type": "execute_result"
    }
   ],
   "source": [
    "ML_df[~category_mask].head()\n"
   ]
  },
  {
   "cell_type": "code",
   "execution_count": 36,
   "metadata": {
    "collapsed": true
   },
   "outputs": [],
   "source": [
    "def get_whole_category(category):\n",
    "    df = get_all_pages_rec(category)\n",
    "    df = df.drop_duplicates().reset_index(drop=True)\n",
    "    df['category'] = category\n",
    "    return df"
   ]
  },
  {
   "cell_type": "code",
   "execution_count": 37,
   "metadata": {
    "collapsed": true
   },
   "outputs": [],
   "source": [
    "gwc_ML_df = get_whole_category(\"machine learning\")\n"
   ]
  },
  {
   "cell_type": "code",
   "execution_count": 38,
   "metadata": {},
   "outputs": [
    {
     "data": {
      "text/plain": [
       "(1107, 5)"
      ]
     },
     "execution_count": 38,
     "metadata": {},
     "output_type": "execute_result"
    }
   ],
   "source": [
    "gwc_ML_df.shape\n"
   ]
  },
  {
   "cell_type": "code",
   "execution_count": 39,
   "metadata": {},
   "outputs": [
    {
     "data": {
      "text/html": [
       "<div>\n",
       "<table border=\"1\" class=\"dataframe\">\n",
       "  <thead>\n",
       "    <tr style=\"text-align: right;\">\n",
       "      <th></th>\n",
       "      <th>ns</th>\n",
       "      <th>pageid</th>\n",
       "      <th>title</th>\n",
       "      <th>type</th>\n",
       "      <th>category</th>\n",
       "    </tr>\n",
       "  </thead>\n",
       "  <tbody>\n",
       "    <tr>\n",
       "      <th>0</th>\n",
       "      <td>2</td>\n",
       "      <td>54972729</td>\n",
       "      <td>User:CustIntelMngt/sandbox/Customer Intelligen...</td>\n",
       "      <td>page</td>\n",
       "      <td>machine learning</td>\n",
       "    </tr>\n",
       "    <tr>\n",
       "      <th>1</th>\n",
       "      <td>0</td>\n",
       "      <td>43385931</td>\n",
       "      <td>Data exploration</td>\n",
       "      <td>page</td>\n",
       "      <td>machine learning</td>\n",
       "    </tr>\n",
       "    <tr>\n",
       "      <th>2</th>\n",
       "      <td>0</td>\n",
       "      <td>49082762</td>\n",
       "      <td>List of datasets for machine-learning research</td>\n",
       "      <td>page</td>\n",
       "      <td>machine learning</td>\n",
       "    </tr>\n",
       "    <tr>\n",
       "      <th>3</th>\n",
       "      <td>0</td>\n",
       "      <td>233488</td>\n",
       "      <td>Machine learning</td>\n",
       "      <td>page</td>\n",
       "      <td>machine learning</td>\n",
       "    </tr>\n",
       "    <tr>\n",
       "      <th>4</th>\n",
       "      <td>0</td>\n",
       "      <td>53587467</td>\n",
       "      <td>Outline of machine learning</td>\n",
       "      <td>page</td>\n",
       "      <td>machine learning</td>\n",
       "    </tr>\n",
       "  </tbody>\n",
       "</table>\n",
       "</div>"
      ],
      "text/plain": [
       "   ns    pageid                                              title  type  \\\n",
       "0   2  54972729  User:CustIntelMngt/sandbox/Customer Intelligen...  page   \n",
       "1   0  43385931                                   Data exploration  page   \n",
       "2   0  49082762     List of datasets for machine-learning research  page   \n",
       "3   0    233488                                   Machine learning  page   \n",
       "4   0  53587467                        Outline of machine learning  page   \n",
       "\n",
       "           category  \n",
       "0  machine learning  \n",
       "1  machine learning  \n",
       "2  machine learning  \n",
       "3  machine learning  \n",
       "4  machine learning  "
      ]
     },
     "execution_count": 39,
     "metadata": {},
     "output_type": "execute_result"
    }
   ],
   "source": [
    "gwc_ML_df.head()\n"
   ]
  },
  {
   "cell_type": "code",
   "execution_count": 40,
   "metadata": {
    "collapsed": true
   },
   "outputs": [],
   "source": [
    "content_ML = []\n"
   ]
  },
  {
   "cell_type": "code",
   "execution_count": 41,
   "metadata": {
    "collapsed": true
   },
   "outputs": [],
   "source": [
    "#takes so long\n",
    "not_found = []\n",
    "\n",
    "for pageid in gwc_ML_df[\"pageid\"]:\n",
    "    try:\n",
    "        page =  wikipedia.WikipediaPage(pageid = pageid)\n",
    "        content = page.content\n",
    "        title = page.title\n",
    "        content_ML.append((pageid, content, title))\n",
    "        #print(content_ml)\n",
    "    except:\n",
    "        not_found.append(pageid)"
   ]
  },
  {
   "cell_type": "code",
   "execution_count": 42,
   "metadata": {},
   "outputs": [
    {
     "data": {
      "text/plain": [
       "1102"
      ]
     },
     "execution_count": 42,
     "metadata": {},
     "output_type": "execute_result"
    }
   ],
   "source": [
    "len(content_ML)\n",
    "#why the length is so long?\n",
    "\n"
   ]
  },
  {
   "cell_type": "code",
   "execution_count": 43,
   "metadata": {
    "collapsed": true
   },
   "outputs": [],
   "source": [
    "content_ML_df = pd.DataFrame(content_ML, columns= (\"pageid\",\"content\",\"title\"))\n"
   ]
  },
  {
   "cell_type": "code",
   "execution_count": 44,
   "metadata": {},
   "outputs": [
    {
     "data": {
      "text/html": [
       "<div>\n",
       "<table border=\"1\" class=\"dataframe\">\n",
       "  <thead>\n",
       "    <tr style=\"text-align: right;\">\n",
       "      <th></th>\n",
       "      <th>pageid</th>\n",
       "      <th>content</th>\n",
       "      <th>title</th>\n",
       "      <th>category</th>\n",
       "    </tr>\n",
       "  </thead>\n",
       "  <tbody>\n",
       "    <tr>\n",
       "      <th>0</th>\n",
       "      <td>54972729</td>\n",
       "      <td>\\n= Customer Intelligence Management =\\n\\n\\n==...</td>\n",
       "      <td>User:CustIntelMngt/sandbox/Customer Intelligen...</td>\n",
       "      <td>Machine_Learning</td>\n",
       "    </tr>\n",
       "    <tr>\n",
       "      <th>1</th>\n",
       "      <td>43385931</td>\n",
       "      <td>Data exploration is an approach similar to ini...</td>\n",
       "      <td>Data exploration</td>\n",
       "      <td>Machine_Learning</td>\n",
       "    </tr>\n",
       "    <tr>\n",
       "      <th>2</th>\n",
       "      <td>49082762</td>\n",
       "      <td>These datasets are used for machine-learning r...</td>\n",
       "      <td>List of datasets for machine-learning research</td>\n",
       "      <td>Machine_Learning</td>\n",
       "    </tr>\n",
       "    <tr>\n",
       "      <th>3</th>\n",
       "      <td>233488</td>\n",
       "      <td>Machine learning is the subfield of computer s...</td>\n",
       "      <td>Machine learning</td>\n",
       "      <td>Machine_Learning</td>\n",
       "    </tr>\n",
       "    <tr>\n",
       "      <th>4</th>\n",
       "      <td>53587467</td>\n",
       "      <td>The following outline is provided as an overvi...</td>\n",
       "      <td>Outline of machine learning</td>\n",
       "      <td>Machine_Learning</td>\n",
       "    </tr>\n",
       "  </tbody>\n",
       "</table>\n",
       "</div>"
      ],
      "text/plain": [
       "     pageid                                            content  \\\n",
       "0  54972729  \\n= Customer Intelligence Management =\\n\\n\\n==...   \n",
       "1  43385931  Data exploration is an approach similar to ini...   \n",
       "2  49082762  These datasets are used for machine-learning r...   \n",
       "3    233488  Machine learning is the subfield of computer s...   \n",
       "4  53587467  The following outline is provided as an overvi...   \n",
       "\n",
       "                                               title          category  \n",
       "0  User:CustIntelMngt/sandbox/Customer Intelligen...  Machine_Learning  \n",
       "1                                   Data exploration  Machine_Learning  \n",
       "2     List of datasets for machine-learning research  Machine_Learning  \n",
       "3                                   Machine learning  Machine_Learning  \n",
       "4                        Outline of machine learning  Machine_Learning  "
      ]
     },
     "execution_count": 44,
     "metadata": {},
     "output_type": "execute_result"
    }
   ],
   "source": [
    "content_ML_df[\"category\"] = \"Machine_Learning\"\n",
    "content_ML_df.head()"
   ]
  },
  {
   "cell_type": "code",
   "execution_count": 45,
   "metadata": {},
   "outputs": [
    {
     "data": {
      "text/plain": [
       "(1102, 4)"
      ]
     },
     "execution_count": 45,
     "metadata": {},
     "output_type": "execute_result"
    }
   ],
   "source": [
    "content_ML_df.shape"
   ]
  },
  {
   "cell_type": "code",
   "execution_count": 46,
   "metadata": {
    "scrolled": true
   },
   "outputs": [
    {
     "data": {
      "text/plain": [
       "(1107, 5)"
      ]
     },
     "execution_count": 46,
     "metadata": {},
     "output_type": "execute_result"
    }
   ],
   "source": [
    "gwc_ML_df.shape\n"
   ]
  },
  {
   "cell_type": "code",
   "execution_count": 47,
   "metadata": {
    "collapsed": true
   },
   "outputs": [],
   "source": [
    "#writing the dataframe into a csv file, which makes a .csv in jupyter notebook\n",
    "#make sure that the path you are using in sql is the same in your notebook\n",
    "\n",
    "content_ML_df.to_csv(\"machine_learning.csv\", index= False)"
   ]
  },
  {
   "cell_type": "code",
   "execution_count": 48,
   "metadata": {},
   "outputs": [
    {
     "name": "stdout",
     "output_type": "stream",
     "text": [
      "/home/jovyan/ipynb\r\n"
     ]
    }
   ],
   "source": [
    "!pwd"
   ]
  },
  {
   "cell_type": "code",
   "execution_count": 49,
   "metadata": {},
   "outputs": [
    {
     "name": "stdout",
     "output_type": "stream",
     "text": [
      "machine_learning.csv\tpostgres-jupyter .ipynb\r\n",
      "Part-1-project-4.ipynb\twiki_query_business_software.ipynb\r\n",
      "part-2-project-4.ipynb\twiki-query_machine_learning .ipynb\r\n",
      "path\r\n"
     ]
    }
   ],
   "source": [
    "!ls"
   ]
  },
  {
   "cell_type": "markdown",
   "metadata": {},
   "source": [
    "## Business software¶"
   ]
  },
  {
   "cell_type": "code",
   "execution_count": 50,
   "metadata": {},
   "outputs": [
    {
     "data": {
      "text/plain": [
       "'http://en.wikipedia.org/w/api.php?action=query&format=json&list=categorymembers&cmtitle=Category:business+software&cmprop=ids%7Ctitle%7Ctype&cmlimit=max'"
      ]
     },
     "execution_count": 50,
     "metadata": {},
     "output_type": "execute_result"
    }
   ],
   "source": [
    "BS_query = generate_query(\"business software\")\n",
    "BS_query"
   ]
  },
  {
   "cell_type": "code",
   "execution_count": 51,
   "metadata": {},
   "outputs": [
    {
     "data": {
      "text/html": [
       "<div>\n",
       "<table border=\"1\" class=\"dataframe\">\n",
       "  <thead>\n",
       "    <tr style=\"text-align: right;\">\n",
       "      <th></th>\n",
       "      <th>ns</th>\n",
       "      <th>pageid</th>\n",
       "      <th>title</th>\n",
       "      <th>type</th>\n",
       "    </tr>\n",
       "  </thead>\n",
       "  <tbody>\n",
       "    <tr>\n",
       "      <th>323</th>\n",
       "      <td>14</td>\n",
       "      <td>26651713</td>\n",
       "      <td>Category:Tax software</td>\n",
       "      <td>subcat</td>\n",
       "    </tr>\n",
       "    <tr>\n",
       "      <th>324</th>\n",
       "      <td>14</td>\n",
       "      <td>53417207</td>\n",
       "      <td>Category:Telecommunications Billing Systems</td>\n",
       "      <td>subcat</td>\n",
       "    </tr>\n",
       "    <tr>\n",
       "      <th>325</th>\n",
       "      <td>14</td>\n",
       "      <td>9186941</td>\n",
       "      <td>Category:Workflow technology</td>\n",
       "      <td>subcat</td>\n",
       "    </tr>\n",
       "    <tr>\n",
       "      <th>326</th>\n",
       "      <td>14</td>\n",
       "      <td>23739219</td>\n",
       "      <td>Category:Industry-specific XML-based standards</td>\n",
       "      <td>subcat</td>\n",
       "    </tr>\n",
       "    <tr>\n",
       "      <th>327</th>\n",
       "      <td>14</td>\n",
       "      <td>9622164</td>\n",
       "      <td>Category:Business software stubs</td>\n",
       "      <td>subcat</td>\n",
       "    </tr>\n",
       "  </tbody>\n",
       "</table>\n",
       "</div>"
      ],
      "text/plain": [
       "     ns    pageid                                           title    type\n",
       "323  14  26651713                           Category:Tax software  subcat\n",
       "324  14  53417207     Category:Telecommunications Billing Systems  subcat\n",
       "325  14   9186941                    Category:Workflow technology  subcat\n",
       "326  14  23739219  Category:Industry-specific XML-based standards  subcat\n",
       "327  14   9622164                Category:Business software stubs  subcat"
      ]
     },
     "execution_count": 51,
     "metadata": {},
     "output_type": "execute_result"
    }
   ],
   "source": [
    "BS_df = execute_category_query(\"business software\")\n",
    "BS_df.tail()"
   ]
  },
  {
   "cell_type": "code",
   "execution_count": 52,
   "metadata": {},
   "outputs": [
    {
     "data": {
      "text/plain": [
       "'1744470'"
      ]
     },
     "execution_count": 52,
     "metadata": {},
     "output_type": "execute_result"
    }
   ],
   "source": [
    "wikipedia.page(\"Category:Business_Software\").pageid\n"
   ]
  },
  {
   "cell_type": "code",
   "execution_count": 53,
   "metadata": {
    "collapsed": true
   },
   "outputs": [],
   "source": [
    "category_mask_BS = BS_df[\"title\"].str.contains(\"Category:\")\n"
   ]
  },
  {
   "cell_type": "code",
   "execution_count": 54,
   "metadata": {},
   "outputs": [
    {
     "data": {
      "text/html": [
       "<div>\n",
       "<table border=\"1\" class=\"dataframe\">\n",
       "  <thead>\n",
       "    <tr style=\"text-align: right;\">\n",
       "      <th></th>\n",
       "      <th>ns</th>\n",
       "      <th>pageid</th>\n",
       "      <th>title</th>\n",
       "      <th>type</th>\n",
       "    </tr>\n",
       "  </thead>\n",
       "  <tbody>\n",
       "    <tr>\n",
       "      <th>296</th>\n",
       "      <td>14</td>\n",
       "      <td>20727104</td>\n",
       "      <td>Category:Administrative software</td>\n",
       "      <td>subcat</td>\n",
       "    </tr>\n",
       "    <tr>\n",
       "      <th>297</th>\n",
       "      <td>14</td>\n",
       "      <td>17799618</td>\n",
       "      <td>Category:Business simulation games</td>\n",
       "      <td>subcat</td>\n",
       "    </tr>\n",
       "    <tr>\n",
       "      <th>298</th>\n",
       "      <td>14</td>\n",
       "      <td>14541812</td>\n",
       "      <td>Category:Business software companies</td>\n",
       "      <td>subcat</td>\n",
       "    </tr>\n",
       "    <tr>\n",
       "      <th>299</th>\n",
       "      <td>14</td>\n",
       "      <td>37041135</td>\n",
       "      <td>Category:Business software for Linux</td>\n",
       "      <td>subcat</td>\n",
       "    </tr>\n",
       "    <tr>\n",
       "      <th>300</th>\n",
       "      <td>14</td>\n",
       "      <td>41517954</td>\n",
       "      <td>Category:Business software for MacOS</td>\n",
       "      <td>subcat</td>\n",
       "    </tr>\n",
       "  </tbody>\n",
       "</table>\n",
       "</div>"
      ],
      "text/plain": [
       "     ns    pageid                                 title    type\n",
       "296  14  20727104      Category:Administrative software  subcat\n",
       "297  14  17799618    Category:Business simulation games  subcat\n",
       "298  14  14541812  Category:Business software companies  subcat\n",
       "299  14  37041135  Category:Business software for Linux  subcat\n",
       "300  14  41517954  Category:Business software for MacOS  subcat"
      ]
     },
     "execution_count": 54,
     "metadata": {},
     "output_type": "execute_result"
    }
   ],
   "source": [
    "BS_df[category_mask_BS].head()\n"
   ]
  },
  {
   "cell_type": "code",
   "execution_count": 55,
   "metadata": {},
   "outputs": [
    {
     "data": {
      "text/plain": [
       "(328, 4)"
      ]
     },
     "execution_count": 55,
     "metadata": {},
     "output_type": "execute_result"
    }
   ],
   "source": [
    "BS_df.shape\n"
   ]
  },
  {
   "cell_type": "code",
   "execution_count": 57,
   "metadata": {},
   "outputs": [
    {
     "data": {
      "text/plain": [
       "0                                      Business software\n",
       "1                                            AccuSystems\n",
       "2                               Active policy management\n",
       "3                          Alexandria (library software)\n",
       "4                                                Alteryx\n",
       "5                                            Amadeus CRS\n",
       "6                                     AMS Device Manager\n",
       "7                                     Angelfish software\n",
       "8                              Applicant tracking system\n",
       "9                                 Application retirement\n",
       "10     Architecture of Interoperable Information Systems\n",
       "11                               Asset recovery software\n",
       "12                                                Avaloq\n",
       "13                                           Axess (CRS)\n",
       "14                                                Ayasdi\n",
       "15                                    Balanced scorecard\n",
       "16                                  BatchMaster Software\n",
       "17                                            Blue Prism\n",
       "18                                   BlueSpice MediaWiki\n",
       "19                                      BQE Software Inc\n",
       "20                                               BRFplus\n",
       "21                                           Brightpearl\n",
       "22                                          Buckaroo.com\n",
       "23                          Business activity monitoring\n",
       "24                       Business Anti-Corruption Portal\n",
       "25                                      Data preparation\n",
       "26                        Business intelligence software\n",
       "27                   Business interoperability interface\n",
       "28                     Business process interoperability\n",
       "29                               Business rules approach\n",
       "                             ...                        \n",
       "266                                              Truviso\n",
       "267                                              Upserve\n",
       "268                                   USAS (application)\n",
       "269                             Vendor management system\n",
       "270                     Very Large Business Applications\n",
       "271                              Virtual office software\n",
       "272                                    Visual Compliance\n",
       "273                                     Visual Intercept\n",
       "274                                           VoloMetrix\n",
       "275                                                VP/MS\n",
       "276                                              Wallmob\n",
       "277                                User:Milmisha/sandbox\n",
       "278                          Warehouse management system\n",
       "279                                         Web presence\n",
       "280                                Webcam Social Shopper\n",
       "281                                    Welcome Real Time\n",
       "282                                             WeWorked\n",
       "283                                  WHATS'On (Software)\n",
       "284                           Service chain optimization\n",
       "285                                 Workforce management\n",
       "286                               Workforce optimization\n",
       "287                                Workplace by Facebook\n",
       "288                          Worldwide Diagnostic System\n",
       "289                                                Wrike\n",
       "290                                               X-Lite\n",
       "291                                           Xaitporter\n",
       "292                                                 Xcon\n",
       "293                                             Xpertdoc\n",
       "294                                          Xpert-Timer\n",
       "295                                                Zuora\n",
       "Name: title, dtype: object"
      ]
     },
     "execution_count": 57,
     "metadata": {},
     "output_type": "execute_result"
    }
   ],
   "source": [
    "BS_categories_to_query = BS_df[~category_mask_BS]['title'].apply(remove_category)\n",
    "BS_categories_to_query"
   ]
  },
  {
   "cell_type": "code",
   "execution_count": 58,
   "metadata": {},
   "outputs": [
    {
     "data": {
      "text/plain": [
       "(296, 4)"
      ]
     },
     "execution_count": 58,
     "metadata": {},
     "output_type": "execute_result"
    }
   ],
   "source": [
    "BS_df[~category_mask_BS].shape"
   ]
  },
  {
   "cell_type": "code",
   "execution_count": 59,
   "metadata": {
    "scrolled": true
   },
   "outputs": [
    {
     "data": {
      "text/html": [
       "<div>\n",
       "<table border=\"1\" class=\"dataframe\">\n",
       "  <thead>\n",
       "    <tr style=\"text-align: right;\">\n",
       "      <th></th>\n",
       "      <th>ns</th>\n",
       "      <th>pageid</th>\n",
       "      <th>title</th>\n",
       "      <th>type</th>\n",
       "    </tr>\n",
       "  </thead>\n",
       "  <tbody>\n",
       "    <tr>\n",
       "      <th>0</th>\n",
       "      <td>0</td>\n",
       "      <td>1037763</td>\n",
       "      <td>Business software</td>\n",
       "      <td>page</td>\n",
       "    </tr>\n",
       "    <tr>\n",
       "      <th>1</th>\n",
       "      <td>0</td>\n",
       "      <td>41270069</td>\n",
       "      <td>AccuSystems</td>\n",
       "      <td>page</td>\n",
       "    </tr>\n",
       "    <tr>\n",
       "      <th>2</th>\n",
       "      <td>0</td>\n",
       "      <td>5211212</td>\n",
       "      <td>Active policy management</td>\n",
       "      <td>page</td>\n",
       "    </tr>\n",
       "    <tr>\n",
       "      <th>3</th>\n",
       "      <td>0</td>\n",
       "      <td>28502793</td>\n",
       "      <td>Alexandria (library software)</td>\n",
       "      <td>page</td>\n",
       "    </tr>\n",
       "    <tr>\n",
       "      <th>4</th>\n",
       "      <td>0</td>\n",
       "      <td>44133735</td>\n",
       "      <td>Alteryx</td>\n",
       "      <td>page</td>\n",
       "    </tr>\n",
       "  </tbody>\n",
       "</table>\n",
       "</div>"
      ],
      "text/plain": [
       "   ns    pageid                          title  type\n",
       "0   0   1037763              Business software  page\n",
       "1   0  41270069                    AccuSystems  page\n",
       "2   0   5211212       Active policy management  page\n",
       "3   0  28502793  Alexandria (library software)  page\n",
       "4   0  44133735                        Alteryx  page"
      ]
     },
     "execution_count": 59,
     "metadata": {},
     "output_type": "execute_result"
    }
   ],
   "source": [
    "BS_pages_df = BS_df[~category_mask_BS]\n",
    "BS_pages_df.head()"
   ]
  },
  {
   "cell_type": "code",
   "execution_count": null,
   "metadata": {
    "collapsed": true
   },
   "outputs": [],
   "source": [
    "# "
   ]
  },
  {
   "cell_type": "code",
   "execution_count": 60,
   "metadata": {
    "collapsed": true
   },
   "outputs": [],
   "source": [
    "content_BS_0= []\n"
   ]
  },
  {
   "cell_type": "code",
   "execution_count": 61,
   "metadata": {
    "collapsed": true
   },
   "outputs": [],
   "source": [
    "not_found = []\n",
    "\n",
    "for pageid in BS_df[~category_mask_BS][\"pageid\"]:\n",
    "    try:\n",
    "        page =  wikipedia.WikipediaPage(pageid = pageid)\n",
    "        content = page.content\n",
    "        title = page.title\n",
    "        content_BS_0.append((pageid, content, title))\n",
    "        #print(content_bs_0)\n",
    "    except:\n",
    "        not_found.append(pageid)"
   ]
  },
  {
   "cell_type": "code",
   "execution_count": 62,
   "metadata": {},
   "outputs": [
    {
     "data": {
      "text/plain": [
       "[(1037763,\n",
       "  \"Business software or a business application is any software or set of computer programs used by business users to perform various business functions. These business applications are used to increase productivity, to measure productivity and to perform other business functions accurately.\\nBy and large, business software is likely to be developed to meet the needs of a specific business, and therefore is not easily transferable to a different business environment, unless its nature and operation is identical. Due to the unique requirements of each business, off-the-shelf software is unlikely to completely address a company's needs. However, where an on-the-shelf solution is necessary, due to time or monetary considerations, some level of customization is likely to be required. Exceptions do exist, depending on the business in question, and thorough research is always required before committing to bespoke or off-the-shelf solutions.\\nSome business applications are interactive, i.e., they have a graphical user interface or user interface and users can query/modify/input data and view results instantaneously. They can also run reports instantaneously. Some business applications run in batch mode: they are set up to run based on a predetermined event/time and a business user does not need to initiate them or monitor them.\\nSome business applications are built in-house and some are bought from vendors (off the shelf software products). These business applications are installed on either desktops or big servers. Prior to the introduction of COBOL (a universal compiler) in 1965, businesses developed their own unique machine language. RCA's language consisted of a 12-position instruction. For example, to read a record into memory, the first two digits would be the instruction (action) code. The next four positions of the instruction (an 'A' address) would be the exact leftmost memory location where you want the readable character to be placed. Four positions (a 'B' address) of the instruction would note the very rightmost memory location where you want the last character of the record to be located. A two digit 'B' address also allows a modification of any instruction. Instruction codes and memory designations excluded the use of 8's or 9's. The first RCA business application was implemented in 1962 on a 4k RCA 301. The RCA 301, mid frame 501, and large frame 601 began their marketing in early 1960.\\nMany kinds of users are found within the business environment, and can be categorized by using a small, medium and large matrix:\\nThe small business market generally consists of home accounting software, and office suites such as OpenOffice.org or Microsoft Office.\\nThe medium size, or small and medium-sized enterprise (SME), has a broader range of software applications, ranging from accounting, groupware, customer relationship management, human resource management systems, outsourcing relationship management, loan origination software, shopping cart software, field service software, and other productivity enhancing applications.\\nThe last segment covers enterprise level software applications, such as those in the fields of enterprise resource planning, enterprise content management (ECM), business process management (BPM) and product lifecycle management. These applications are extensive in scope, and often come with modules that either add native functions, or incorporate the functionality of third-party computer programs.\\nTechnologies that previously only existed in peer-to-peer software applications, like Kazaa and Napster, are starting to appear within business applications.\\n\\n\\n== Types of business tools ==\\nEnterprise application software (EAS)\\nResource Management\\nDigital dashboards, also known as business intelligence dashboards, enterprise dashboards, or executive dashboards. These are visually based summaries of business data that show at-a-glance understanding of conditions through metrics and key performance indicators (KPIs). Dashboards are a very popular tools that have arisen in the last few years.\\nOnline analytical processing (OLAP), (which include HOLAP, ROLAP and MOLAP) - are a capability of some management, decision support, and executive information systems that support interactive examination of large amounts of data from many perspectives.\\nReporting software generates aggregated views of data to keep the management informed about the state of their business.\\nProcurement software is business software that helps to automate the purchasing function of organizations.\\nData mining is the extraction of consumer information from a database by utilizing software that can isolate and identify previously unknown patterns or trends in large amounts of data. There is a variety of data mining techniques that reveal different types of patterns. Some of the techniques that belong here are statistical methods (particularly business statistics) and neural networks, as very advanced means of analyzing data.\\nBusiness performance management (BPM)\\nDocument management software is made for organizing and managing multiple documents of various types. Some of them have storage functions for security and back-up of valuable business information.\\nEmployee scheduling software- used for creating and distributing employee schedules, as well as for tracking employee hours.\\n\\n\\n== Brief history ==\\nThe essential motivation for business software is to increase profits by cutting costs or speeding the productive cycle. In the earliest days of white-collar business automation, large mainframe computers were used to tackle the most tedious jobs, like bank cheque clearing and factory accounting.\\nFactory accounting software was among the most popular of early business software tools, and included the automation of general ledgers, fixed assets inventory ledgers, cost accounting ledgers, accounts receivable ledgers, and accounts payable ledgers (including payroll, life insurance, health insurance, federal and state insurance and retirement).\\nThe early use of software to replace manual white-collar labor was extremely profitable, and caused a radical shift in white-collar labor. One computer might easily replace 100 white-collar 'pencil pushers', and the computer would not require any health or retirement benefits.\\nBuilding on these early successes with IBM, Hewlett-Packard and other early suppliers of business software solutions, corporate consumers demanded business software to replace the old-fashioned drafting board. CAD-CAM software (or computer-aided drafting for computer-aided manufacturing) arrived in the early 1980s. Also, project management software was so valued in the early 1980s that it might cost as much as $500,000 per copy (although such software typically had far fewer capabilities than modern project management software such as Microsoft Project, which one might purchase today for under $500 per copy.)\\nIn the early days, perhaps the most noticeable, widespread change in business software was the word processor. Because of its rapid rise, the ubiquitous IBM typewriter suddenly vanished in the 1980s as millions of companies worldwide shifted to the use of Word Perfect business software, and later, Microsoft Word software. Another vastly popular computer program for business were mathematical spreadsheet programs such as Lotus 1-2-3, and later Microsoft Excel.\\nIn the 1990s business shifted massively towards globalism with the appearance of SAP software which coordinates a supply-chain of vendors, potentially worldwide, for the most efficient, streamlined operation of factory manufacture.\\nYet nothing in the history of business software has had the global impact of the Internet, with its email and websites that now serve commercial interests worldwide. Globalism in business fully arrived when the Internet became a household word.\\nThe next phase in the evolution of business software is being led by the emergance of Robotic Process Automation (RPA), which involves identifying and automating highly repetitive tasks and processes, with an aim to drive operational efficiency, reduce costs and limit human error. Industries that have been in the forefront of RPA adoption include the Insurance industry, Banking and Financial Services, the Legal industry and the Healthcare industry.\\n\\n\\n== Application support ==\\nBusiness applications are built based on the requirements from the business users. Also, these business applications are built to use certain kind of Business transactions or data items. These business applications run flawlessly until there are no new business requirements or there is no change in underlying Business transactions. Also, the business applications run flawlessly if there are no issues with computer hardware, computer networks (Intenet/intranet), computer disks, power supplies, and various software components (middleware, database, computer programs, etc.).\\nBusiness applications can fail when an unexpected error occurs. This error could occur due to a data error (an unexpected data input or a wrong data input), an environment error (an in frastructure related error), a programming error, a human error or a work flow error. When a business application fails one needs to fix the business application error as soon as possible so that the business users can resume their work. This work of resolving business application errors is known as business application support.\\n\\n\\n=== Reporting errors ===\\nThe Business User calls the business application support team phone number or sends an e-mail to the business application support team. The business application support team gets all the details of the error from the business user on the phone or from the e-mail. These details are then entered in a tracking software. The tracking software creates a request number and this request number is given to the business user. This request number is used to track the progress on the support issue. The request is assigned to a support team member.\\n\\n\\n=== Notification of errors ===\\nFor critical business application errors (such as an application not available or an application not working correctly), an e-mail is sent to the entire organization or impacted teams so that they are aware of the issue. They are also provided with an estimated time for application availability.\\n\\n\\n=== Investigation or analysis of application errors ===\\nThe business application support team member collects all the necessary information about the business software error. This information is then recorded in the support request. All of the data used by the business user is also used in the investigation. The application program is reviewed for any possible programming errors.\\n\\n\\n=== Error resolution ===\\nIf any similar business application errors occurred in the past then the issue resolution steps are retrieved from the support knowledge base and the error is resolved using those steps. If it is a new support error, then new issue resolution steps are created and the error is resolved. The new support error resolution steps are recorded in the knowledge base for future use. For major business application errors (critical infrastructure or application failures), a phone conference call is initiated and all required support persons/teams join the call and they all work together to resolve the error.\\n\\n\\n=== Code correction ===\\nIf the business application error occurred due to programming errors, then a request is created for the application development team to correct programming errors. If the business user needs new features or functions in the business application, then the required analysis/design/programming/testing/release is planned and a new version of the business software is deployed.\\n\\n\\n=== Business process correction ===\\nIf the business application error occurred due to a work flow issue or human errors during data input, then the business users are notified. Business users then review their work flow and revise it if necessary. They also modify the user guide or user instructions to avoid such an error in the future.\\n\\n\\n=== Infrastructure issue correction ===\\nIf the business application error occurred due to infrastructure issues, then the specific infrastructure team is notified. The infrastructure team then implements permanent fixes for the issue and monitors the infrastructure to avoid the re-occurrence of the same error.\\n\\n\\n== Support follow up and internal reporting ==\\nThe business application error tracking system is used to review all issues periodically (daily, weekly and monthly) and reports are generated to monitor the resolved issues, repeating issues, and pending issues. Reports are also generated for the IT/IS management for improvement and management of business applications.\\n\\n\\n== See also ==\\n\\n\\n== References ==\\n\\n\\n== External links ==\",\n",
       "  'Business software'),\n",
       " (41270069,\n",
       "  \"AccuSystems LLC is an American company headquartered in Pueblo, Colorado that develops, licenses, supports, and sells document imaging software and electronic document management, primarily to the banking and finance industries. Over 200 banks currently use AccuSystems' software.\\nIn 2002, AccuSystems made its first sale to People's Bank.\\nAccuSystems' software, known as AccuAccount, is mainly used to electronically scan, store, and manage loan files and any other associated paperwork. In September 2010, AccuSystems announced the acquisition of Xtria RMS. Financial institutions use the Xtria RMS software, now known as Tickler, to track exceptions electronically.\\nIn 2012, AccuSystems won the BankNews Innovative Solutions Award for Management Software Solutions.\\nIn 2013, BankTech published a survey taken by AccuSystems that surveyed 80 community banks. The survey found that only 12% of banks are using paperless systems for issuing loans. The study is often used when discussing paperless systems in the US's banking industry.\\n\\n\\n== References ==\\n\\n\\n== External links ==\\nOfficial website\",\n",
       "  'AccuSystems'),\n",
       " (5211212,\n",
       "  'Active policy management is business-oriented enterprise software that provides an approach for efficiently and effectively addressing the many risks inherent in electronic communication. With the exponential growth in the use of electronic communication, many businesses are exposed to significant risks every day. These risks range from non-compliance with various regulations, to the leakage of intellectual property, and to inappropriate or offensive employee behavior. Active Policy Management enables a business to accurately detect the violations, to take the appropriate action (even blocking the message from being sent), and to quickly find and review the violation in order to address the situation, preventing further damage.\\nThere are many channels of electronic communication including e-mail, Web-based e-mail, instant messaging, messages sent from a Bloomberg terminal, mobile e-mail sent from a handheld device such as a BlackBerry, general use of a web browser, ftp, file copying (e.g. memory sticks) and many others.\\n\\n\\n== Electronic communication policy ==\\nThe key to effective detection of violations in electronic communication is policy. Policy for electronic communication defines who can send what to whom, and, if a violation is detected, what action to take. A policy is designed to address a specific issue or risk. Examples include:\\nCertain reports cannot be sent externally without a proper disclaimer being present\\nCertain employees cannot communicate about a business matter with other employees\\nDocuments intended for internal use only must not be sent to a recipient who is not a company employee\\nPolicy can only be effective at identifying violations if it can understand the true intent of a message. Policies based only on a list of words or a lexicon generally cannot perform this task.\\nFor any APM solution to be effective, it must have a proven technology to define and deploy accurate policy. And by “proven”, an interested party should inquire as to a particular solution’s successful installation at one or more customers.\\n\\n\\n== Application areas ==\\nAPM has three primary application areas. Real-Time Prevention, Intelligent Review, and Smart Tagging.\\nReal-Time Prevention can detect violations in electronic communication before a message has been sent (and before it has been delivered to an intended recipient). By doing this, a violation is prevented from having occurred. And, in the case where archive software is used, a message that has not been sent will not be ingested by an archive or be retrievable at a later date.\\nIntelligent Review can detect violations in electronic communication after a message has been sent. Intelligent Review also creates extremely targeted queues of messages that have a high likelihood of having violated an important corporate or regulatory policy. A reviewer or supervisor can easily access these relevant messages in order to thoroughly audit them. An audit can include flagging, exporting, approving, rejecting, and escalating a message.\\nSmart Tagging analyzes messages and assigns them to one or more categories. This categorization can be used for selective message archiving, to retain messages based on their content, and to enhance message retrieval for investigative purposes.\\n\\n\\n== Industry relevance ==\\nVirtually all businesses use electronic communication and are exposed to the inherent risks therein. Certain businesses are exposed to more risks than others. Heavily regulated industries such as financial services have a very strong need for APM. Industries where companies have many of their intellectual property assets in digital form would benefit from protecting those assets with APM. Other industries that would benefit from using APM include those where companies are concerned with corporate behavior and governance and those that use archive software to store messages for long periods of time, often for at least 3 years.\\n\\n\\n== See also ==\\nEnterprise software\\nRegulatory compliance\\nE-mail\\nSEC\\nFinancial Industry Regulatory Authority\\nNYSE\\nIntellectual property\\nArchive',\n",
       "  'Active policy management'),\n",
       " (28502793,\n",
       "  'Alexandria is browser based cross-platform library automation software used by thousands of libraries around the world, both public libraries and school libraries. These include the Houston Independent School District, Philadelphia Public Schools, and the Berkeley Unified School District.\\n\\n\\n== History ==\\nCOMPanion Corporation was founded in 1987 by company president Bill Schjelderup in Salt Lake City, Utah.\\n\\n\\n== Version history ==\\nCOMPanion Corp maintains different versions simultaneously, with the most recent and up-to-date version being Alexandria v7.15.3 with plans to release Alexandria v7.16.1 in the summer of 2016. Alexandria v7 was officially released on August 5, 2014. Alexandria v6 is still supported although active development has ceased, with the exception of maintenance updates.\\n\\n\\n== Selected features ==\\nLibrary management\\nMARC cataloging\\nLexile integration\\nSupports reading programs such as Accelerated Reader\\nDue date and policy flexibility\\nThousands of flexible reports\\nZ39.50 Support\\nIntegration with book vendors such as Bound To Stay Bound\\nWeb-based patron interface\\nAccess to third-party databases such as netTrekker\\n\\n\\n== See also ==\\n\\nIntegrated library system\\nLibrary catalog\\n\\n\\n== References ==\\n\\n\\n== External links ==\\nhttp://www.companioncorp.com\\nhttp://www.goalexandria.com\\nhttps://www.facebook.com/alexandrialibrarymanagement',\n",
       "  'Alexandria (library software)'),\n",
       " (44133735,\n",
       "  \"Alteryx is an American computer software company based in Irvine, California, with a development center in Broomfield, Colorado. The company's products are used for data blending and advanced data analytics. Alteryx has a stated goal of enabling advanced analytics to be performed by non-specialists.\\n\\n\\n== History ==\\nSRC LLC, the predecessor to Alteryx, was founded in 1997 by Dean Stoecker, Olivia Duane Adams and Ned Harding. SRC developed the first online data engine for delivering demographic-based mapping and reporting shortly after being founded. In 1998, SRC released Allocate, a data engine incorporating geographically organized U.S. Census data that allows users to manipulate, analyze and map data. Solocast was developed in 1998, which was software that allowed customers to do customer segmentation analysis.\\nIn 2000, SRC LLC entered into a contract with the U.S. Census Bureau that resulted in a modified version of its Allocate software being included on CD-ROMs of Census Data sold by the Bureau.\\nIn 2006, the software product Alteryx was released, which was a unified spatial and non-spatial data environment for building analytical processes and applications.\\nIn 2010, SRC LLC changed its name to that of its core product, Alteryx.\\nIn 2011, Alteryx raised $6 million in venture funding from the Palo Alto investment arm of SAP AG, SAP Ventures. In 2013, Alteryx raised $12 million from SAP Ventures and Toba Capital. In 2014, the company raised $60 million in Round B funding from Insight Venture Partners, SAP Ventures and Toba Capital, and announced plans for a 30% workforce expansion.\\nIn 2015, Iconiq Capital led a $85 million investment in Alteryx, with Insight Venture Partners and Meritech Capital Partners also participating. Alteryx announced plans to use the new capital to expand internationally, invest in research and development, and increase its sales and marketing efforts.\\nAlteryx announced in 2015 a new relationship with Microsoft in order to enable faster and easier data analysis through Power BI.\\nIn 2016, Alteryx was ranked #24 on the Forbes Cloud 100 list.\\nOn March 24, 2017, Alteryx went public launching their IPO at the NYSE.\\n\\n\\n== Products ==\\nAlteryx currently offers three main products: Alteryx Designer, Alteryx Server and Alteryx Connect. Alteryx also hosts a cloud-based website known as the Alteryx Analytics Gallery.\\n\\n\\n== References ==\\n\\n\\n== External links ==\\nAlteryx website\\nAlteryx Analytics Gallery\",\n",
       "  'Alteryx')]"
      ]
     },
     "execution_count": 62,
     "metadata": {},
     "output_type": "execute_result"
    }
   ],
   "source": [
    "content_BS_0[:5]\n"
   ]
  },
  {
   "cell_type": "code",
   "execution_count": 63,
   "metadata": {
    "collapsed": true
   },
   "outputs": [],
   "source": [
    "content_BS_df_0 = pd.DataFrame(content_BS_0, columns= (\"pageid\",\"content\",\"title\"))\n"
   ]
  },
  {
   "cell_type": "code",
   "execution_count": 64,
   "metadata": {},
   "outputs": [
    {
     "data": {
      "text/html": [
       "<div>\n",
       "<table border=\"1\" class=\"dataframe\">\n",
       "  <thead>\n",
       "    <tr style=\"text-align: right;\">\n",
       "      <th></th>\n",
       "      <th>pageid</th>\n",
       "      <th>content</th>\n",
       "      <th>title</th>\n",
       "    </tr>\n",
       "  </thead>\n",
       "  <tbody>\n",
       "    <tr>\n",
       "      <th>0</th>\n",
       "      <td>1037763</td>\n",
       "      <td>Business software or a business application is...</td>\n",
       "      <td>Business software</td>\n",
       "    </tr>\n",
       "    <tr>\n",
       "      <th>1</th>\n",
       "      <td>41270069</td>\n",
       "      <td>AccuSystems LLC is an American company headqua...</td>\n",
       "      <td>AccuSystems</td>\n",
       "    </tr>\n",
       "    <tr>\n",
       "      <th>2</th>\n",
       "      <td>5211212</td>\n",
       "      <td>Active policy management is business-oriented ...</td>\n",
       "      <td>Active policy management</td>\n",
       "    </tr>\n",
       "    <tr>\n",
       "      <th>3</th>\n",
       "      <td>28502793</td>\n",
       "      <td>Alexandria is browser based cross-platform lib...</td>\n",
       "      <td>Alexandria (library software)</td>\n",
       "    </tr>\n",
       "    <tr>\n",
       "      <th>4</th>\n",
       "      <td>44133735</td>\n",
       "      <td>Alteryx is an American computer software compa...</td>\n",
       "      <td>Alteryx</td>\n",
       "    </tr>\n",
       "  </tbody>\n",
       "</table>\n",
       "</div>"
      ],
      "text/plain": [
       "     pageid                                            content  \\\n",
       "0   1037763  Business software or a business application is...   \n",
       "1  41270069  AccuSystems LLC is an American company headqua...   \n",
       "2   5211212  Active policy management is business-oriented ...   \n",
       "3  28502793  Alexandria is browser based cross-platform lib...   \n",
       "4  44133735  Alteryx is an American computer software compa...   \n",
       "\n",
       "                           title  \n",
       "0              Business software  \n",
       "1                    AccuSystems  \n",
       "2       Active policy management  \n",
       "3  Alexandria (library software)  \n",
       "4                        Alteryx  "
      ]
     },
     "execution_count": 64,
     "metadata": {},
     "output_type": "execute_result"
    }
   ],
   "source": [
    "content_BS_df_0.head()\n"
   ]
  },
  {
   "cell_type": "code",
   "execution_count": 65,
   "metadata": {
    "collapsed": true
   },
   "outputs": [],
   "source": [
    "BS_categories_list = BS_df[category_mask_BS]['title'].str.replace(\"Category:\", \"\").tolist()\n"
   ]
  },
  {
   "cell_type": "code",
   "execution_count": 66,
   "metadata": {},
   "outputs": [
    {
     "data": {
      "text/plain": [
       "(32, 4)"
      ]
     },
     "execution_count": 66,
     "metadata": {},
     "output_type": "execute_result"
    }
   ],
   "source": [
    "BS_df[category_mask_BS].shape\n"
   ]
  },
  {
   "cell_type": "code",
   "execution_count": 67,
   "metadata": {},
   "outputs": [
    {
     "data": {
      "text/plain": [
       "32"
      ]
     },
     "execution_count": 67,
     "metadata": {},
     "output_type": "execute_result"
    }
   ],
   "source": [
    "len(BS_categories_list)\n"
   ]
  },
  {
   "cell_type": "code",
   "execution_count": 68,
   "metadata": {
    "collapsed": true
   },
   "outputs": [],
   "source": [
    "cat_df_BS = pd.DataFrame(columns=BS_df.columns)\n",
    "\n",
    "if len(BS_categories_list) > 0:\n",
    "    for cat in BS_categories_list:\n",
    "        cat_list_BS = execute_category_query(cat)\n",
    "         \n",
    "        cat_df_BS = cat_df_BS.append(cat_list_BS)"
   ]
  },
  {
   "cell_type": "code",
   "execution_count": 69,
   "metadata": {},
   "outputs": [
    {
     "data": {
      "text/plain": [
       "(1544, 4)"
      ]
     },
     "execution_count": 69,
     "metadata": {},
     "output_type": "execute_result"
    }
   ],
   "source": [
    "cat_df_BS.shape\n"
   ]
  },
  {
   "cell_type": "code",
   "execution_count": 70,
   "metadata": {
    "collapsed": true
   },
   "outputs": [],
   "source": [
    "cat_df_BS = cat_df_BS.drop_duplicates().reset_index(drop=True)\n"
   ]
  },
  {
   "cell_type": "code",
   "execution_count": 71,
   "metadata": {},
   "outputs": [
    {
     "data": {
      "text/plain": [
       "(1396, 4)"
      ]
     },
     "execution_count": 71,
     "metadata": {},
     "output_type": "execute_result"
    }
   ],
   "source": [
    "cat_df_BS.shape\n"
   ]
  },
  {
   "cell_type": "code",
   "execution_count": 72,
   "metadata": {},
   "outputs": [
    {
     "data": {
      "text/plain": [
       "0.0      1311\n",
       "14.0       77\n",
       "10.0        3\n",
       "2.0         3\n",
       "118.0       2\n",
       "Name: ns, dtype: int64"
      ]
     },
     "execution_count": 72,
     "metadata": {},
     "output_type": "execute_result"
    }
   ],
   "source": [
    "cat_df_BS[\"ns\"].value_counts()\n"
   ]
  },
  {
   "cell_type": "code",
   "execution_count": 73,
   "metadata": {
    "collapsed": true
   },
   "outputs": [],
   "source": [
    "cat_df_BS[\"ns\"] = cat_df_BS[\"ns\"].astype(int)\n"
   ]
  },
  {
   "cell_type": "code",
   "execution_count": 74,
   "metadata": {
    "collapsed": true
   },
   "outputs": [],
   "source": [
    "cat_df_BS[\"pageid\"] = cat_df_BS[\"pageid\"].astype(int)\n"
   ]
  },
  {
   "cell_type": "code",
   "execution_count": 75,
   "metadata": {},
   "outputs": [
    {
     "data": {
      "text/html": [
       "<div>\n",
       "<table border=\"1\" class=\"dataframe\">\n",
       "  <thead>\n",
       "    <tr style=\"text-align: right;\">\n",
       "      <th></th>\n",
       "      <th>ns</th>\n",
       "      <th>pageid</th>\n",
       "      <th>title</th>\n",
       "      <th>type</th>\n",
       "    </tr>\n",
       "  </thead>\n",
       "  <tbody>\n",
       "    <tr>\n",
       "      <th>0</th>\n",
       "      <td>0</td>\n",
       "      <td>26722741</td>\n",
       "      <td>1DayLater</td>\n",
       "      <td>page</td>\n",
       "    </tr>\n",
       "    <tr>\n",
       "      <th>1</th>\n",
       "      <td>0</td>\n",
       "      <td>11595731</td>\n",
       "      <td>Act! CRM</td>\n",
       "      <td>page</td>\n",
       "    </tr>\n",
       "    <tr>\n",
       "      <th>2</th>\n",
       "      <td>0</td>\n",
       "      <td>3277841</td>\n",
       "      <td>Appointment scheduling software</td>\n",
       "      <td>page</td>\n",
       "    </tr>\n",
       "    <tr>\n",
       "      <th>3</th>\n",
       "      <td>0</td>\n",
       "      <td>13589812</td>\n",
       "      <td>Child care management software</td>\n",
       "      <td>page</td>\n",
       "    </tr>\n",
       "    <tr>\n",
       "      <th>4</th>\n",
       "      <td>0</td>\n",
       "      <td>4102341</td>\n",
       "      <td>Church software</td>\n",
       "      <td>page</td>\n",
       "    </tr>\n",
       "  </tbody>\n",
       "</table>\n",
       "</div>"
      ],
      "text/plain": [
       "   ns    pageid                            title  type\n",
       "0   0  26722741                        1DayLater  page\n",
       "1   0  11595731                         Act! CRM  page\n",
       "2   0   3277841  Appointment scheduling software  page\n",
       "3   0  13589812   Child care management software  page\n",
       "4   0   4102341                  Church software  page"
      ]
     },
     "execution_count": 75,
     "metadata": {},
     "output_type": "execute_result"
    }
   ],
   "source": [
    "cat_df_BS.head()\n"
   ]
  },
  {
   "cell_type": "code",
   "execution_count": 76,
   "metadata": {},
   "outputs": [
    {
     "data": {
      "text/plain": [
       "0      1311\n",
       "14       77\n",
       "10        3\n",
       "2         3\n",
       "118       2\n",
       "Name: ns, dtype: int64"
      ]
     },
     "execution_count": 76,
     "metadata": {},
     "output_type": "execute_result"
    }
   ],
   "source": [
    "cat_df_BS[\"ns\"].value_counts()"
   ]
  },
  {
   "cell_type": "code",
   "execution_count": 77,
   "metadata": {
    "collapsed": true
   },
   "outputs": [],
   "source": [
    "category_mask_BS1 = cat_df_BS[\"title\"].str.contains(\"Category:\")\n"
   ]
  },
  {
   "cell_type": "code",
   "execution_count": 78,
   "metadata": {
    "scrolled": true
   },
   "outputs": [
    {
     "data": {
      "text/html": [
       "<div>\n",
       "<table border=\"1\" class=\"dataframe\">\n",
       "  <thead>\n",
       "    <tr style=\"text-align: right;\">\n",
       "      <th></th>\n",
       "      <th>ns</th>\n",
       "      <th>pageid</th>\n",
       "      <th>title</th>\n",
       "      <th>type</th>\n",
       "    </tr>\n",
       "  </thead>\n",
       "  <tbody>\n",
       "    <tr>\n",
       "      <th>20</th>\n",
       "      <td>14</td>\n",
       "      <td>22516736</td>\n",
       "      <td>Category:School-administration software</td>\n",
       "      <td>subcat</td>\n",
       "    </tr>\n",
       "    <tr>\n",
       "      <th>21</th>\n",
       "      <td>14</td>\n",
       "      <td>44406061</td>\n",
       "      <td>Category:Time-tracking software</td>\n",
       "      <td>subcat</td>\n",
       "    </tr>\n",
       "    <tr>\n",
       "      <th>210</th>\n",
       "      <td>14</td>\n",
       "      <td>27721340</td>\n",
       "      <td>Category:Amusement park simulation games</td>\n",
       "      <td>subcat</td>\n",
       "    </tr>\n",
       "    <tr>\n",
       "      <th>211</th>\n",
       "      <td>14</td>\n",
       "      <td>44922677</td>\n",
       "      <td>Category:M.U.L.E.</td>\n",
       "      <td>subcat</td>\n",
       "    </tr>\n",
       "    <tr>\n",
       "      <th>212</th>\n",
       "      <td>14</td>\n",
       "      <td>13216268</td>\n",
       "      <td>Category:Roller coaster games and simulations</td>\n",
       "      <td>subcat</td>\n",
       "    </tr>\n",
       "  </tbody>\n",
       "</table>\n",
       "</div>"
      ],
      "text/plain": [
       "     ns    pageid                                          title    type\n",
       "20   14  22516736        Category:School-administration software  subcat\n",
       "21   14  44406061                Category:Time-tracking software  subcat\n",
       "210  14  27721340       Category:Amusement park simulation games  subcat\n",
       "211  14  44922677                              Category:M.U.L.E.  subcat\n",
       "212  14  13216268  Category:Roller coaster games and simulations  subcat"
      ]
     },
     "execution_count": 78,
     "metadata": {},
     "output_type": "execute_result"
    }
   ],
   "source": [
    "cat_df_BS[category_mask_BS1].head()\n"
   ]
  },
  {
   "cell_type": "code",
   "execution_count": 79,
   "metadata": {},
   "outputs": [
    {
     "data": {
      "text/html": [
       "<div>\n",
       "<table border=\"1\" class=\"dataframe\">\n",
       "  <thead>\n",
       "    <tr style=\"text-align: right;\">\n",
       "      <th></th>\n",
       "      <th>ns</th>\n",
       "      <th>pageid</th>\n",
       "      <th>title</th>\n",
       "      <th>type</th>\n",
       "    </tr>\n",
       "  </thead>\n",
       "  <tbody>\n",
       "    <tr>\n",
       "      <th>20</th>\n",
       "      <td>14</td>\n",
       "      <td>22516736</td>\n",
       "      <td>Category:School-administration software</td>\n",
       "      <td>subcat</td>\n",
       "    </tr>\n",
       "    <tr>\n",
       "      <th>21</th>\n",
       "      <td>14</td>\n",
       "      <td>44406061</td>\n",
       "      <td>Category:Time-tracking software</td>\n",
       "      <td>subcat</td>\n",
       "    </tr>\n",
       "    <tr>\n",
       "      <th>210</th>\n",
       "      <td>14</td>\n",
       "      <td>27721340</td>\n",
       "      <td>Category:Amusement park simulation games</td>\n",
       "      <td>subcat</td>\n",
       "    </tr>\n",
       "    <tr>\n",
       "      <th>211</th>\n",
       "      <td>14</td>\n",
       "      <td>44922677</td>\n",
       "      <td>Category:M.U.L.E.</td>\n",
       "      <td>subcat</td>\n",
       "    </tr>\n",
       "    <tr>\n",
       "      <th>212</th>\n",
       "      <td>14</td>\n",
       "      <td>13216268</td>\n",
       "      <td>Category:Roller coaster games and simulations</td>\n",
       "      <td>subcat</td>\n",
       "    </tr>\n",
       "  </tbody>\n",
       "</table>\n",
       "</div>"
      ],
      "text/plain": [
       "     ns    pageid                                          title    type\n",
       "20   14  22516736        Category:School-administration software  subcat\n",
       "21   14  44406061                Category:Time-tracking software  subcat\n",
       "210  14  27721340       Category:Amusement park simulation games  subcat\n",
       "211  14  44922677                              Category:M.U.L.E.  subcat\n",
       "212  14  13216268  Category:Roller coaster games and simulations  subcat"
      ]
     },
     "execution_count": 79,
     "metadata": {},
     "output_type": "execute_result"
    }
   ],
   "source": [
    "BS_category2 = cat_df_BS[category_mask_BS1]\n",
    "BS_category2.head()"
   ]
  },
  {
   "cell_type": "code",
   "execution_count": 80,
   "metadata": {
    "collapsed": true
   },
   "outputs": [],
   "source": [
    "categories_BS_page = cat_df_BS[~category_mask_BS1]['title'].apply(remove_category)\n"
   ]
  },
  {
   "cell_type": "code",
   "execution_count": 81,
   "metadata": {},
   "outputs": [
    {
     "data": {
      "text/plain": [
       "(1319, 4)"
      ]
     },
     "execution_count": 81,
     "metadata": {},
     "output_type": "execute_result"
    }
   ],
   "source": [
    "cat_df_BS[~category_mask_BS1].shape\n"
   ]
  },
  {
   "cell_type": "code",
   "execution_count": 82,
   "metadata": {},
   "outputs": [
    {
     "data": {
      "text/html": [
       "<div>\n",
       "<table border=\"1\" class=\"dataframe\">\n",
       "  <thead>\n",
       "    <tr style=\"text-align: right;\">\n",
       "      <th></th>\n",
       "      <th>ns</th>\n",
       "      <th>pageid</th>\n",
       "      <th>title</th>\n",
       "      <th>type</th>\n",
       "    </tr>\n",
       "  </thead>\n",
       "  <tbody>\n",
       "    <tr>\n",
       "      <th>0</th>\n",
       "      <td>0</td>\n",
       "      <td>26722741</td>\n",
       "      <td>1DayLater</td>\n",
       "      <td>page</td>\n",
       "    </tr>\n",
       "    <tr>\n",
       "      <th>1</th>\n",
       "      <td>0</td>\n",
       "      <td>11595731</td>\n",
       "      <td>Act! CRM</td>\n",
       "      <td>page</td>\n",
       "    </tr>\n",
       "    <tr>\n",
       "      <th>2</th>\n",
       "      <td>0</td>\n",
       "      <td>3277841</td>\n",
       "      <td>Appointment scheduling software</td>\n",
       "      <td>page</td>\n",
       "    </tr>\n",
       "    <tr>\n",
       "      <th>3</th>\n",
       "      <td>0</td>\n",
       "      <td>13589812</td>\n",
       "      <td>Child care management software</td>\n",
       "      <td>page</td>\n",
       "    </tr>\n",
       "    <tr>\n",
       "      <th>4</th>\n",
       "      <td>0</td>\n",
       "      <td>4102341</td>\n",
       "      <td>Church software</td>\n",
       "      <td>page</td>\n",
       "    </tr>\n",
       "  </tbody>\n",
       "</table>\n",
       "</div>"
      ],
      "text/plain": [
       "   ns    pageid                            title  type\n",
       "0   0  26722741                        1DayLater  page\n",
       "1   0  11595731                         Act! CRM  page\n",
       "2   0   3277841  Appointment scheduling software  page\n",
       "3   0  13589812   Child care management software  page\n",
       "4   0   4102341                  Church software  page"
      ]
     },
     "execution_count": 82,
     "metadata": {},
     "output_type": "execute_result"
    }
   ],
   "source": [
    "BS_pages_df1 = cat_df_BS[~category_mask_BS1]\n",
    "BS_pages_df1.head()"
   ]
  },
  {
   "cell_type": "code",
   "execution_count": 83,
   "metadata": {
    "collapsed": true
   },
   "outputs": [],
   "source": [
    "content_BS = []\n"
   ]
  },
  {
   "cell_type": "code",
   "execution_count": 84,
   "metadata": {
    "collapsed": true
   },
   "outputs": [],
   "source": [
    "not_found = []\n",
    "\n",
    "for pageid in cat_df_BS[~category_mask_BS1][\"pageid\"]:\n",
    "    try:\n",
    "        page =  wikipedia.WikipediaPage(pageid = pageid)\n",
    "        content = page.content\n",
    "        title = page.title\n",
    "        content_BS.append((pageid, content, title))\n",
    "        \n",
    "    except:\n",
    "        not_found.append(pageid)"
   ]
  },
  {
   "cell_type": "code",
   "execution_count": 85,
   "metadata": {},
   "outputs": [
    {
     "data": {
      "text/plain": [
       "[(26722741,\n",
       "  '1DayLater was free, web-based software that was focused on professional invoicing and collaborative working. It was aimed at companies of any size; from solo workers to large business enterprises. The company was closed and customer data returned in October 2013.\\nThe main function of 1DayLater was to help users create Invoices for clients. It could also be used to build Quotes and Estimates, to track time and other expenses, work to budgets, and to track projects. Multiple users could simultaneously work on the same projects together.\\nThe software was developed by two brothers, Paul and David King; after they experienced similar frustrations while working freelance, the brothers wanted to create a product that would let them track time, expenses and business miles in a single online location.\\nPCmag voted 1DayLater as one of the \\'Best Free Software of 2010\\' \\n\\n\\n== History ==\\n1DayLater Ltd was formed in 2009 and had one commercial product of the same name. It remained privately held and located in Newcastle upon Tyne, United Kingdom.\\n\\n\\n== Press ==\\n1DayLater had the following press coverage:\\n- BBC Webscape (July 2010) -  Kate Russell gives her latest selection of the best sites on the World Wide Web\\n- Pcmag (March 2010) -  The best free software of 2010\\n- Lifehacker (February 2010) -  \"A worthy addition to our \\'Top Ten Tips and Tools for Freelancers\\'\"\\n- Gigaom (February 2010) -  Taking a closer look with 1DayLater\\n- The Journal Newspaper (May 2009) -  \"Top Ten Brands of the North East\" (UK)\\n- Techcrunch (January 2009) -  \"A \\'feisty time tracking solution from the North East of England\\'\"\\n\\n\\n== See also ==\\nProductivity\\nList of time tracking software\\nSoftware\\n\\n\\n== References ==\\n\\n\\n== External links ==\\nOfficial site, March 2013 archive',\n",
       "  '1DayLater'),\n",
       " (11595731,\n",
       "  'Act! (previously known as Sage ACT! 2010–2013) is a customer relationship management (CRM) software application which is used to keep track of client and prospect details in a single database that can be shared by multiple users. It integrates with Microsoft Word, Excel, Outlook, Google Contacts, Gmail and other popular applications in order to generate and track communications with the contacts maintained in ACT!. It is developed by Swiftpage and has a user base of over 2.8 million registered users.\\nAct! is available in English (US, UK, Canada, Australia, New Zealand), French, and German, and is sold through international resellers and Act! Certified Consultants.\\n\\n\\n== Software ==\\nAs of 2016, there were three editions of Act!:\\nAct! Pro, which is limited to ten active users and use Microsoft SQL Server 2014 Express.\\nAct! Premium (access via Windows or Web browser) is designed for small to medium-sized businesses, can handle much larger user numbers and can use more scalable editions of SQL.\\nAct! Cloud Essentials, a hosted version of Act! designed for smaller businesses with lighter CRM needs\\nAct! Features include contact, company and opportunity management, a calendar, communication tools, the ability to track prospective customers, \"dashboards\", reports, and the ability to synchronize data from other applications or other Act! users over the web. The software allows multiple users to access the same data simultaneously and can interface with popular word processing, spreadsheet, and email software. It features a variety of \"dashboards\" which are graphical representations of key activity that allows users to spot new business opportunities, and can generate a wide variety of statistical reports.\\nAct! has hundreds of active certified consultants globally. A number of third-party companies develop add-on products using Act!\\'s software development kit that expands the functionality of the software.\\nAct! can be accessed from Windows desktops (XP and later) with local or network shared database; synchronized to laptops or remote officers; Citrix or Remote Desktop; Web browsers (Premium only) with self or SaaS hosting; smartphones and tablets via HTML5 Web (Premium only); smartphones and tablets via sync with Handheld Contact\\n\\n\\n== History ==\\nThe company Conductor Software was founded 1986 in Dallas, Texas, by Pat Sullivan and Mike Muhney. Its product, ACT!, was released in 1987. The original name for the software was Activity Control Technology then Automated Contact Tracking before finally just using the acronym.\\nThe name of the company was changed to Contact Software International, and the company moved out of its original office in the \"mustang building\" in Las Colinas to a building off Freeport Parkway near DFW Airport. Contact Software International was then sold to Symantec Corporation in 1993, who then sold it to SalesLogix (later renamed to Interact Commerce) in 1999. Sage purchased Interact Commerce in 2001, through Best Software, then its North American software division.\\nBeginning with the 2006 version, the name was revised to ACT! by Sage and later changed to Sage ACT!. In 2013, Swiftpage took ownership and re-branded it as Act! The current release is Act! 19. Development now happens in Scottsdale, Arizona, with regional offices in several countries.\\n\\n\\n== See also ==\\n\\nLists of software\\nSales force management system\\nCategory:Customer relationship management software\\n\\n\\n== References ==\\n\\n\\n== External links ==\\nOfficial website\\nLinkedIn Act! Fanatics Group',\n",
       "  'Act! CRM')]"
      ]
     },
     "execution_count": 85,
     "metadata": {},
     "output_type": "execute_result"
    }
   ],
   "source": [
    "content_BS[:2]"
   ]
  },
  {
   "cell_type": "code",
   "execution_count": 86,
   "metadata": {
    "collapsed": true
   },
   "outputs": [],
   "source": [
    "content_BS_df = pd.DataFrame(content_BS, columns= (\"pageid\",\"content\",\"title\"))\n"
   ]
  },
  {
   "cell_type": "code",
   "execution_count": 87,
   "metadata": {},
   "outputs": [
    {
     "data": {
      "text/html": [
       "<div>\n",
       "<table border=\"1\" class=\"dataframe\">\n",
       "  <thead>\n",
       "    <tr style=\"text-align: right;\">\n",
       "      <th></th>\n",
       "      <th>pageid</th>\n",
       "      <th>content</th>\n",
       "      <th>title</th>\n",
       "    </tr>\n",
       "  </thead>\n",
       "  <tbody>\n",
       "    <tr>\n",
       "      <th>0</th>\n",
       "      <td>26722741</td>\n",
       "      <td>1DayLater was free, web-based software that wa...</td>\n",
       "      <td>1DayLater</td>\n",
       "    </tr>\n",
       "    <tr>\n",
       "      <th>1</th>\n",
       "      <td>11595731</td>\n",
       "      <td>Act! (previously known as Sage ACT! 2010–2013)...</td>\n",
       "      <td>Act! CRM</td>\n",
       "    </tr>\n",
       "    <tr>\n",
       "      <th>2</th>\n",
       "      <td>3277841</td>\n",
       "      <td>Appointment scheduling software allows busines...</td>\n",
       "      <td>Appointment scheduling software</td>\n",
       "    </tr>\n",
       "    <tr>\n",
       "      <th>3</th>\n",
       "      <td>13589812</td>\n",
       "      <td>Child care management software also referred t...</td>\n",
       "      <td>Child care management software</td>\n",
       "    </tr>\n",
       "    <tr>\n",
       "      <th>4</th>\n",
       "      <td>4102341</td>\n",
       "      <td>Church software is any type of computer softwa...</td>\n",
       "      <td>Church software</td>\n",
       "    </tr>\n",
       "  </tbody>\n",
       "</table>\n",
       "</div>"
      ],
      "text/plain": [
       "     pageid                                            content  \\\n",
       "0  26722741  1DayLater was free, web-based software that wa...   \n",
       "1  11595731  Act! (previously known as Sage ACT! 2010–2013)...   \n",
       "2   3277841  Appointment scheduling software allows busines...   \n",
       "3  13589812  Child care management software also referred t...   \n",
       "4   4102341  Church software is any type of computer softwa...   \n",
       "\n",
       "                             title  \n",
       "0                        1DayLater  \n",
       "1                         Act! CRM  \n",
       "2  Appointment scheduling software  \n",
       "3   Child care management software  \n",
       "4                  Church software  "
      ]
     },
     "execution_count": 87,
     "metadata": {},
     "output_type": "execute_result"
    }
   ],
   "source": [
    "content_BS_df.head()\n"
   ]
  },
  {
   "cell_type": "code",
   "execution_count": 88,
   "metadata": {
    "collapsed": true
   },
   "outputs": [],
   "source": [
    "all_contents_df = content_BS_df_0.append(content_BS_df, ignore_index= True)\n"
   ]
  },
  {
   "cell_type": "code",
   "execution_count": 89,
   "metadata": {},
   "outputs": [
    {
     "data": {
      "text/plain": [
       "(1607, 3)"
      ]
     },
     "execution_count": 89,
     "metadata": {},
     "output_type": "execute_result"
    }
   ],
   "source": [
    "all_contents_df.shape\n",
    "#why this is dublicate?"
   ]
  },
  {
   "cell_type": "code",
   "execution_count": 90,
   "metadata": {
    "collapsed": true
   },
   "outputs": [],
   "source": [
    "BS_sub_categories_list = cat_df_BS[category_mask_BS1][\"title\"].str.replace(\"Category:\", \"\").tolist()\n"
   ]
  },
  {
   "cell_type": "code",
   "execution_count": 91,
   "metadata": {},
   "outputs": [
    {
     "data": {
      "text/plain": [
       "77"
      ]
     },
     "execution_count": 91,
     "metadata": {},
     "output_type": "execute_result"
    }
   ],
   "source": [
    "len(BS_sub_categories_list)\n",
    "#why the lenth is shorter?"
   ]
  },
  {
   "cell_type": "code",
   "execution_count": 92,
   "metadata": {},
   "outputs": [],
   "source": [
    "sub_cat_df = pd.DataFrame(columns=cat_df_BS.columns)\n",
    "\n",
    "if len(BS_sub_categories_list) > 0:\n",
    "    for cat in BS_sub_categories_list:\n",
    "        sub_cat_list_BS = execute_category_query(cat)\n",
    "        \n",
    "        sub_cat_df = sub_cat_df.append(sub_cat_list_BS)"
   ]
  },
  {
   "cell_type": "code",
   "execution_count": 93,
   "metadata": {},
   "outputs": [
    {
     "data": {
      "text/plain": [
       "(2324, 4)"
      ]
     },
     "execution_count": 93,
     "metadata": {},
     "output_type": "execute_result"
    }
   ],
   "source": [
    "sub_cat_df.shape\n"
   ]
  },
  {
   "cell_type": "code",
   "execution_count": 94,
   "metadata": {
    "collapsed": true
   },
   "outputs": [],
   "source": [
    "sub_cat_df = sub_cat_df.drop_duplicates().reset_index(drop=True)\n"
   ]
  },
  {
   "cell_type": "code",
   "execution_count": 95,
   "metadata": {},
   "outputs": [
    {
     "data": {
      "text/plain": [
       "(1966, 4)"
      ]
     },
     "execution_count": 95,
     "metadata": {},
     "output_type": "execute_result"
    }
   ],
   "source": [
    "sub_cat_df.shape\n"
   ]
  },
  {
   "cell_type": "code",
   "execution_count": 96,
   "metadata": {},
   "outputs": [
    {
     "data": {
      "text/plain": [
       "0.0      1820\n",
       "14.0      132\n",
       "2.0         5\n",
       "6.0         4\n",
       "10.0        4\n",
       "118.0       1\n",
       "Name: ns, dtype: int64"
      ]
     },
     "execution_count": 96,
     "metadata": {},
     "output_type": "execute_result"
    }
   ],
   "source": [
    "sub_cat_df[\"ns\"].value_counts()\n"
   ]
  },
  {
   "cell_type": "code",
   "execution_count": 97,
   "metadata": {
    "collapsed": true
   },
   "outputs": [],
   "source": [
    "category_mask_BS2 = sub_cat_df[\"title\"].str.contains(\"Category:\")\n"
   ]
  },
  {
   "cell_type": "code",
   "execution_count": 98,
   "metadata": {},
   "outputs": [
    {
     "data": {
      "text/html": [
       "<div>\n",
       "<table border=\"1\" class=\"dataframe\">\n",
       "  <thead>\n",
       "    <tr style=\"text-align: right;\">\n",
       "      <th></th>\n",
       "      <th>ns</th>\n",
       "      <th>pageid</th>\n",
       "      <th>title</th>\n",
       "      <th>type</th>\n",
       "    </tr>\n",
       "  </thead>\n",
       "  <tbody>\n",
       "    <tr>\n",
       "      <th>112</th>\n",
       "      <td>14.0</td>\n",
       "      <td>34299255.0</td>\n",
       "      <td>Category:Association football management video...</td>\n",
       "      <td>subcat</td>\n",
       "    </tr>\n",
       "    <tr>\n",
       "      <th>113</th>\n",
       "      <td>14.0</td>\n",
       "      <td>20099866.0</td>\n",
       "      <td>Category:Sports management MMORPGs</td>\n",
       "      <td>subcat</td>\n",
       "    </tr>\n",
       "    <tr>\n",
       "      <th>114</th>\n",
       "      <td>14.0</td>\n",
       "      <td>19738196.0</td>\n",
       "      <td>Category:Sports Mogul</td>\n",
       "      <td>subcat</td>\n",
       "    </tr>\n",
       "    <tr>\n",
       "      <th>151</th>\n",
       "      <td>14.0</td>\n",
       "      <td>14421425.0</td>\n",
       "      <td>Category:Space trading and combat simulators</td>\n",
       "      <td>subcat</td>\n",
       "    </tr>\n",
       "    <tr>\n",
       "      <th>234</th>\n",
       "      <td>14.0</td>\n",
       "      <td>26988907.0</td>\n",
       "      <td>Category:Banking software companies</td>\n",
       "      <td>subcat</td>\n",
       "    </tr>\n",
       "  </tbody>\n",
       "</table>\n",
       "</div>"
      ],
      "text/plain": [
       "       ns      pageid                                              title  \\\n",
       "112  14.0  34299255.0  Category:Association football management video...   \n",
       "113  14.0  20099866.0                 Category:Sports management MMORPGs   \n",
       "114  14.0  19738196.0                              Category:Sports Mogul   \n",
       "151  14.0  14421425.0       Category:Space trading and combat simulators   \n",
       "234  14.0  26988907.0                Category:Banking software companies   \n",
       "\n",
       "       type  \n",
       "112  subcat  \n",
       "113  subcat  \n",
       "114  subcat  \n",
       "151  subcat  \n",
       "234  subcat  "
      ]
     },
     "execution_count": 98,
     "metadata": {},
     "output_type": "execute_result"
    }
   ],
   "source": [
    "BS_category3 = sub_cat_df[category_mask_BS2]\n",
    "BS_category3.head()"
   ]
  },
  {
   "cell_type": "code",
   "execution_count": 99,
   "metadata": {
    "collapsed": true
   },
   "outputs": [],
   "source": [
    "sub_categories_BS_page = sub_cat_df[~category_mask_BS2]['title'].str.replace(\"Category:\",\"\")\n"
   ]
  },
  {
   "cell_type": "code",
   "execution_count": 100,
   "metadata": {},
   "outputs": [
    {
     "data": {
      "text/plain": [
       "(1834, 4)"
      ]
     },
     "execution_count": 100,
     "metadata": {},
     "output_type": "execute_result"
    }
   ],
   "source": [
    "sub_cat_df[~category_mask_BS2].shape"
   ]
  },
  {
   "cell_type": "code",
   "execution_count": 101,
   "metadata": {},
   "outputs": [
    {
     "data": {
      "text/html": [
       "<div>\n",
       "<table border=\"1\" class=\"dataframe\">\n",
       "  <thead>\n",
       "    <tr style=\"text-align: right;\">\n",
       "      <th></th>\n",
       "      <th>ns</th>\n",
       "      <th>pageid</th>\n",
       "      <th>title</th>\n",
       "      <th>type</th>\n",
       "    </tr>\n",
       "  </thead>\n",
       "  <tbody>\n",
       "    <tr>\n",
       "      <th>0</th>\n",
       "      <td>0.0</td>\n",
       "      <td>15549320.0</td>\n",
       "      <td>Automate the Schools</td>\n",
       "      <td>page</td>\n",
       "    </tr>\n",
       "    <tr>\n",
       "      <th>1</th>\n",
       "      <td>0.0</td>\n",
       "      <td>4926702.0</td>\n",
       "      <td>BCeSIS</td>\n",
       "      <td>page</td>\n",
       "    </tr>\n",
       "    <tr>\n",
       "      <th>2</th>\n",
       "      <td>0.0</td>\n",
       "      <td>40247755.0</td>\n",
       "      <td>Education Management Information System</td>\n",
       "      <td>page</td>\n",
       "    </tr>\n",
       "    <tr>\n",
       "      <th>3</th>\n",
       "      <td>0.0</td>\n",
       "      <td>20515903.0</td>\n",
       "      <td>Electronic grade book</td>\n",
       "      <td>page</td>\n",
       "    </tr>\n",
       "    <tr>\n",
       "      <th>4</th>\n",
       "      <td>0.0</td>\n",
       "      <td>24810600.0</td>\n",
       "      <td>Fedena</td>\n",
       "      <td>page</td>\n",
       "    </tr>\n",
       "  </tbody>\n",
       "</table>\n",
       "</div>"
      ],
      "text/plain": [
       "    ns      pageid                                    title  type\n",
       "0  0.0  15549320.0                     Automate the Schools  page\n",
       "1  0.0   4926702.0                                   BCeSIS  page\n",
       "2  0.0  40247755.0  Education Management Information System  page\n",
       "3  0.0  20515903.0                    Electronic grade book  page\n",
       "4  0.0  24810600.0                                   Fedena  page"
      ]
     },
     "execution_count": 101,
     "metadata": {},
     "output_type": "execute_result"
    }
   ],
   "source": [
    "BS_pages_df2 = sub_cat_df[~category_mask_BS2]\n",
    "BS_pages_df2.head()"
   ]
  },
  {
   "cell_type": "code",
   "execution_count": 102,
   "metadata": {
    "collapsed": true
   },
   "outputs": [],
   "source": [
    "content_BS_1 =[]\n"
   ]
  },
  {
   "cell_type": "code",
   "execution_count": 103,
   "metadata": {
    "collapsed": true
   },
   "outputs": [],
   "source": [
    "not_found = []\n",
    "\n",
    "for pageid in sub_cat_df[~category_mask_BS2][\"pageid\"]:\n",
    "    try:\n",
    "        page =  wikipedia.WikipediaPage(pageid = pageid)\n",
    "        content = page.content\n",
    "        title = page.title\n",
    "        content_BS_1.append((pageid, content, title))\n",
    "        \n",
    "    except:\n",
    "        not_found.append(pageid)"
   ]
  },
  {
   "cell_type": "code",
   "execution_count": 104,
   "metadata": {
    "scrolled": false
   },
   "outputs": [
    {
     "data": {
      "text/plain": [
       "[(15549320.0,\n",
       "  \"Automate The Schools (ATS) is the school-based administrative system used by all New York City public schools since 1988. It has many functions, including recording biographical data for all students, handling admissions, discharges, and transfers to other schools, and recording other student-specific data, such as exam scores, grade levels, attendance, and immunization records. It also provides aggregate student and human resources data to school administrators.\\nAccess to the ATS system is strictly limited to school system personnel; however, much of the non-personally identifiable information is available online at the New York City Department of Education website.\\n\\n\\n== Technical details ==\\nThe software was written in under six months using the Computer Corporation of America's Model 204 database management software.\\n\\n\\n== References ==\\n\\n\\n== External links ==\\nNew York City Department of Education website, which contains much of the non-personally identifiable information available in the ATS system\\nGalaxy budget allocations for all public schools\",\n",
       "  'Automate the Schools'),\n",
       " (4926702.0,\n",
       "  'BCeSIS (the British Columbia Enterprise Student Information System) is the implementation of a common student information system by independent schools and school districts of British Columbia, Canada. eSIS is commercial software developed by The Administrative Assistants Ltd of Ontario, Canada, that provides a foundation for a centrally hosted, web accessible student information system.\\n\\n\\n== Background ==\\nThe BCeSIS System is currently hosted by Fujitsu Canada under contract to the British Columbia Ministry of Education. Currently all districts have signed a memorandum of understanding to voluntarily adopt BCeSIS on their own timeline. Support for schools and districts adopting the new system is provided by their own local staff resources in conjunction with Fujitsu Service Desk and the Ministry of Education. The Independent Schools of BC have pooled their resources as a consortium (the iGroup) and implementation/training and support of BCeSIS for Independent and First Nations School is handled by this consortium.\\n\\n\\n== Criticism ==\\n\\n\\n=== Social Criticism ===\\nSome teachers dislike the system, believing it to be a tool of social control, centralizing potentially sensitive private information, and placing important decisions about student education in the hands of unelected committees with no background in education.\\n\\n\\n=== Poor User Interface ===\\nThe system also draws criticism for its archaic user interface. Some screens within the program allow arrow key movement, some functions use icons or multi-level text clicks, others require mouse clicks. The general design was not field tested on its intended users, nor was it tested on multiple browsers, and resulted in a poor user experience. For example, fields containing parent phone numbers only display the part of the number; a mouse click and arrow clicks are required to see the rest. Students lists (a typical class consists of 24–30 students) shows only thirteen names on the screen; one has to scroll down for the rest. Marks entry encounters similar design faults: sideways scrolling within student field-sets are required to access the three types of data typically entered (percent, work habits, comment selection). Combined with a start-up beset with server problems the introduction of BCeSIS was met with sharp anxiety and a call to examine whether the system was worth the $80 million expenditure.\\nBCeSIS requires the use of outdated Java versions, as support for newer versions of Java was never implemented. There are many known serious security issues with the outdated version of Java required to run BCeSIS \\nUsing the Teacher Assistant interface, the teacher has access to the student demographics and contact information as well as details regarding the students\\' performance, programs and special education needs. BCeSIS gathers attendance in the classroom using an electronic attendance checklist and allows both the teacher and the office to share information regarding student absences. In an upcoming release of BCeSIS the province will be implementing a new capability called Parent Assistant that will allow parents to monitor their children\\'s attendance and performance as it is entered into the system.\\n\\n\\n== Media Attention ==\\nBCeSIS drew media attention in September 2010  for slow performance that hampered the efforts of schools to make timetable changes, process student transfers, and complete attendance. With new school district using the service, Fujitsu Service Desk was forced to limit the number of logins and post \"BCeSIS unavailable\" messages during peak usage hours. This compounded the performance issues and resulted in a number of internet parodies, including a re-subtitled scene from the movie Downfall.\\nOn September 19, 2011, The Vancouver Sun reported that the Ministry of Education would be discontinuing use of the BCeSIS software, based on a recommendation by Gartner, Inc, and would likely not have a replacement in place until 2014. The Minister of Education, George Abbott, said that the system had glitches but was still good value for money, and was being replaced largely because the technology was outdated.\\n\\n\\n== Future ==\\nBCeSIS is now being replaced by MyEducationBC. The first schools will be going live in September 2014. More information about implementation of MyEducationBC can be found at: http://sisimplementation.ca/\\n\\n\\n== References ==\\n\\n\\n== External links ==\\nBCeSIS Main Website\\nBCeSIS for Independent Schools\\nMyEducationBC for Independent Schools\\nhttp://fwix.com/vancouver/share/8283773e3f/give_us_back_our_bcesis_money_district_says\\ncreator of the software',\n",
       "  'BCeSIS'),\n",
       " (40247755.0,\n",
       "  'An Educational Management Information System (EMIS) is an institutional service unit producing, managing, and disseminating educational data and information, usually within national Ministry or Department of Education. An EMIS is a repository for data collection, processing, analyzing and reporting of educational information including schools, students, teachers and staff. The EMIS information is used by Ministries of Education, NGOs, researchers, donors and other education stakeholders for research; policy and planning; monitoring and evaluation; and decision making. EMIS information is specifically used to create indicators that monitor the performance of an education system and to manage the distribution and allocation of educational resources and services.\\n\\n\\n== Life cycle ==\\nThe life cycle of EMIS information typically follows an annual process:\\nData Collection – survey instrument design, distribution and collection of data from schools\\nData Processing – organizing, processing, checking and cleaning of data\\nData Analysis – aggregation, calculation and interpretation of data\\nData Reporting – publication and dissemination of information\\nAn EMIS is a key requirement for governments to monitor and evaluate their progress towards the Millennium Development Goals and Education For All targets.\\n\\n\\n== Modules ==\\nWhile EMIS platforms vary in size, scope and capability most systems include the following standard modules:\\nSchools / Institutions\\nStudents / Pupils\\nTeachers / Staff\\nClasses and Grades\\nEnrollments and Graduates\\nBuildings and Infrastructure\\nTextbooks and Resources\\nFinances\\n\\n\\n== Example ==\\nProdigy is a web-based management system that caters multiple school location just from one platform.\\nA platform called OpenEMIS was conceived by UNESCO to be a royalty-free system that can be easily customized to meet the specific needs of member countries.\\nA commercial example of EMIS is GoSchool, a project developed in Argentina.\\nSudoSchool is a cloud-based management system that caters to School Management, Teachers, Parents/Students and Alumni through its various web based modules as well as mobile apps.\\nAn open source Education management information system Project Fedena was implemented by the government of Kerala as Project Sampoorna,\\nAnother commercial example of EMIS is Fedena, \\n\\n\\n== See also ==\\nStudent information system\\nUNESCO\\n\\n\\n== References ==\\n\\n\\n== External links ==\\nSmart Academic System\\nOfficial OpenEMIS site\\nUNESCO\\nCommunity Systems Foundation',\n",
       "  'Education Management Information System'),\n",
       " (20515903.0,\n",
       "  \"An electronic grade book is a teacher's online record of their students' lessons, assignments, progress and grades. An electronic grade book interfaces with a student information system which houses a school district's student records including grades, attendance medical records, transcripts, student schedules and other data. Some electronic grade books make grades, homework and student schedules available online to parents and students.\\nSome examples of services that provide grade books are Gradealyzer, Spiral Universe, QuickSchools.com, and GPA Teacher. All these provide an easy way to update grade book information about each student as well as the ability to quickly and easily transfer this information into the end-of-term report cards.\\nIn 2010 the British Government agency for ICT in education, BECTA, put in place a requirement for report cards for all pupils in the comprehensive school system to have their reports made available to parents online.\\n\\n\\n== See also ==\\nGlobalScholar\\nOnCourse System for Education Grade Book\\n\\n\\n== References ==\",\n",
       "  'Electronic grade book'),\n",
       " (24810600.0,\n",
       "  'Fedena is an open source school management software developed on the Ruby on Rails Framework. It is web 2.0 web application developed by Foradian Technologies. Fedena is cloud based school ERP software used in schools for administration purposes. Fedena is being used by the Education Department of Government of Kerala to automate the system and process of over 15,000 schools in the state and is named as Sampoorna. Fedena is now used in more than 40,000 institutions in the world. For the development and support of Fedena, Foradian won the MIT TR35 2012 India award for innovation in education domain. Fedena Pro is the commercial version of this software and comes with add-on modules or the premium modules.\\nThe open source version of Fedena has not seen updates since version 2.3 in 2013. Developed on Ruby on Rails frame work with MVC architecture. The application is composed of a basic module which satisfies all the necessary requirements of a simple SIS. Fedena is optimized for customization and there are many add on modules which can be installed easily to extend the power and usability. Fedena is currently integrated with Moodle, Google Apps and Tally. Fedena supports multitenant architecture and is used to manage group of institutions. Fedena started the development in June 2009. It is currently in Version 3.5.3 which was released in March 2017.\\nThe Fedena project is owned by Foradian Technologies, an internet engineering company based in Bangalore, India. The company raised $2 million funding from William Bissell, Managing Director of Fabindia in April 2014. Foradian initiated and successfully implemented Fedena in the state of Kerala for all the government schools. The project was named as Sampoorna. The project was implemented in coordination with the Education Department of Government of Kerala, India to automate the system and process of over 15,000 schools in the state.\\n\\n\\n== References ==',\n",
       "  'Fedena')]"
      ]
     },
     "execution_count": 104,
     "metadata": {},
     "output_type": "execute_result"
    }
   ],
   "source": [
    "content_BS_1[:5]"
   ]
  },
  {
   "cell_type": "code",
   "execution_count": 111,
   "metadata": {},
   "outputs": [],
   "source": [
    "content_BS_df_1 = pd.DataFrame(content_BS_1, columns= (\"pageid\",\"content\",\"title\"))\n"
   ]
  },
  {
   "cell_type": "code",
   "execution_count": 112,
   "metadata": {},
   "outputs": [
    {
     "data": {
      "text/html": [
       "<div>\n",
       "<table border=\"1\" class=\"dataframe\">\n",
       "  <thead>\n",
       "    <tr style=\"text-align: right;\">\n",
       "      <th></th>\n",
       "      <th>pageid</th>\n",
       "      <th>content</th>\n",
       "      <th>title</th>\n",
       "    </tr>\n",
       "  </thead>\n",
       "  <tbody>\n",
       "    <tr>\n",
       "      <th>0</th>\n",
       "      <td>15549320.0</td>\n",
       "      <td>Automate The Schools (ATS) is the school-based...</td>\n",
       "      <td>Automate the Schools</td>\n",
       "    </tr>\n",
       "    <tr>\n",
       "      <th>1</th>\n",
       "      <td>4926702.0</td>\n",
       "      <td>BCeSIS (the British Columbia Enterprise Studen...</td>\n",
       "      <td>BCeSIS</td>\n",
       "    </tr>\n",
       "    <tr>\n",
       "      <th>2</th>\n",
       "      <td>40247755.0</td>\n",
       "      <td>An Educational Management Information System (...</td>\n",
       "      <td>Education Management Information System</td>\n",
       "    </tr>\n",
       "    <tr>\n",
       "      <th>3</th>\n",
       "      <td>20515903.0</td>\n",
       "      <td>An electronic grade book is a teacher's online...</td>\n",
       "      <td>Electronic grade book</td>\n",
       "    </tr>\n",
       "    <tr>\n",
       "      <th>4</th>\n",
       "      <td>24810600.0</td>\n",
       "      <td>Fedena is an open source school management sof...</td>\n",
       "      <td>Fedena</td>\n",
       "    </tr>\n",
       "  </tbody>\n",
       "</table>\n",
       "</div>"
      ],
      "text/plain": [
       "       pageid                                            content  \\\n",
       "0  15549320.0  Automate The Schools (ATS) is the school-based...   \n",
       "1   4926702.0  BCeSIS (the British Columbia Enterprise Studen...   \n",
       "2  40247755.0  An Educational Management Information System (...   \n",
       "3  20515903.0  An electronic grade book is a teacher's online...   \n",
       "4  24810600.0  Fedena is an open source school management sof...   \n",
       "\n",
       "                                     title  \n",
       "0                     Automate the Schools  \n",
       "1                                   BCeSIS  \n",
       "2  Education Management Information System  \n",
       "3                    Electronic grade book  \n",
       "4                                   Fedena  "
      ]
     },
     "execution_count": 112,
     "metadata": {},
     "output_type": "execute_result"
    }
   ],
   "source": [
    "content_BS_df_1.head()\n"
   ]
  },
  {
   "cell_type": "code",
   "execution_count": 114,
   "metadata": {},
   "outputs": [],
   "source": [
    "all_contents_df = all_contents_df.append(content_BS_df_1, ignore_index= True)\n"
   ]
  },
  {
   "cell_type": "code",
   "execution_count": 115,
   "metadata": {},
   "outputs": [
    {
     "data": {
      "text/plain": [
       "(3429, 3)"
      ]
     },
     "execution_count": 115,
     "metadata": {},
     "output_type": "execute_result"
    }
   ],
   "source": [
    "all_contents_df.shape\n"
   ]
  },
  {
   "cell_type": "code",
   "execution_count": 116,
   "metadata": {
    "collapsed": true
   },
   "outputs": [],
   "source": [
    "all_contents_df[\"category\"] = \"Business_Software\"\n"
   ]
  },
  {
   "cell_type": "code",
   "execution_count": 117,
   "metadata": {},
   "outputs": [
    {
     "data": {
      "text/html": [
       "<div>\n",
       "<table border=\"1\" class=\"dataframe\">\n",
       "  <thead>\n",
       "    <tr style=\"text-align: right;\">\n",
       "      <th></th>\n",
       "      <th>pageid</th>\n",
       "      <th>content</th>\n",
       "      <th>title</th>\n",
       "      <th>category</th>\n",
       "    </tr>\n",
       "  </thead>\n",
       "  <tbody>\n",
       "    <tr>\n",
       "      <th>0</th>\n",
       "      <td>1037763.0</td>\n",
       "      <td>Business software or a business application is...</td>\n",
       "      <td>Business software</td>\n",
       "      <td>Business_Software</td>\n",
       "    </tr>\n",
       "    <tr>\n",
       "      <th>1</th>\n",
       "      <td>41270069.0</td>\n",
       "      <td>AccuSystems LLC is an American company headqua...</td>\n",
       "      <td>AccuSystems</td>\n",
       "      <td>Business_Software</td>\n",
       "    </tr>\n",
       "    <tr>\n",
       "      <th>2</th>\n",
       "      <td>5211212.0</td>\n",
       "      <td>Active policy management is business-oriented ...</td>\n",
       "      <td>Active policy management</td>\n",
       "      <td>Business_Software</td>\n",
       "    </tr>\n",
       "    <tr>\n",
       "      <th>3</th>\n",
       "      <td>28502793.0</td>\n",
       "      <td>Alexandria is browser based cross-platform lib...</td>\n",
       "      <td>Alexandria (library software)</td>\n",
       "      <td>Business_Software</td>\n",
       "    </tr>\n",
       "    <tr>\n",
       "      <th>4</th>\n",
       "      <td>44133735.0</td>\n",
       "      <td>Alteryx is an American computer software compa...</td>\n",
       "      <td>Alteryx</td>\n",
       "      <td>Business_Software</td>\n",
       "    </tr>\n",
       "  </tbody>\n",
       "</table>\n",
       "</div>"
      ],
      "text/plain": [
       "       pageid                                            content  \\\n",
       "0   1037763.0  Business software or a business application is...   \n",
       "1  41270069.0  AccuSystems LLC is an American company headqua...   \n",
       "2   5211212.0  Active policy management is business-oriented ...   \n",
       "3  28502793.0  Alexandria is browser based cross-platform lib...   \n",
       "4  44133735.0  Alteryx is an American computer software compa...   \n",
       "\n",
       "                           title           category  \n",
       "0              Business software  Business_Software  \n",
       "1                    AccuSystems  Business_Software  \n",
       "2       Active policy management  Business_Software  \n",
       "3  Alexandria (library software)  Business_Software  \n",
       "4                        Alteryx  Business_Software  "
      ]
     },
     "execution_count": 117,
     "metadata": {},
     "output_type": "execute_result"
    }
   ],
   "source": [
    "all_contents_df.head()\n"
   ]
  },
  {
   "cell_type": "code",
   "execution_count": 118,
   "metadata": {},
   "outputs": [
    {
     "data": {
      "text/plain": [
       "(3429, 4)"
      ]
     },
     "execution_count": 118,
     "metadata": {},
     "output_type": "execute_result"
    }
   ],
   "source": [
    "all_contents_df.shape\n"
   ]
  },
  {
   "cell_type": "code",
   "execution_count": 119,
   "metadata": {
    "collapsed": true
   },
   "outputs": [],
   "source": [
    "all_contents_df_drop= all_contents_df.drop_duplicates(subset=[\"pageid\"], keep=\"first\")\n"
   ]
  },
  {
   "cell_type": "code",
   "execution_count": 120,
   "metadata": {},
   "outputs": [
    {
     "data": {
      "text/plain": [
       "(3028, 4)"
      ]
     },
     "execution_count": 120,
     "metadata": {},
     "output_type": "execute_result"
    }
   ],
   "source": [
    "all_contents_df_drop.shape\n"
   ]
  },
  {
   "cell_type": "code",
   "execution_count": 121,
   "metadata": {},
   "outputs": [
    {
     "data": {
      "text/html": [
       "<div>\n",
       "<table border=\"1\" class=\"dataframe\">\n",
       "  <thead>\n",
       "    <tr style=\"text-align: right;\">\n",
       "      <th></th>\n",
       "      <th>pageid</th>\n",
       "      <th>content</th>\n",
       "      <th>title</th>\n",
       "      <th>category</th>\n",
       "    </tr>\n",
       "  </thead>\n",
       "  <tbody>\n",
       "    <tr>\n",
       "      <th>0</th>\n",
       "      <td>1037763.0</td>\n",
       "      <td>Business software or a business application is...</td>\n",
       "      <td>Business software</td>\n",
       "      <td>Business_Software</td>\n",
       "    </tr>\n",
       "    <tr>\n",
       "      <th>1</th>\n",
       "      <td>41270069.0</td>\n",
       "      <td>AccuSystems LLC is an American company headqua...</td>\n",
       "      <td>AccuSystems</td>\n",
       "      <td>Business_Software</td>\n",
       "    </tr>\n",
       "    <tr>\n",
       "      <th>2</th>\n",
       "      <td>5211212.0</td>\n",
       "      <td>Active policy management is business-oriented ...</td>\n",
       "      <td>Active policy management</td>\n",
       "      <td>Business_Software</td>\n",
       "    </tr>\n",
       "    <tr>\n",
       "      <th>3</th>\n",
       "      <td>28502793.0</td>\n",
       "      <td>Alexandria is browser based cross-platform lib...</td>\n",
       "      <td>Alexandria (library software)</td>\n",
       "      <td>Business_Software</td>\n",
       "    </tr>\n",
       "    <tr>\n",
       "      <th>4</th>\n",
       "      <td>44133735.0</td>\n",
       "      <td>Alteryx is an American computer software compa...</td>\n",
       "      <td>Alteryx</td>\n",
       "      <td>Business_Software</td>\n",
       "    </tr>\n",
       "  </tbody>\n",
       "</table>\n",
       "</div>"
      ],
      "text/plain": [
       "       pageid                                            content  \\\n",
       "0   1037763.0  Business software or a business application is...   \n",
       "1  41270069.0  AccuSystems LLC is an American company headqua...   \n",
       "2   5211212.0  Active policy management is business-oriented ...   \n",
       "3  28502793.0  Alexandria is browser based cross-platform lib...   \n",
       "4  44133735.0  Alteryx is an American computer software compa...   \n",
       "\n",
       "                           title           category  \n",
       "0              Business software  Business_Software  \n",
       "1                    AccuSystems  Business_Software  \n",
       "2       Active policy management  Business_Software  \n",
       "3  Alexandria (library software)  Business_Software  \n",
       "4                        Alteryx  Business_Software  "
      ]
     },
     "execution_count": 121,
     "metadata": {},
     "output_type": "execute_result"
    }
   ],
   "source": [
    "all_contents_df_drop.head()\n"
   ]
  },
  {
   "cell_type": "code",
   "execution_count": 122,
   "metadata": {
    "collapsed": true
   },
   "outputs": [],
   "source": [
    "all_contents_df = all_contents_df_drop\n"
   ]
  },
  {
   "cell_type": "code",
   "execution_count": 123,
   "metadata": {},
   "outputs": [
    {
     "data": {
      "text/plain": [
       "(3028, 4)"
      ]
     },
     "execution_count": 123,
     "metadata": {},
     "output_type": "execute_result"
    }
   ],
   "source": [
    "all_contents_df.shape\n"
   ]
  },
  {
   "cell_type": "code",
   "execution_count": 127,
   "metadata": {},
   "outputs": [],
   "source": [
    "all_contents_df2 = all_contents_df.append(content_ML_df, ignore_index= True)\n"
   ]
  },
  {
   "cell_type": "code",
   "execution_count": 128,
   "metadata": {},
   "outputs": [
    {
     "data": {
      "text/plain": [
       "(4130, 4)"
      ]
     },
     "execution_count": 128,
     "metadata": {},
     "output_type": "execute_result"
    }
   ],
   "source": [
    "all_contents_df2.shape\n"
   ]
  },
  {
   "cell_type": "code",
   "execution_count": 129,
   "metadata": {
    "collapsed": true
   },
   "outputs": [],
   "source": [
    "all_contents_df2[\"pageid\"] = all_contents_df2[\"pageid\"].astype(int)\n"
   ]
  },
  {
   "cell_type": "code",
   "execution_count": 130,
   "metadata": {},
   "outputs": [
    {
     "data": {
      "text/html": [
       "<div>\n",
       "<table border=\"1\" class=\"dataframe\">\n",
       "  <thead>\n",
       "    <tr style=\"text-align: right;\">\n",
       "      <th></th>\n",
       "      <th>pageid</th>\n",
       "      <th>content</th>\n",
       "      <th>title</th>\n",
       "      <th>category</th>\n",
       "    </tr>\n",
       "  </thead>\n",
       "  <tbody>\n",
       "    <tr>\n",
       "      <th>0</th>\n",
       "      <td>1037763</td>\n",
       "      <td>Business software or a business application is...</td>\n",
       "      <td>Business software</td>\n",
       "      <td>Business_Software</td>\n",
       "    </tr>\n",
       "    <tr>\n",
       "      <th>1</th>\n",
       "      <td>41270069</td>\n",
       "      <td>AccuSystems LLC is an American company headqua...</td>\n",
       "      <td>AccuSystems</td>\n",
       "      <td>Business_Software</td>\n",
       "    </tr>\n",
       "    <tr>\n",
       "      <th>2</th>\n",
       "      <td>5211212</td>\n",
       "      <td>Active policy management is business-oriented ...</td>\n",
       "      <td>Active policy management</td>\n",
       "      <td>Business_Software</td>\n",
       "    </tr>\n",
       "    <tr>\n",
       "      <th>3</th>\n",
       "      <td>28502793</td>\n",
       "      <td>Alexandria is browser based cross-platform lib...</td>\n",
       "      <td>Alexandria (library software)</td>\n",
       "      <td>Business_Software</td>\n",
       "    </tr>\n",
       "    <tr>\n",
       "      <th>4</th>\n",
       "      <td>44133735</td>\n",
       "      <td>Alteryx is an American computer software compa...</td>\n",
       "      <td>Alteryx</td>\n",
       "      <td>Business_Software</td>\n",
       "    </tr>\n",
       "  </tbody>\n",
       "</table>\n",
       "</div>"
      ],
      "text/plain": [
       "     pageid                                            content  \\\n",
       "0   1037763  Business software or a business application is...   \n",
       "1  41270069  AccuSystems LLC is an American company headqua...   \n",
       "2   5211212  Active policy management is business-oriented ...   \n",
       "3  28502793  Alexandria is browser based cross-platform lib...   \n",
       "4  44133735  Alteryx is an American computer software compa...   \n",
       "\n",
       "                           title           category  \n",
       "0              Business software  Business_Software  \n",
       "1                    AccuSystems  Business_Software  \n",
       "2       Active policy management  Business_Software  \n",
       "3  Alexandria (library software)  Business_Software  \n",
       "4                        Alteryx  Business_Software  "
      ]
     },
     "execution_count": 130,
     "metadata": {},
     "output_type": "execute_result"
    }
   ],
   "source": [
    "all_contents_df2.head()\n"
   ]
  },
  {
   "cell_type": "code",
   "execution_count": 131,
   "metadata": {
    "collapsed": true
   },
   "outputs": [],
   "source": [
    "all_BS_category1 = BS_category1.append(BS_category2)\n",
    "all_BS_category1 = all_BS_category1.append(BS_category3)\n",
    "all_BS_category1[\"category\"] = \"Business_Software\""
   ]
  },
  {
   "cell_type": "code",
   "execution_count": 132,
   "metadata": {},
   "outputs": [
    {
     "data": {
      "text/html": [
       "<div>\n",
       "<table border=\"1\" class=\"dataframe\">\n",
       "  <thead>\n",
       "    <tr style=\"text-align: right;\">\n",
       "      <th></th>\n",
       "      <th>title</th>\n",
       "      <th>category</th>\n",
       "    </tr>\n",
       "  </thead>\n",
       "  <tbody>\n",
       "    <tr>\n",
       "      <th>296</th>\n",
       "      <td>Category:Administrative software</td>\n",
       "      <td>Business_Software</td>\n",
       "    </tr>\n",
       "    <tr>\n",
       "      <th>297</th>\n",
       "      <td>Category:Business simulation games</td>\n",
       "      <td>Business_Software</td>\n",
       "    </tr>\n",
       "    <tr>\n",
       "      <th>298</th>\n",
       "      <td>Category:Business software companies</td>\n",
       "      <td>Business_Software</td>\n",
       "    </tr>\n",
       "    <tr>\n",
       "      <th>299</th>\n",
       "      <td>Category:Business software for Linux</td>\n",
       "      <td>Business_Software</td>\n",
       "    </tr>\n",
       "    <tr>\n",
       "      <th>300</th>\n",
       "      <td>Category:Business software for MacOS</td>\n",
       "      <td>Business_Software</td>\n",
       "    </tr>\n",
       "  </tbody>\n",
       "</table>\n",
       "</div>"
      ],
      "text/plain": [
       "                                    title           category\n",
       "296      Category:Administrative software  Business_Software\n",
       "297    Category:Business simulation games  Business_Software\n",
       "298  Category:Business software companies  Business_Software\n",
       "299  Category:Business software for Linux  Business_Software\n",
       "300  Category:Business software for MacOS  Business_Software"
      ]
     },
     "execution_count": 132,
     "metadata": {},
     "output_type": "execute_result"
    }
   ],
   "source": [
    "all_BS_category1 = all_BS_category1[[\"title\",\"category\"]]\n",
    "all_BS_category1.head()"
   ]
  },
  {
   "cell_type": "code",
   "execution_count": 133,
   "metadata": {},
   "outputs": [
    {
     "data": {
      "text/html": [
       "<div>\n",
       "<table border=\"1\" class=\"dataframe\">\n",
       "  <thead>\n",
       "    <tr style=\"text-align: right;\">\n",
       "      <th></th>\n",
       "      <th>title</th>\n",
       "      <th>category</th>\n",
       "    </tr>\n",
       "  </thead>\n",
       "  <tbody>\n",
       "    <tr>\n",
       "      <th>200</th>\n",
       "      <td>Category:Applied machine learning</td>\n",
       "      <td>Machine_Learning</td>\n",
       "    </tr>\n",
       "    <tr>\n",
       "      <th>201</th>\n",
       "      <td>Category:Artificial neural networks</td>\n",
       "      <td>Machine_Learning</td>\n",
       "    </tr>\n",
       "    <tr>\n",
       "      <th>202</th>\n",
       "      <td>Category:Bayesian networks</td>\n",
       "      <td>Machine_Learning</td>\n",
       "    </tr>\n",
       "    <tr>\n",
       "      <th>203</th>\n",
       "      <td>Category:Classification algorithms</td>\n",
       "      <td>Machine_Learning</td>\n",
       "    </tr>\n",
       "    <tr>\n",
       "      <th>204</th>\n",
       "      <td>Category:Cluster analysis</td>\n",
       "      <td>Machine_Learning</td>\n",
       "    </tr>\n",
       "  </tbody>\n",
       "</table>\n",
       "</div>"
      ],
      "text/plain": [
       "                                   title          category\n",
       "200    Category:Applied machine learning  Machine_Learning\n",
       "201  Category:Artificial neural networks  Machine_Learning\n",
       "202           Category:Bayesian networks  Machine_Learning\n",
       "203   Category:Classification algorithms  Machine_Learning\n",
       "204            Category:Cluster analysis  Machine_Learning"
      ]
     },
     "execution_count": 133,
     "metadata": {},
     "output_type": "execute_result"
    }
   ],
   "source": [
    "ML_category.head()\n"
   ]
  },
  {
   "cell_type": "code",
   "execution_count": 134,
   "metadata": {},
   "outputs": [
    {
     "data": {
      "text/plain": [
       "(271, 2)"
      ]
     },
     "execution_count": 134,
     "metadata": {},
     "output_type": "execute_result"
    }
   ],
   "source": [
    "all_categories_1 =  all_BS_category1.append(ML_category ,ignore_index= True)\n",
    "all_categories_1.shape"
   ]
  },
  {
   "cell_type": "code",
   "execution_count": 135,
   "metadata": {
    "scrolled": true
   },
   "outputs": [
    {
     "data": {
      "text/html": [
       "<div>\n",
       "<table border=\"1\" class=\"dataframe\">\n",
       "  <thead>\n",
       "    <tr style=\"text-align: right;\">\n",
       "      <th></th>\n",
       "      <th>title</th>\n",
       "      <th>category</th>\n",
       "    </tr>\n",
       "  </thead>\n",
       "  <tbody>\n",
       "    <tr>\n",
       "      <th>0</th>\n",
       "      <td>Category:Administrative software</td>\n",
       "      <td>Business_Software</td>\n",
       "    </tr>\n",
       "    <tr>\n",
       "      <th>1</th>\n",
       "      <td>Category:Business simulation games</td>\n",
       "      <td>Business_Software</td>\n",
       "    </tr>\n",
       "    <tr>\n",
       "      <th>2</th>\n",
       "      <td>Category:Business software companies</td>\n",
       "      <td>Business_Software</td>\n",
       "    </tr>\n",
       "    <tr>\n",
       "      <th>3</th>\n",
       "      <td>Category:Business software for Linux</td>\n",
       "      <td>Business_Software</td>\n",
       "    </tr>\n",
       "    <tr>\n",
       "      <th>4</th>\n",
       "      <td>Category:Business software for MacOS</td>\n",
       "      <td>Business_Software</td>\n",
       "    </tr>\n",
       "  </tbody>\n",
       "</table>\n",
       "</div>"
      ],
      "text/plain": [
       "                                  title           category\n",
       "0      Category:Administrative software  Business_Software\n",
       "1    Category:Business simulation games  Business_Software\n",
       "2  Category:Business software companies  Business_Software\n",
       "3  Category:Business software for Linux  Business_Software\n",
       "4  Category:Business software for MacOS  Business_Software"
      ]
     },
     "execution_count": 135,
     "metadata": {},
     "output_type": "execute_result"
    }
   ],
   "source": [
    "all_categories_1.head()\n"
   ]
  },
  {
   "cell_type": "markdown",
   "metadata": {},
   "source": [
    "## Contents .csv"
   ]
  },
  {
   "cell_type": "code",
   "execution_count": 136,
   "metadata": {
    "collapsed": true
   },
   "outputs": [],
   "source": [
    "all_contents_df2.to_csv(\"contents.csv\", index= False)\n"
   ]
  },
  {
   "cell_type": "code",
   "execution_count": null,
   "metadata": {
    "collapsed": true
   },
   "outputs": [],
   "source": []
  }
 ],
 "metadata": {
  "kernelspec": {
   "display_name": "Python 3",
   "language": "python",
   "name": "python3"
  },
  "language_info": {
   "codemirror_mode": {
    "name": "ipython",
    "version": 3
   },
   "file_extension": ".py",
   "mimetype": "text/x-python",
   "name": "python",
   "nbconvert_exporter": "python",
   "pygments_lexer": "ipython3",
   "version": "3.6.2"
  }
 },
 "nbformat": 4,
 "nbformat_minor": 2
}
